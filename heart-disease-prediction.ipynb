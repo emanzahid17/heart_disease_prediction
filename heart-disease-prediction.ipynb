{
 "cells": [
  {
   "cell_type": "markdown",
   "metadata": {},
   "source": [
    "# **Heart Disease Dataset**"
   ]
  },
  {
   "cell_type": "markdown",
   "metadata": {},
   "source": [
    "# **Introduction**\n",
    "\n",
    " **Author: [Eman Zahid](https://www.linkedin.com/in/eman-zahid-b384a6300?)** \\\n",
    " **Dataset: [Heart Disease Diagnosis](https://www.kaggle.com/datasets/redwankarimsony/heart-disease-data)**"
   ]
  },
  {
   "cell_type": "markdown",
   "metadata": {},
   "source": [
    "## **Meta Data** "
   ]
  },
  {
   "cell_type": "markdown",
   "metadata": {},
   "source": [
    "This dataset is multivariate, featuring a wide range of statistical and mathematical variables ideal for numerical data analysis. It comprises 14 key attributes including age, sex, chest pain type, resting blood pressure, serum cholesterol, fasting blood sugar, resting electrocardiographic results, maximum heart rate, exercise-induced angina, ST depression (oldpeak), the slope of the ST segment, number of major vessels, and Thalassemia. Although the full database contains 76 attributes, most studies focus on a subset of these 14 features. The Cleveland database is a primary source for machine learning research in predicting heart disease. The main objective is to determine whether a patient has heart disease based on these features, with further analysis offering insights into diagnosing cardiovascular conditions.\n",
    "\n",
    "**Column Descriptions:**\n",
    "\n",
    "* id: Unique identifier for each patient\n",
    "* age: Age of the patient (in years)\n",
    "* origin: Location of the study\n",
    "* sex: Gender of the patient (Male/Female)\n",
    "* cp: Type of chest pain (typical angina, atypical angina, non-anginal, asymptomatic)\n",
    "* trestbps: Resting blood pressure (in mm Hg at hospital admission)\n",
    "* chol: Serum cholesterol level (in mg/dl)\n",
    "* fbs: Fasting blood sugar (>120 mg/dl, True/False)\n",
    "* restecg: Resting electrocardiographic results (normal, ST-T abnormality, left ventricular hypertrophy)\n",
    "* thalach: Maximum heart rate achieved\n",
    "* exang: Exercise-induced angina (Yes/No)\n",
    "* oldpeak: ST depression induced by exercise relative to rest\n",
    "* slope: Slope of the peak exercise ST segment\n",
    "* ca: Number of major vessels (0-3) identified via fluoroscopy\n",
    "* thal: Thalassemia type (normal, fixed defect, reversible defect)\n",
    "* num: Diagnosis outcome (0 indicates no presence of heart disease)\n",
    "\n",
    "\n",
    "### **Acknowledgements:**\n",
    "\n",
    "The dataset was created with contributions from multiple medical institutions:\n",
    "\n",
    "* Hungarian Institute of Cardiology, Budapest: Andras Janosi, M.D.\n",
    "* University Hospital, Zurich, Switzerland: William Steinbrunn, M.D.\n",
    "* University Hospital, Basel, Switzerland: Matthias Pfisterer, M.D.\n",
    "* V.A. Medical Center, Long Beach and Cleveland Clinic Foundation: Robert Detrano, M.D., Ph.D.\n",
    "\n",
    "### **Relevant Research Papers:**\n",
    "\n",
    "* Detrano, R. et al. (1989). International application of a new probability algorithm for the diagnosis of coronary artery disease. American Journal of Cardiology, 64, 304-310.\n",
    "* Aha, D. W., & Kibler, D. Instance-based prediction of heart-disease presence with the Cleveland database.\n",
    "* Gennari, J.H., Langley, P., & Fisher, D. (1989). Models of incremental concept formation. Artificial Intelligence, 40, 11-61."
   ]
  },
  {
   "cell_type": "markdown",
   "metadata": {},
   "source": [
    "# **Aims and Objectives**"
   ]
  },
  {
   "cell_type": "markdown",
   "metadata": {},
   "source": [
    "# **Initial Steps**\n",
    "## **Import the Libraries** \n",
    "Let's start this project by importing the libraries, we'll need in this project."
   ]
  },
  {
   "cell_type": "code",
   "execution_count": 581,
   "metadata": {
    "execution": {
     "iopub.execute_input": "2024-11-22T20:16:00.073727Z",
     "iopub.status.busy": "2024-11-22T20:16:00.073287Z",
     "iopub.status.idle": "2024-11-22T20:16:00.082455Z",
     "shell.execute_reply": "2024-11-22T20:16:00.081103Z",
     "shell.execute_reply.started": "2024-11-22T20:16:00.073681Z"
    },
    "trusted": true
   },
   "outputs": [],
   "source": [
    "#import libraries\n",
    "\n",
    "#1. to handle the data\n",
    "import pandas as pd\n",
    "import numpy as np\n",
    "#2. to visualize the data\n",
    "import matplotlib.pyplot as plt\n",
    "import seaborn as sns\n",
    "import plotly.express as px\n",
    "#3. to pre-process the data\n",
    "from sklearn.preprocessing import StandardScaler, MinMaxScaler, LabelEncoder, OneHotEncoder\n",
    "from sklearn.impute import SimpleImputer,KNNImputer\n",
    "#import iterative imputer\n",
    "from sklearn.experimental import enable_iterative_imputer\n",
    "from sklearn.impute import IterativeImputer \n",
    "#4. to train the model in ML\n",
    "from sklearn.model_selection import train_test_split,GridSearchCV,cross_val_score \n",
    "#5. for classification tasks\n",
    "from sklearn.linear_model import LogisticRegression\n",
    "from sklearn.neighbors import KNeighborsClassifier\n",
    "from sklearn.tree import DecisionTreeClassifier\n",
    "from sklearn.ensemble import RandomForestClassifier,AdaBoostClassifier,GradientBoostingClassifier \n",
    "from sklearn.svm import SVC\n",
    "from xgboost import XGBClassifier\n",
    "#5a. metrics\n",
    "from sklearn.metrics import accuracy_score,confusion_matrix,classification_report\n",
    "\n",
    "\n",
    "\n",
    "#ignore warnings\n",
    "import warnings\n",
    "warnings.filterwarnings('ignore')\n"
   ]
  },
  {
   "cell_type": "markdown",
   "metadata": {},
   "source": [
    "## **Load the Dataset**\n"
   ]
  },
  {
   "cell_type": "code",
   "execution_count": 582,
   "metadata": {
    "execution": {
     "iopub.execute_input": "2024-11-22T20:16:00.103622Z",
     "iopub.status.busy": "2024-11-22T20:16:00.103192Z",
     "iopub.status.idle": "2024-11-22T20:16:00.134569Z",
     "shell.execute_reply": "2024-11-22T20:16:00.133138Z",
     "shell.execute_reply.started": "2024-11-22T20:16:00.103579Z"
    },
    "trusted": true
   },
   "outputs": [
    {
     "data": {
      "text/html": [
       "<div>\n",
       "<style scoped>\n",
       "    .dataframe tbody tr th:only-of-type {\n",
       "        vertical-align: middle;\n",
       "    }\n",
       "\n",
       "    .dataframe tbody tr th {\n",
       "        vertical-align: top;\n",
       "    }\n",
       "\n",
       "    .dataframe thead th {\n",
       "        text-align: right;\n",
       "    }\n",
       "</style>\n",
       "<table border=\"1\" class=\"dataframe\">\n",
       "  <thead>\n",
       "    <tr style=\"text-align: right;\">\n",
       "      <th></th>\n",
       "      <th>id</th>\n",
       "      <th>age</th>\n",
       "      <th>sex</th>\n",
       "      <th>dataset</th>\n",
       "      <th>cp</th>\n",
       "      <th>trestbps</th>\n",
       "      <th>chol</th>\n",
       "      <th>fbs</th>\n",
       "      <th>restecg</th>\n",
       "      <th>thalch</th>\n",
       "      <th>exang</th>\n",
       "      <th>oldpeak</th>\n",
       "      <th>slope</th>\n",
       "      <th>ca</th>\n",
       "      <th>thal</th>\n",
       "      <th>num</th>\n",
       "    </tr>\n",
       "  </thead>\n",
       "  <tbody>\n",
       "    <tr>\n",
       "      <th>0</th>\n",
       "      <td>1</td>\n",
       "      <td>63</td>\n",
       "      <td>Male</td>\n",
       "      <td>Cleveland</td>\n",
       "      <td>typical angina</td>\n",
       "      <td>145.0</td>\n",
       "      <td>233.0</td>\n",
       "      <td>True</td>\n",
       "      <td>lv hypertrophy</td>\n",
       "      <td>150.0</td>\n",
       "      <td>False</td>\n",
       "      <td>2.3</td>\n",
       "      <td>downsloping</td>\n",
       "      <td>0.0</td>\n",
       "      <td>fixed defect</td>\n",
       "      <td>0</td>\n",
       "    </tr>\n",
       "    <tr>\n",
       "      <th>1</th>\n",
       "      <td>2</td>\n",
       "      <td>67</td>\n",
       "      <td>Male</td>\n",
       "      <td>Cleveland</td>\n",
       "      <td>asymptomatic</td>\n",
       "      <td>160.0</td>\n",
       "      <td>286.0</td>\n",
       "      <td>False</td>\n",
       "      <td>lv hypertrophy</td>\n",
       "      <td>108.0</td>\n",
       "      <td>True</td>\n",
       "      <td>1.5</td>\n",
       "      <td>flat</td>\n",
       "      <td>3.0</td>\n",
       "      <td>normal</td>\n",
       "      <td>2</td>\n",
       "    </tr>\n",
       "    <tr>\n",
       "      <th>2</th>\n",
       "      <td>3</td>\n",
       "      <td>67</td>\n",
       "      <td>Male</td>\n",
       "      <td>Cleveland</td>\n",
       "      <td>asymptomatic</td>\n",
       "      <td>120.0</td>\n",
       "      <td>229.0</td>\n",
       "      <td>False</td>\n",
       "      <td>lv hypertrophy</td>\n",
       "      <td>129.0</td>\n",
       "      <td>True</td>\n",
       "      <td>2.6</td>\n",
       "      <td>flat</td>\n",
       "      <td>2.0</td>\n",
       "      <td>reversable defect</td>\n",
       "      <td>1</td>\n",
       "    </tr>\n",
       "    <tr>\n",
       "      <th>3</th>\n",
       "      <td>4</td>\n",
       "      <td>37</td>\n",
       "      <td>Male</td>\n",
       "      <td>Cleveland</td>\n",
       "      <td>non-anginal</td>\n",
       "      <td>130.0</td>\n",
       "      <td>250.0</td>\n",
       "      <td>False</td>\n",
       "      <td>normal</td>\n",
       "      <td>187.0</td>\n",
       "      <td>False</td>\n",
       "      <td>3.5</td>\n",
       "      <td>downsloping</td>\n",
       "      <td>0.0</td>\n",
       "      <td>normal</td>\n",
       "      <td>0</td>\n",
       "    </tr>\n",
       "    <tr>\n",
       "      <th>4</th>\n",
       "      <td>5</td>\n",
       "      <td>41</td>\n",
       "      <td>Female</td>\n",
       "      <td>Cleveland</td>\n",
       "      <td>atypical angina</td>\n",
       "      <td>130.0</td>\n",
       "      <td>204.0</td>\n",
       "      <td>False</td>\n",
       "      <td>lv hypertrophy</td>\n",
       "      <td>172.0</td>\n",
       "      <td>False</td>\n",
       "      <td>1.4</td>\n",
       "      <td>upsloping</td>\n",
       "      <td>0.0</td>\n",
       "      <td>normal</td>\n",
       "      <td>0</td>\n",
       "    </tr>\n",
       "  </tbody>\n",
       "</table>\n",
       "</div>"
      ],
      "text/plain": [
       "   id  age     sex    dataset               cp  trestbps   chol    fbs  \\\n",
       "0   1   63    Male  Cleveland   typical angina     145.0  233.0   True   \n",
       "1   2   67    Male  Cleveland     asymptomatic     160.0  286.0  False   \n",
       "2   3   67    Male  Cleveland     asymptomatic     120.0  229.0  False   \n",
       "3   4   37    Male  Cleveland      non-anginal     130.0  250.0  False   \n",
       "4   5   41  Female  Cleveland  atypical angina     130.0  204.0  False   \n",
       "\n",
       "          restecg  thalch  exang  oldpeak        slope   ca  \\\n",
       "0  lv hypertrophy   150.0  False      2.3  downsloping  0.0   \n",
       "1  lv hypertrophy   108.0   True      1.5         flat  3.0   \n",
       "2  lv hypertrophy   129.0   True      2.6         flat  2.0   \n",
       "3          normal   187.0  False      3.5  downsloping  0.0   \n",
       "4  lv hypertrophy   172.0  False      1.4    upsloping  0.0   \n",
       "\n",
       "                thal  num  \n",
       "0       fixed defect    0  \n",
       "1             normal    2  \n",
       "2  reversable defect    1  \n",
       "3             normal    0  \n",
       "4             normal    0  "
      ]
     },
     "execution_count": 582,
     "metadata": {},
     "output_type": "execute_result"
    }
   ],
   "source": [
    "#way-1: load the data from csv placed locally in our pc\n",
    "df = pd.read_csv('/kaggle/input/heart-disease-data/heart_disease_uci.csv')\n",
    "#displaying top 5 rows of data\n",
    "df.head()"
   ]
  },
  {
   "cell_type": "code",
   "execution_count": 583,
   "metadata": {
    "execution": {
     "iopub.execute_input": "2024-11-22T20:16:00.344086Z",
     "iopub.status.busy": "2024-11-22T20:16:00.342410Z",
     "iopub.status.idle": "2024-11-22T20:16:00.368827Z",
     "shell.execute_reply": "2024-11-22T20:16:00.367471Z",
     "shell.execute_reply.started": "2024-11-22T20:16:00.344028Z"
    },
    "trusted": true
   },
   "outputs": [
    {
     "data": {
      "text/html": [
       "<div>\n",
       "<style scoped>\n",
       "    .dataframe tbody tr th:only-of-type {\n",
       "        vertical-align: middle;\n",
       "    }\n",
       "\n",
       "    .dataframe tbody tr th {\n",
       "        vertical-align: top;\n",
       "    }\n",
       "\n",
       "    .dataframe thead th {\n",
       "        text-align: right;\n",
       "    }\n",
       "</style>\n",
       "<table border=\"1\" class=\"dataframe\">\n",
       "  <thead>\n",
       "    <tr style=\"text-align: right;\">\n",
       "      <th></th>\n",
       "      <th>id</th>\n",
       "      <th>age</th>\n",
       "      <th>sex</th>\n",
       "      <th>dataset</th>\n",
       "      <th>cp</th>\n",
       "      <th>trestbps</th>\n",
       "      <th>chol</th>\n",
       "      <th>fbs</th>\n",
       "      <th>restecg</th>\n",
       "      <th>thalch</th>\n",
       "      <th>exang</th>\n",
       "      <th>oldpeak</th>\n",
       "      <th>slope</th>\n",
       "      <th>ca</th>\n",
       "      <th>thal</th>\n",
       "      <th>num</th>\n",
       "    </tr>\n",
       "  </thead>\n",
       "  <tbody>\n",
       "    <tr>\n",
       "      <th>0</th>\n",
       "      <td>1</td>\n",
       "      <td>63</td>\n",
       "      <td>Male</td>\n",
       "      <td>Cleveland</td>\n",
       "      <td>typical angina</td>\n",
       "      <td>145.0</td>\n",
       "      <td>233.0</td>\n",
       "      <td>True</td>\n",
       "      <td>lv hypertrophy</td>\n",
       "      <td>150.0</td>\n",
       "      <td>False</td>\n",
       "      <td>2.3</td>\n",
       "      <td>downsloping</td>\n",
       "      <td>0.0</td>\n",
       "      <td>fixed defect</td>\n",
       "      <td>0</td>\n",
       "    </tr>\n",
       "    <tr>\n",
       "      <th>1</th>\n",
       "      <td>2</td>\n",
       "      <td>67</td>\n",
       "      <td>Male</td>\n",
       "      <td>Cleveland</td>\n",
       "      <td>asymptomatic</td>\n",
       "      <td>160.0</td>\n",
       "      <td>286.0</td>\n",
       "      <td>False</td>\n",
       "      <td>lv hypertrophy</td>\n",
       "      <td>108.0</td>\n",
       "      <td>True</td>\n",
       "      <td>1.5</td>\n",
       "      <td>flat</td>\n",
       "      <td>3.0</td>\n",
       "      <td>normal</td>\n",
       "      <td>2</td>\n",
       "    </tr>\n",
       "    <tr>\n",
       "      <th>2</th>\n",
       "      <td>3</td>\n",
       "      <td>67</td>\n",
       "      <td>Male</td>\n",
       "      <td>Cleveland</td>\n",
       "      <td>asymptomatic</td>\n",
       "      <td>120.0</td>\n",
       "      <td>229.0</td>\n",
       "      <td>False</td>\n",
       "      <td>lv hypertrophy</td>\n",
       "      <td>129.0</td>\n",
       "      <td>True</td>\n",
       "      <td>2.6</td>\n",
       "      <td>flat</td>\n",
       "      <td>2.0</td>\n",
       "      <td>reversable defect</td>\n",
       "      <td>1</td>\n",
       "    </tr>\n",
       "    <tr>\n",
       "      <th>3</th>\n",
       "      <td>4</td>\n",
       "      <td>37</td>\n",
       "      <td>Male</td>\n",
       "      <td>Cleveland</td>\n",
       "      <td>non-anginal</td>\n",
       "      <td>130.0</td>\n",
       "      <td>250.0</td>\n",
       "      <td>False</td>\n",
       "      <td>normal</td>\n",
       "      <td>187.0</td>\n",
       "      <td>False</td>\n",
       "      <td>3.5</td>\n",
       "      <td>downsloping</td>\n",
       "      <td>0.0</td>\n",
       "      <td>normal</td>\n",
       "      <td>0</td>\n",
       "    </tr>\n",
       "    <tr>\n",
       "      <th>4</th>\n",
       "      <td>5</td>\n",
       "      <td>41</td>\n",
       "      <td>Female</td>\n",
       "      <td>Cleveland</td>\n",
       "      <td>atypical angina</td>\n",
       "      <td>130.0</td>\n",
       "      <td>204.0</td>\n",
       "      <td>False</td>\n",
       "      <td>lv hypertrophy</td>\n",
       "      <td>172.0</td>\n",
       "      <td>False</td>\n",
       "      <td>1.4</td>\n",
       "      <td>upsloping</td>\n",
       "      <td>0.0</td>\n",
       "      <td>normal</td>\n",
       "      <td>0</td>\n",
       "    </tr>\n",
       "  </tbody>\n",
       "</table>\n",
       "</div>"
      ],
      "text/plain": [
       "   id  age     sex    dataset               cp  trestbps   chol    fbs  \\\n",
       "0   1   63    Male  Cleveland   typical angina     145.0  233.0   True   \n",
       "1   2   67    Male  Cleveland     asymptomatic     160.0  286.0  False   \n",
       "2   3   67    Male  Cleveland     asymptomatic     120.0  229.0  False   \n",
       "3   4   37    Male  Cleveland      non-anginal     130.0  250.0  False   \n",
       "4   5   41  Female  Cleveland  atypical angina     130.0  204.0  False   \n",
       "\n",
       "          restecg  thalch  exang  oldpeak        slope   ca  \\\n",
       "0  lv hypertrophy   150.0  False      2.3  downsloping  0.0   \n",
       "1  lv hypertrophy   108.0   True      1.5         flat  3.0   \n",
       "2  lv hypertrophy   129.0   True      2.6         flat  2.0   \n",
       "3          normal   187.0  False      3.5  downsloping  0.0   \n",
       "4  lv hypertrophy   172.0  False      1.4    upsloping  0.0   \n",
       "\n",
       "                thal  num  \n",
       "0       fixed defect    0  \n",
       "1             normal    2  \n",
       "2  reversable defect    1  \n",
       "3             normal    0  \n",
       "4             normal    0  "
      ]
     },
     "execution_count": 583,
     "metadata": {},
     "output_type": "execute_result"
    }
   ],
   "source": [
    "#way-2: load the data when you don't have dataset in your pc\n",
    "with open('/kaggle/input/heart-disease-data/heart_disease_uci.csv') as f:\n",
    "    df = pd.read_csv(f)\n",
    "##displaying top 5 rows of data\n",
    "df.head()"
   ]
  },
  {
   "cell_type": "markdown",
   "metadata": {},
   "source": [
    "# **Exploratory Data Analysis**\n",
    "\n",
    "## **Preview the Data**"
   ]
  },
  {
   "cell_type": "code",
   "execution_count": 584,
   "metadata": {
    "execution": {
     "iopub.execute_input": "2024-11-22T20:16:00.371212Z",
     "iopub.status.busy": "2024-11-22T20:16:00.370856Z",
     "iopub.status.idle": "2024-11-22T20:16:00.384040Z",
     "shell.execute_reply": "2024-11-22T20:16:00.382942Z",
     "shell.execute_reply.started": "2024-11-22T20:16:00.371178Z"
    },
    "trusted": true
   },
   "outputs": [
    {
     "name": "stdout",
     "output_type": "stream",
     "text": [
      "<class 'pandas.core.frame.DataFrame'>\n",
      "RangeIndex: 920 entries, 0 to 919\n",
      "Data columns (total 16 columns):\n",
      " #   Column    Non-Null Count  Dtype  \n",
      "---  ------    --------------  -----  \n",
      " 0   id        920 non-null    int64  \n",
      " 1   age       920 non-null    int64  \n",
      " 2   sex       920 non-null    object \n",
      " 3   dataset   920 non-null    object \n",
      " 4   cp        920 non-null    object \n",
      " 5   trestbps  861 non-null    float64\n",
      " 6   chol      890 non-null    float64\n",
      " 7   fbs       830 non-null    object \n",
      " 8   restecg   918 non-null    object \n",
      " 9   thalch    865 non-null    float64\n",
      " 10  exang     865 non-null    object \n",
      " 11  oldpeak   858 non-null    float64\n",
      " 12  slope     611 non-null    object \n",
      " 13  ca        309 non-null    float64\n",
      " 14  thal      434 non-null    object \n",
      " 15  num       920 non-null    int64  \n",
      "dtypes: float64(5), int64(3), object(8)\n",
      "memory usage: 115.1+ KB\n"
     ]
    }
   ],
   "source": [
    "#explore each column's datatypes and missing values\n",
    "df.info()"
   ]
  },
  {
   "cell_type": "markdown",
   "metadata": {},
   "source": [
    "We have missing values in the following variables:\n",
    "* trestbps\n",
    "* chol\n",
    "* fbs\n",
    "* restecg\n",
    "* thalch\n",
    "* exang\n",
    "* oldpeakslope\n",
    "* ca\n",
    "* thal\n",
    "\n",
    "But we'll deal with these missing values in the next steps."
   ]
  },
  {
   "cell_type": "code",
   "execution_count": 585,
   "metadata": {
    "execution": {
     "iopub.execute_input": "2024-11-22T20:16:00.385971Z",
     "iopub.status.busy": "2024-11-22T20:16:00.385491Z",
     "iopub.status.idle": "2024-11-22T20:16:00.401355Z",
     "shell.execute_reply": "2024-11-22T20:16:00.399910Z",
     "shell.execute_reply.started": "2024-11-22T20:16:00.385931Z"
    },
    "trusted": true
   },
   "outputs": [
    {
     "data": {
      "text/plain": [
       "(920, 16)"
      ]
     },
     "execution_count": 585,
     "metadata": {},
     "output_type": "execute_result"
    }
   ],
   "source": [
    "#check the shape of dataset\n",
    "df.shape"
   ]
  },
  {
   "cell_type": "markdown",
   "metadata": {},
   "source": [
    "## **Explore Each Column**\n",
    "### id"
   ]
  },
  {
   "cell_type": "code",
   "execution_count": 586,
   "metadata": {
    "execution": {
     "iopub.execute_input": "2024-11-22T20:16:00.403183Z",
     "iopub.status.busy": "2024-11-22T20:16:00.402766Z",
     "iopub.status.idle": "2024-11-22T20:16:00.422704Z",
     "shell.execute_reply": "2024-11-22T20:16:00.421254Z",
     "shell.execute_reply.started": "2024-11-22T20:16:00.403147Z"
    },
    "trusted": true
   },
   "outputs": [
    {
     "data": {
      "text/plain": [
       "(1, 920)"
      ]
     },
     "execution_count": 586,
     "metadata": {},
     "output_type": "execute_result"
    }
   ],
   "source": [
    "#find min and max value of id variable\n",
    "df['id'].min(), df['id'].max()"
   ]
  },
  {
   "cell_type": "code",
   "execution_count": 587,
   "metadata": {
    "execution": {
     "iopub.execute_input": "2024-11-22T20:16:00.427241Z",
     "iopub.status.busy": "2024-11-22T20:16:00.426360Z",
     "iopub.status.idle": "2024-11-22T20:16:00.438157Z",
     "shell.execute_reply": "2024-11-22T20:16:00.436613Z",
     "shell.execute_reply.started": "2024-11-22T20:16:00.427185Z"
    },
    "trusted": true
   },
   "outputs": [
    {
     "data": {
      "text/plain": [
       "920"
      ]
     },
     "execution_count": 587,
     "metadata": {},
     "output_type": "execute_result"
    }
   ],
   "source": [
    "#is there any id number duplicate? \n",
    "df['id'].nunique()\n",
    "#Answer: No, there are unique id number in each row."
   ]
  },
  {
   "cell_type": "markdown",
   "metadata": {},
   "source": [
    "### age"
   ]
  },
  {
   "cell_type": "code",
   "execution_count": 588,
   "metadata": {
    "execution": {
     "iopub.execute_input": "2024-11-22T20:16:00.439637Z",
     "iopub.status.busy": "2024-11-22T20:16:00.439285Z",
     "iopub.status.idle": "2024-11-22T20:16:00.456411Z",
     "shell.execute_reply": "2024-11-22T20:16:00.454869Z",
     "shell.execute_reply.started": "2024-11-22T20:16:00.439601Z"
    },
    "trusted": true
   },
   "outputs": [
    {
     "data": {
      "text/plain": [
       "count    920.000000\n",
       "mean      53.510870\n",
       "std        9.424685\n",
       "min       28.000000\n",
       "25%       47.000000\n",
       "50%       54.000000\n",
       "75%       60.000000\n",
       "max       77.000000\n",
       "Name: age, dtype: float64"
      ]
     },
     "execution_count": 588,
     "metadata": {},
     "output_type": "execute_result"
    }
   ],
   "source": [
    "#smmary statistics of 'age' variable\n",
    "df['age'].describe()"
   ]
  },
  {
   "cell_type": "code",
   "execution_count": 589,
   "metadata": {
    "execution": {
     "iopub.execute_input": "2024-11-22T20:16:00.458819Z",
     "iopub.status.busy": "2024-11-22T20:16:00.458305Z",
     "iopub.status.idle": "2024-11-22T20:16:00.471048Z",
     "shell.execute_reply": "2024-11-22T20:16:00.469498Z",
     "shell.execute_reply.started": "2024-11-22T20:16:00.458763Z"
    },
    "trusted": true
   },
   "outputs": [
    {
     "name": "stdout",
     "output_type": "stream",
     "text": [
      "The minimum age for heart disease diagnosis is:  28\n",
      "The maximum age for heart disease diagnosis is:  77\n"
     ]
    }
   ],
   "source": [
    "#minimum and maximum age for heart disease \n",
    "print(\"The minimum age for heart disease diagnosis is: \",df['age'].min())\n",
    "print(\"The maximum age for heart disease diagnosis is: \",df['age'].max())"
   ]
  },
  {
   "cell_type": "code",
   "execution_count": 590,
   "metadata": {
    "execution": {
     "iopub.execute_input": "2024-11-22T20:16:00.472843Z",
     "iopub.status.busy": "2024-11-22T20:16:00.472456Z",
     "iopub.status.idle": "2024-11-22T20:16:00.843532Z",
     "shell.execute_reply": "2024-11-22T20:16:00.842219Z",
     "shell.execute_reply.started": "2024-11-22T20:16:00.472805Z"
    },
    "trusted": true
   },
   "outputs": [
    {
     "data": {
      "text/plain": [
       "Text(0.5, 0, 'Age')"
      ]
     },
     "execution_count": 590,
     "metadata": {},
     "output_type": "execute_result"
    },
    {
     "data": {
      "image/png": "[encoded data removed]",
      "text/plain": [
       "<Figure size 640x480 with 1 Axes>"
      ]
     },
     "metadata": {},
     "output_type": "display_data"
    }
   ],
   "source": [
    "#plot distribution of age column\n",
    "sns.histplot(data=df, x='age', kde=True,color='green')\n",
    "plt.title('Age Distribution')\n",
    "plt.xlabel('Age')"
   ]
  },
  {
   "cell_type": "code",
   "execution_count": 591,
   "metadata": {
    "execution": {
     "iopub.execute_input": "2024-11-22T20:16:00.845384Z",
     "iopub.status.busy": "2024-11-22T20:16:00.845041Z",
     "iopub.status.idle": "2024-11-22T20:16:01.202337Z",
     "shell.execute_reply": "2024-11-22T20:16:01.201152Z",
     "shell.execute_reply.started": "2024-11-22T20:16:00.845350Z"
    },
    "trusted": true
   },
   "outputs": [
    {
     "name": "stdout",
     "output_type": "stream",
     "text": [
      "The mean of age is:  53.51086956521739\n",
      "The median of age is:  54.0\n",
      "The mean of age is:  54\n"
     ]
    },
    {
     "data": {
      "image/png": "[encoded data removed]",
      "text/plain": [
       "<Figure size 640x480 with 1 Axes>"
      ]
     },
     "metadata": {},
     "output_type": "display_data"
    }
   ],
   "source": [
    "#plot the mean,median and mode of age column to check at which age, most people suffer from heart disease\n",
    "sns.histplot(df['age'],kde=True,color='yellow')\n",
    "plt.axvline(df['age'].mean(),color='red')\n",
    "plt.axvline(df['age'].median(),color='green')\n",
    "plt.axvline(df['age'].mode()[0],color='blue')\n",
    "\n",
    "#print mean, median and mode\n",
    "print(\"The mean of age is: \", df['age'].mean())\n",
    "print(\"The median of age is: \", df['age'].median())\n",
    "print(\"The mean of age is: \",df['age'].mode()[0])\n",
    "\n",
    "#Answer is: 53-54 years old people are mostly suffer from heart disease."
   ]
  },
  {
   "cell_type": "code",
   "execution_count": 592,
   "metadata": {
    "_kg_hide-output": true,
    "execution": {
     "iopub.execute_input": "2024-11-22T20:16:01.204107Z",
     "iopub.status.busy": "2024-11-22T20:16:01.203730Z",
     "iopub.status.idle": "2024-11-22T20:16:01.265497Z",
     "shell.execute_reply": "2024-11-22T20:16:01.264123Z",
     "shell.execute_reply.started": "2024-11-22T20:16:01.204072Z"
    },
    "trusted": true
   },
   "outputs": [
    {
     "data": {
      "text/html": [
       "<div>                            <div id=\"ccf17c20-1c7c-41cf-ad92-c6c9df3c0468\" class=\"plotly-graph-div\" style=\"height:525px; width:100%;\"></div>            <script type=\"text/javascript\">                require([\"plotly\"], function(Plotly) {                    window.PLOTLYENV=window.PLOTLYENV || {};                                    if (document.getElementById(\"ccf17c20-1c7c-41cf-ad92-c6c9df3c0468\")) {                    Plotly.newPlot(                        \"ccf17c20-1c7c-41cf-ad92-c6c9df3c0468\",                        [{\"alignmentgroup\":\"True\",\"bingroup\":\"x\",\"hovertemplate\":\"sex=Male\\u003cbr\\u003eage=%{x}\\u003cbr\\u003ecount=%{y}\\u003cextra\\u003e\\u003c\\u002fextra\\u003e\",\"legendgroup\":\"Male\",\"marker\":{\"color\":\"#636efa\",\"pattern\":{\"shape\":\"\"}},\"name\":\"Male\",\"offsetgroup\":\"Male\",\"orientation\":\"v\",\"showlegend\":true,\"x\":[63,67,67,37,56,63,53,57,56,44,52,57,48,54,49,64,58,58,60,43,40,60,64,59,44,42,43,57,55,61,40,59,58,51,50,53,65,44,44,60,54,50,41,54,51,58,54,60,60,54,59,46,67,62,65,44,60,48,58,45,39,68,52,44,47,66,62,52,59,52,48,45,34,49,54,59,57,61,39,56,52,41,58,63,65,48,51,55,65,54,44,54,51,29,51,70,62,35,51,59,59,52,64,58,47,57,41,45,52,55,64,70,51,58,60,68,46,77,48,57,52,35,70,53,64,57,52,56,43,53,48,42,59,42,66,54,69,50,51,43,67,69,59,57,43,45,58,50,55,38,41,52,56,59,53,47,54,66,49,54,56,46,42,41,61,67,58,47,52,62,57,58,64,43,70,57,44,61,42,52,59,40,42,61,66,46,59,64,57,57,47,35,61,58,58,56,56,67,44,63,41,59,45,68,57,38,28,29,29,32,32,33,34,34,35,35,36,36,36,36,37,37,37,37,38,38,39,39,39,39,39,39,39,39,39,40,40,40,40,40,41,41,41,41,42,42,42,42,42,42,43,44,44,44,45,45,45,45,46,46,46,46,46,46,47,47,47,48,48,48,48,49,49,49,49,50,50,50,50,50,51,51,51,52,52,52,52,53,53,53,53,53,53,54,54,54,54,54,54,54,54,54,55,55,55,55,55,55,55,56,56,56,56,57,58,58,58,58,59,59,59,59,60,61,62,31,34,35,36,37,38,38,38,40,41,41,43,46,46,46,47,47,48,48,48,49,49,50,52,54,54,55,57,58,60,63,65,32,38,39,43,45,46,46,48,48,48,48,50,52,52,53,54,54,54,54,54,55,56,57,58,58,41,43,44,44,46,49,49,51,52,52,52,52,53,53,54,55,55,55,56,56,58,59,59,65,66,41,43,44,47,49,49,50,50,52,52,56,65,32,34,35,36,38,38,38,38,40,41,42,42,43,43,43,45,46,46,47,47,47,47,48,50,50,50,51,51,51,51,51,51,52,52,52,52,53,53,53,53,53,53,53,53,54,54,54,55,55,55,55,56,56,56,56,56,56,56,56,57,57,57,57,57,57,58,58,58,59,59,59,59,59,60,60,60,60,60,60,61,61,61,61,61,61,61,61,61,62,62,62,62,62,63,63,63,63,63,64,65,65,65,65,66,67,68,68,69,69,70,70,72,74,63,44,60,55,66,66,65,60,60,60,56,59,62,63,57,62,63,46,63,60,58,64,63,74,52,69,51,60,56,55,54,77,63,55,52,64,60,60,58,59,61,40,61,41,57,63,59,51,59,42,55,62,56,53,68,53,60,62,59,51,61,57,56,58,69,67,58,65,63,55,57,65,54,72,75,49,51,60,58,61,67,62,65,63,69,51,62,55,75,40,67,58,60,63,35,62,43,63,68,65,48,63,64,61,50,59,55,45,65,61,49,72,50,64,55,63,59,56,62,74,54,57,62,76,70,48,48,61,66,68,55,62,71,74,53,58,75,56,58,64,54,54,59,55,57,61,41,71,38,55,56,69,64,72,69,56,62,67,57,69,51,48,69,69,64,57,53,37,67,74,63,58,61,64,58,60,57,55,55,56,57,61,61,58,74,68,62,53,62,46,62,55,58,62],\"xaxis\":\"x\",\"yaxis\":\"y\",\"type\":\"histogram\"},{\"alignmentgroup\":\"True\",\"bingroup\":\"x\",\"hovertemplate\":\"sex=Female\\u003cbr\\u003eage=%{x}\\u003cbr\\u003ecount=%{y}\\u003cextra\\u003e\\u003c\\u002fextra\\u003e\",\"legendgroup\":\"Female\",\"marker\":{\"color\":\"#EF553B\",\"pattern\":{\"shape\":\"\"}},\"name\":\"Female\",\"offsetgroup\":\"Female\",\"orientation\":\"v\",\"showlegend\":true,\"x\":[41,62,57,56,48,58,50,58,66,69,65,71,61,65,41,51,46,54,65,65,51,53,53,53,51,62,44,63,60,57,71,61,43,62,35,63,45,56,62,43,55,60,42,67,54,58,54,45,59,62,56,60,63,62,68,45,50,50,64,64,62,37,66,46,46,64,41,54,39,63,34,67,52,55,74,54,49,41,49,60,51,42,67,76,44,58,60,71,66,39,58,55,58,55,63,57,57,30,31,32,34,35,35,37,37,37,38,39,41,41,41,42,43,43,43,43,43,43,43,44,45,45,45,46,47,47,48,48,48,48,48,48,48,49,49,49,49,50,50,51,51,51,51,52,52,52,52,53,53,53,54,54,54,54,54,54,54,55,55,55,56,57,57,59,61,62,33,49,50,51,59,40,47,48,56,47,54,58,38,38,50,51,62,62,64,64,66,73,63,64,54,61,51,54],\"xaxis\":\"x\",\"yaxis\":\"y\",\"type\":\"histogram\"}],                        {\"template\":{\"data\":{\"histogram2dcontour\":[{\"type\":\"histogram2dcontour\",\"colorbar\":{\"outlinewidth\":0,\"ticks\":\"\"},\"colorscale\":[[0.0,\"#0d0887\"],[0.1111111111111111,\"#46039f\"],[0.2222222222222222,\"#7201a8\"],[0.3333333333333333,\"#9c179e\"],[0.4444444444444444,\"#bd3786\"],[0.5555555555555556,\"#d8576b\"],[0.6666666666666666,\"#ed7953\"],[0.7777777777777778,\"#fb9f3a\"],[0.8888888888888888,\"#fdca26\"],[1.0,\"#f0f921\"]]}],\"choropleth\":[{\"type\":\"choropleth\",\"colorbar\":{\"outlinewidth\":0,\"ticks\":\"\"}}],\"histogram2d\":[{\"type\":\"histogram2d\",\"colorbar\":{\"outlinewidth\":0,\"ticks\":\"\"},\"colorscale\":[[0.0,\"#0d0887\"],[0.1111111111111111,\"#46039f\"],[0.2222222222222222,\"#7201a8\"],[0.3333333333333333,\"#9c179e\"],[0.4444444444444444,\"#bd3786\"],[0.5555555555555556,\"#d8576b\"],[0.6666666666666666,\"#ed7953\"],[0.7777777777777778,\"#fb9f3a\"],[0.8888888888888888,\"#fdca26\"],[1.0,\"#f0f921\"]]}],\"heatmap\":[{\"type\":\"heatmap\",\"colorbar\":{\"outlinewidth\":0,\"ticks\":\"\"},\"colorscale\":[[0.0,\"#0d0887\"],[0.1111111111111111,\"#46039f\"],[0.2222222222222222,\"#7201a8\"],[0.3333333333333333,\"#9c179e\"],[0.4444444444444444,\"#bd3786\"],[0.5555555555555556,\"#d8576b\"],[0.6666666666666666,\"#ed7953\"],[0.7777777777777778,\"#fb9f3a\"],[0.8888888888888888,\"#fdca26\"],[1.0,\"#f0f921\"]]}],\"heatmapgl\":[{\"type\":\"heatmapgl\",\"colorbar\":{\"outlinewidth\":0,\"ticks\":\"\"},\"colorscale\":[[0.0,\"#0d0887\"],[0.1111111111111111,\"#46039f\"],[0.2222222222222222,\"#7201a8\"],[0.3333333333333333,\"#9c179e\"],[0.4444444444444444,\"#bd3786\"],[0.5555555555555556,\"#d8576b\"],[0.6666666666666666,\"#ed7953\"],[0.7777777777777778,\"#fb9f3a\"],[0.8888888888888888,\"#fdca26\"],[1.0,\"#f0f921\"]]}],\"contourcarpet\":[{\"type\":\"contourcarpet\",\"colorbar\":{\"outlinewidth\":0,\"ticks\":\"\"}}],\"contour\":[{\"type\":\"contour\",\"colorbar\":{\"outlinewidth\":0,\"ticks\":\"\"},\"colorscale\":[[0.0,\"#0d0887\"],[0.1111111111111111,\"#46039f\"],[0.2222222222222222,\"#7201a8\"],[0.3333333333333333,\"#9c179e\"],[0.4444444444444444,\"#bd3786\"],[0.5555555555555556,\"#d8576b\"],[0.6666666666666666,\"#ed7953\"],[0.7777777777777778,\"#fb9f3a\"],[0.8888888888888888,\"#fdca26\"],[1.0,\"#f0f921\"]]}],\"surface\":[{\"type\":\"surface\",\"colorbar\":{\"outlinewidth\":0,\"ticks\":\"\"},\"colorscale\":[[0.0,\"#0d0887\"],[0.1111111111111111,\"#46039f\"],[0.2222222222222222,\"#7201a8\"],[0.3333333333333333,\"#9c179e\"],[0.4444444444444444,\"#bd3786\"],[0.5555555555555556,\"#d8576b\"],[0.6666666666666666,\"#ed7953\"],[0.7777777777777778,\"#fb9f3a\"],[0.8888888888888888,\"#fdca26\"],[1.0,\"#f0f921\"]]}],\"mesh3d\":[{\"type\":\"mesh3d\",\"colorbar\":{\"outlinewidth\":0,\"ticks\":\"\"}}],\"scatter\":[{\"fillpattern\":{\"fillmode\":\"overlay\",\"size\":10,\"solidity\":0.2},\"type\":\"scatter\"}],\"parcoords\":[{\"type\":\"parcoords\",\"line\":{\"colorbar\":{\"outlinewidth\":0,\"ticks\":\"\"}}}],\"scatterpolargl\":[{\"type\":\"scatterpolargl\",\"marker\":{\"colorbar\":{\"outlinewidth\":0,\"ticks\":\"\"}}}],\"bar\":[{\"error_x\":{\"color\":\"#2a3f5f\"},\"error_y\":{\"color\":\"#2a3f5f\"},\"marker\":{\"line\":{\"color\":\"#E5ECF6\",\"width\":0.5},\"pattern\":{\"fillmode\":\"overlay\",\"size\":10,\"solidity\":0.2}},\"type\":\"bar\"}],\"scattergeo\":[{\"type\":\"scattergeo\",\"marker\":{\"colorbar\":{\"outlinewidth\":0,\"ticks\":\"\"}}}],\"scatterpolar\":[{\"type\":\"scatterpolar\",\"marker\":{\"colorbar\":{\"outlinewidth\":0,\"ticks\":\"\"}}}],\"histogram\":[{\"marker\":{\"pattern\":{\"fillmode\":\"overlay\",\"size\":10,\"solidity\":0.2}},\"type\":\"histogram\"}],\"scattergl\":[{\"type\":\"scattergl\",\"marker\":{\"colorbar\":{\"outlinewidth\":0,\"ticks\":\"\"}}}],\"scatter3d\":[{\"type\":\"scatter3d\",\"line\":{\"colorbar\":{\"outlinewidth\":0,\"ticks\":\"\"}},\"marker\":{\"colorbar\":{\"outlinewidth\":0,\"ticks\":\"\"}}}],\"scattermapbox\":[{\"type\":\"scattermapbox\",\"marker\":{\"colorbar\":{\"outlinewidth\":0,\"ticks\":\"\"}}}],\"scatterternary\":[{\"type\":\"scatterternary\",\"marker\":{\"colorbar\":{\"outlinewidth\":0,\"ticks\":\"\"}}}],\"scattercarpet\":[{\"type\":\"scattercarpet\",\"marker\":{\"colorbar\":{\"outlinewidth\":0,\"ticks\":\"\"}}}],\"carpet\":[{\"aaxis\":{\"endlinecolor\":\"#2a3f5f\",\"gridcolor\":\"white\",\"linecolor\":\"white\",\"minorgridcolor\":\"white\",\"startlinecolor\":\"#2a3f5f\"},\"baxis\":{\"endlinecolor\":\"#2a3f5f\",\"gridcolor\":\"white\",\"linecolor\":\"white\",\"minorgridcolor\":\"white\",\"startlinecolor\":\"#2a3f5f\"},\"type\":\"carpet\"}],\"table\":[{\"cells\":{\"fill\":{\"color\":\"#EBF0F8\"},\"line\":{\"color\":\"white\"}},\"header\":{\"fill\":{\"color\":\"#C8D4E3\"},\"line\":{\"color\":\"white\"}},\"type\":\"table\"}],\"barpolar\":[{\"marker\":{\"line\":{\"color\":\"#E5ECF6\",\"width\":0.5},\"pattern\":{\"fillmode\":\"overlay\",\"size\":10,\"solidity\":0.2}},\"type\":\"barpolar\"}],\"pie\":[{\"automargin\":true,\"type\":\"pie\"}]},\"layout\":{\"autotypenumbers\":\"strict\",\"colorway\":[\"#636efa\",\"#EF553B\",\"#00cc96\",\"#ab63fa\",\"#FFA15A\",\"#19d3f3\",\"#FF6692\",\"#B6E880\",\"#FF97FF\",\"#FECB52\"],\"font\":{\"color\":\"#2a3f5f\"},\"hovermode\":\"closest\",\"hoverlabel\":{\"align\":\"left\"},\"paper_bgcolor\":\"white\",\"plot_bgcolor\":\"#E5ECF6\",\"polar\":{\"bgcolor\":\"#E5ECF6\",\"angularaxis\":{\"gridcolor\":\"white\",\"linecolor\":\"white\",\"ticks\":\"\"},\"radialaxis\":{\"gridcolor\":\"white\",\"linecolor\":\"white\",\"ticks\":\"\"}},\"ternary\":{\"bgcolor\":\"#E5ECF6\",\"aaxis\":{\"gridcolor\":\"white\",\"linecolor\":\"white\",\"ticks\":\"\"},\"baxis\":{\"gridcolor\":\"white\",\"linecolor\":\"white\",\"ticks\":\"\"},\"caxis\":{\"gridcolor\":\"white\",\"linecolor\":\"white\",\"ticks\":\"\"}},\"coloraxis\":{\"colorbar\":{\"outlinewidth\":0,\"ticks\":\"\"}},\"colorscale\":{\"sequential\":[[0.0,\"#0d0887\"],[0.1111111111111111,\"#46039f\"],[0.2222222222222222,\"#7201a8\"],[0.3333333333333333,\"#9c179e\"],[0.4444444444444444,\"#bd3786\"],[0.5555555555555556,\"#d8576b\"],[0.6666666666666666,\"#ed7953\"],[0.7777777777777778,\"#fb9f3a\"],[0.8888888888888888,\"#fdca26\"],[1.0,\"#f0f921\"]],\"sequentialminus\":[[0.0,\"#0d0887\"],[0.1111111111111111,\"#46039f\"],[0.2222222222222222,\"#7201a8\"],[0.3333333333333333,\"#9c179e\"],[0.4444444444444444,\"#bd3786\"],[0.5555555555555556,\"#d8576b\"],[0.6666666666666666,\"#ed7953\"],[0.7777777777777778,\"#fb9f3a\"],[0.8888888888888888,\"#fdca26\"],[1.0,\"#f0f921\"]],\"diverging\":[[0,\"#8e0152\"],[0.1,\"#c51b7d\"],[0.2,\"#de77ae\"],[0.3,\"#f1b6da\"],[0.4,\"#fde0ef\"],[0.5,\"#f7f7f7\"],[0.6,\"#e6f5d0\"],[0.7,\"#b8e186\"],[0.8,\"#7fbc41\"],[0.9,\"#4d9221\"],[1,\"#276419\"]]},\"xaxis\":{\"gridcolor\":\"white\",\"linecolor\":\"white\",\"ticks\":\"\",\"title\":{\"standoff\":15},\"zerolinecolor\":\"white\",\"automargin\":true,\"zerolinewidth\":2},\"yaxis\":{\"gridcolor\":\"white\",\"linecolor\":\"white\",\"ticks\":\"\",\"title\":{\"standoff\":15},\"zerolinecolor\":\"white\",\"automargin\":true,\"zerolinewidth\":2},\"scene\":{\"xaxis\":{\"backgroundcolor\":\"#E5ECF6\",\"gridcolor\":\"white\",\"linecolor\":\"white\",\"showbackground\":true,\"ticks\":\"\",\"zerolinecolor\":\"white\",\"gridwidth\":2},\"yaxis\":{\"backgroundcolor\":\"#E5ECF6\",\"gridcolor\":\"white\",\"linecolor\":\"white\",\"showbackground\":true,\"ticks\":\"\",\"zerolinecolor\":\"white\",\"gridwidth\":2},\"zaxis\":{\"backgroundcolor\":\"#E5ECF6\",\"gridcolor\":\"white\",\"linecolor\":\"white\",\"showbackground\":true,\"ticks\":\"\",\"zerolinecolor\":\"white\",\"gridwidth\":2}},\"shapedefaults\":{\"line\":{\"color\":\"#2a3f5f\"}},\"annotationdefaults\":{\"arrowcolor\":\"#2a3f5f\",\"arrowhead\":0,\"arrowwidth\":1},\"geo\":{\"bgcolor\":\"white\",\"landcolor\":\"#E5ECF6\",\"subunitcolor\":\"white\",\"showland\":true,\"showlakes\":true,\"lakecolor\":\"white\"},\"title\":{\"x\":0.05},\"mapbox\":{\"style\":\"light\"}}},\"xaxis\":{\"anchor\":\"y\",\"domain\":[0.0,1.0],\"title\":{\"text\":\"age\"}},\"yaxis\":{\"anchor\":\"x\",\"domain\":[0.0,1.0],\"title\":{\"text\":\"count\"}},\"legend\":{\"title\":{\"text\":\"sex\"},\"tracegroupgap\":0},\"margin\":{\"t\":60},\"barmode\":\"relative\"},                        {\"responsive\": true}                    ).then(function(){\n",
       "                            \n",
       "var gd = document.getElementById('ccf17c20-1c7c-41cf-ad92-c6c9df3c0468');\n",
       "var x = new MutationObserver(function (mutations, observer) {{\n",
       "        var display = window.getComputedStyle(gd).display;\n",
       "        if (!display || display === 'none') {{\n",
       "            console.log([gd, 'removed!']);\n",
       "            Plotly.purge(gd);\n",
       "            observer.disconnect();\n",
       "        }}\n",
       "}});\n",
       "\n",
       "// Listen for the removal of the full notebook cells\n",
       "var notebookContainer = gd.closest('#notebook-container');\n",
       "if (notebookContainer) {{\n",
       "    x.observe(notebookContainer, {childList: true});\n",
       "}}\n",
       "\n",
       "// Listen for the clearing of the current output cell\n",
       "var outputEl = gd.closest('.output');\n",
       "if (outputEl) {{\n",
       "    x.observe(outputEl, {childList: true});\n",
       "}}\n",
       "\n",
       "                        })                };                });            </script>        </div>"
      ]
     },
     "metadata": {},
     "output_type": "display_data"
    }
   ],
   "source": [
    "#lets check the age based on gender | who suffer from heart disease mostly? (male or female)\n",
    "fig = px.histogram(data_frame=df, x='age', color='sex')\n",
    "fig.show()\n",
    "\n",
    "#Answer: Mostly males are suffer from heart disease than females at the age of 54-55 years. But how? Lets see in the next step."
   ]
  },
  {
   "cell_type": "markdown",
   "metadata": {},
   "source": [
    "### sex"
   ]
  },
  {
   "cell_type": "code",
   "execution_count": 593,
   "metadata": {
    "execution": {
     "iopub.execute_input": "2024-11-22T20:16:01.269352Z",
     "iopub.status.busy": "2024-11-22T20:16:01.268954Z",
     "iopub.status.idle": "2024-11-22T20:16:01.278484Z",
     "shell.execute_reply": "2024-11-22T20:16:01.277155Z",
     "shell.execute_reply.started": "2024-11-22T20:16:01.269314Z"
    },
    "trusted": true
   },
   "outputs": [
    {
     "data": {
      "text/plain": [
       "sex\n",
       "Male      726\n",
       "Female    194\n",
       "Name: count, dtype: int64"
      ]
     },
     "execution_count": 593,
     "metadata": {},
     "output_type": "execute_result"
    }
   ],
   "source": [
    "#lets check the value count of sex variable in this data\n",
    "df['sex'].value_counts()\n",
    "\n",
    "#males are in greater amount than females"
   ]
  },
  {
   "cell_type": "code",
   "execution_count": 594,
   "metadata": {
    "execution": {
     "iopub.execute_input": "2024-11-22T20:16:01.280576Z",
     "iopub.status.busy": "2024-11-22T20:16:01.280193Z",
     "iopub.status.idle": "2024-11-22T20:16:01.293077Z",
     "shell.execute_reply": "2024-11-22T20:16:01.291838Z",
     "shell.execute_reply.started": "2024-11-22T20:16:01.280539Z"
    },
    "trusted": true
   },
   "outputs": [
    {
     "name": "stdout",
     "output_type": "stream",
     "text": [
      "The percentage of male's value count in data is: 78.91 %\n",
      "The percentage of female's value count in data is: 21.09 %\n"
     ]
    }
   ],
   "source": [
    "#calculate the percentage of male & female value counts in data\n",
    "male_count = 726\n",
    "female_count = 194\n",
    "total_count = male_count + female_count\n",
    "#total count=920\n",
    "#male percentage\n",
    "male_percentage = (male_count/total_count) * 100\n",
    "print(\"The percentage of male's value count in data is:\", round(male_percentage,2),'%')\n",
    "#female percentage\n",
    "female_percentage = (female_count/total_count) * 100\n",
    "print(\"The percentage of female's value count in data is:\", round(female_percentage,2),'%')\n"
   ]
  },
  {
   "cell_type": "code",
   "execution_count": 595,
   "metadata": {
    "execution": {
     "iopub.execute_input": "2024-11-22T20:16:01.295875Z",
     "iopub.status.busy": "2024-11-22T20:16:01.294627Z",
     "iopub.status.idle": "2024-11-22T20:16:01.884075Z",
     "shell.execute_reply": "2024-11-22T20:16:01.882736Z",
     "shell.execute_reply.started": "2024-11-22T20:16:01.295817Z"
    },
    "trusted": true
   },
   "outputs": [
    {
     "data": {
      "image/png": "[encoded data removed]",
      "text/plain": [
       "<Figure size 640x480 with 1 Axes>"
      ]
     },
     "metadata": {},
     "output_type": "display_data"
    }
   ],
   "source": [
    "#plot percentages through barplot\n",
    "sns.barplot(x=['Male', 'Female'], y=[male_percentage, female_percentage])\n",
    "plt.title('Percentage by Gender')\n",
    "plt.xlabel('Gender')\n",
    "plt.ylabel('Percentage')\n",
    "plt.show()\n"
   ]
  },
  {
   "cell_type": "markdown",
   "metadata": {},
   "source": [
    "### dataset"
   ]
  },
  {
   "cell_type": "code",
   "execution_count": 596,
   "metadata": {
    "execution": {
     "iopub.execute_input": "2024-11-22T20:16:01.886156Z",
     "iopub.status.busy": "2024-11-22T20:16:01.885675Z",
     "iopub.status.idle": "2024-11-22T20:16:01.897184Z",
     "shell.execute_reply": "2024-11-22T20:16:01.895973Z",
     "shell.execute_reply.started": "2024-11-22T20:16:01.886103Z"
    },
    "trusted": true
   },
   "outputs": [
    {
     "data": {
      "text/plain": [
       "dataset\n",
       "Cleveland        304\n",
       "Hungary          293\n",
       "VA Long Beach    200\n",
       "Switzerland      123\n",
       "Name: count, dtype: int64"
      ]
     },
     "execution_count": 596,
     "metadata": {},
     "output_type": "execute_result"
    }
   ],
   "source": [
    "#lets deal with 'dataset' variable\n",
    "#find places where this data is collected\n",
    "df['dataset'].value_counts()"
   ]
  },
  {
   "cell_type": "markdown",
   "metadata": {},
   "source": [
    "We have highest number of records collected from **Cleveland** and the lowest number of records collected from **Switzerland**"
   ]
  },
  {
   "cell_type": "code",
   "execution_count": 597,
   "metadata": {
    "execution": {
     "iopub.execute_input": "2024-11-22T20:16:01.899265Z",
     "iopub.status.busy": "2024-11-22T20:16:01.898803Z",
     "iopub.status.idle": "2024-11-22T20:16:02.127850Z",
     "shell.execute_reply": "2024-11-22T20:16:02.126582Z",
     "shell.execute_reply.started": "2024-11-22T20:16:01.899214Z"
    },
    "trusted": true
   },
   "outputs": [
    {
     "data": {
      "text/plain": [
       "<Axes: xlabel='dataset', ylabel='count'>"
      ]
     },
     "execution_count": 597,
     "metadata": {},
     "output_type": "execute_result"
    },
    {
     "data": {
      "image/png": "[encoded data removed]",
      "text/plain": [
       "<Figure size 640x480 with 1 Axes>"
      ]
     },
     "metadata": {},
     "output_type": "display_data"
    }
   ],
   "source": [
    "#plot the countplot of dataset variable\n",
    "sns.countplot(data=df,x='dataset')"
   ]
  },
  {
   "cell_type": "code",
   "execution_count": 598,
   "metadata": {
    "execution": {
     "iopub.execute_input": "2024-11-22T20:16:02.129234Z",
     "iopub.status.busy": "2024-11-22T20:16:02.128916Z",
     "iopub.status.idle": "2024-11-22T20:16:02.145172Z",
     "shell.execute_reply": "2024-11-22T20:16:02.143749Z",
     "shell.execute_reply.started": "2024-11-22T20:16:02.129203Z"
    },
    "trusted": true
   },
   "outputs": [
    {
     "data": {
      "text/plain": [
       "dataset        sex   \n",
       "Cleveland      Male      207\n",
       "               Female     97\n",
       "Hungary        Male      212\n",
       "               Female     81\n",
       "Switzerland    Male      113\n",
       "               Female     10\n",
       "VA Long Beach  Male      194\n",
       "               Female      6\n",
       "Name: count, dtype: int64"
      ]
     },
     "execution_count": 598,
     "metadata": {},
     "output_type": "execute_result"
    }
   ],
   "source": [
    "#lets find the sex ratio through groupby method in places where data is collected\n",
    "df.groupby('dataset')['sex'].value_counts()"
   ]
  },
  {
   "cell_type": "code",
   "execution_count": 599,
   "metadata": {
    "execution": {
     "iopub.execute_input": "2024-11-22T20:16:02.147403Z",
     "iopub.status.busy": "2024-11-22T20:16:02.146997Z",
     "iopub.status.idle": "2024-11-22T20:16:02.444066Z",
     "shell.execute_reply": "2024-11-22T20:16:02.442805Z",
     "shell.execute_reply.started": "2024-11-22T20:16:02.147364Z"
    },
    "trusted": true
   },
   "outputs": [
    {
     "data": {
      "image/png": "[encoded data removed]",
      "text/plain": [
       "<Figure size 640x480 with 1 Axes>"
      ]
     },
     "metadata": {},
     "output_type": "display_data"
    }
   ],
   "source": [
    "#plot this ratio\n",
    "sns.countplot(data=df, x='dataset', hue='sex')\n",
    "plt.title('Gender Count by Dataset')\n",
    "plt.xlabel('Dataset')\n",
    "plt.ylabel('Count')\n",
    "plt.legend(title='Sex', labels=['Female', 'Male'])\n",
    "plt.show()"
   ]
  },
  {
   "cell_type": "markdown",
   "metadata": {},
   "source": [
    "* The highest number of females in this dataset are from **Cleveland (97)** and the lowest no. of females are from **VA Long Beach (6)**\n",
    "* The highest number of males in this dataset are from **Hungary (212)** and the lowest no. of males are from **Switzerland (113)**"
   ]
  },
  {
   "cell_type": "markdown",
   "metadata": {},
   "source": [
    "### cp(chest pain)"
   ]
  },
  {
   "cell_type": "code",
   "execution_count": 600,
   "metadata": {
    "execution": {
     "iopub.execute_input": "2024-11-22T20:16:02.446204Z",
     "iopub.status.busy": "2024-11-22T20:16:02.445621Z",
     "iopub.status.idle": "2024-11-22T20:16:02.454521Z",
     "shell.execute_reply": "2024-11-22T20:16:02.453257Z",
     "shell.execute_reply.started": "2024-11-22T20:16:02.446153Z"
    },
    "trusted": true
   },
   "outputs": [
    {
     "data": {
      "text/plain": [
       "4"
      ]
     },
     "execution_count": 600,
     "metadata": {},
     "output_type": "execute_result"
    }
   ],
   "source": [
    "#let's find how many types are in cp variable\n",
    "df['cp'].nunique()\n",
    "#answer---> 4"
   ]
  },
  {
   "cell_type": "code",
   "execution_count": 601,
   "metadata": {
    "execution": {
     "iopub.execute_input": "2024-11-22T20:16:02.456552Z",
     "iopub.status.busy": "2024-11-22T20:16:02.456102Z",
     "iopub.status.idle": "2024-11-22T20:16:02.469072Z",
     "shell.execute_reply": "2024-11-22T20:16:02.467939Z",
     "shell.execute_reply.started": "2024-11-22T20:16:02.456505Z"
    },
    "trusted": true
   },
   "outputs": [
    {
     "data": {
      "text/plain": [
       "array(['typical angina', 'asymptomatic', 'non-anginal', 'atypical angina'],\n",
       "      dtype=object)"
      ]
     },
     "execution_count": 601,
     "metadata": {},
     "output_type": "execute_result"
    }
   ],
   "source": [
    "#let's find what are those 4 types\n",
    "df['cp'].unique()"
   ]
  },
  {
   "cell_type": "markdown",
   "metadata": {},
   "source": [
    "* Typical Angina: Chest pain caused by reduced blood flow to the heart, usually triggered by physical exertion or stress.\n",
    "* Asymptomatic: No noticeable chest pain or symptoms, even if there's underlying heart disease.\n",
    "* Non-Anginal: Chest pain not related to heart problems, often caused by conditions like acid reflux or muscle strain.\n",
    "* Atypical Angina: Chest pain with unusual symptoms, such as discomfort not directly linked to exertion or classic angina triggers."
   ]
  },
  {
   "cell_type": "code",
   "execution_count": 602,
   "metadata": {
    "execution": {
     "iopub.execute_input": "2024-11-22T20:16:02.471117Z",
     "iopub.status.busy": "2024-11-22T20:16:02.470508Z",
     "iopub.status.idle": "2024-11-22T20:16:02.486256Z",
     "shell.execute_reply": "2024-11-22T20:16:02.485126Z",
     "shell.execute_reply.started": "2024-11-22T20:16:02.471081Z"
    },
    "trusted": true
   },
   "outputs": [
    {
     "data": {
      "text/plain": [
       "cp\n",
       "asymptomatic       496\n",
       "non-anginal        204\n",
       "atypical angina    174\n",
       "typical angina      46\n",
       "Name: count, dtype: int64"
      ]
     },
     "execution_count": 602,
     "metadata": {},
     "output_type": "execute_result"
    }
   ],
   "source": [
    "#lets find value count of these types in data\n",
    "df['cp'].value_counts()"
   ]
  },
  {
   "cell_type": "code",
   "execution_count": 603,
   "metadata": {
    "execution": {
     "iopub.execute_input": "2024-11-22T20:16:02.487869Z",
     "iopub.status.busy": "2024-11-22T20:16:02.487508Z",
     "iopub.status.idle": "2024-11-22T20:16:02.507439Z",
     "shell.execute_reply": "2024-11-22T20:16:02.506165Z",
     "shell.execute_reply.started": "2024-11-22T20:16:02.487832Z"
    },
    "trusted": true
   },
   "outputs": [
    {
     "data": {
      "text/plain": [
       "cp              age\n",
       "asymptomatic    57     27\n",
       "                58     23\n",
       "                54     22\n",
       "                59     22\n",
       "                60     22\n",
       "                       ..\n",
       "non-anginal     35      1\n",
       "                70      1\n",
       "                73      1\n",
       "typical angina  30      1\n",
       "                74      1\n",
       "Name: count, Length: 156, dtype: int64"
      ]
     },
     "execution_count": 603,
     "metadata": {},
     "output_type": "execute_result"
    }
   ],
   "source": [
    "#In which age span, cp is on peak?\n",
    "df.groupby('cp')['age'].value_counts().sort_values(ascending=False)"
   ]
  },
  {
   "cell_type": "code",
   "execution_count": 604,
   "metadata": {
    "execution": {
     "iopub.execute_input": "2024-11-22T20:16:02.509908Z",
     "iopub.status.busy": "2024-11-22T20:16:02.509465Z",
     "iopub.status.idle": "2024-11-22T20:16:02.578843Z",
     "shell.execute_reply": "2024-11-22T20:16:02.577373Z",
     "shell.execute_reply.started": "2024-11-22T20:16:02.509855Z"
    },
    "trusted": true
   },
   "outputs": [
    {
     "data": {
      "text/html": [
       "<div>                            <div id=\"60c2d7af-8234-43cd-bc4d-c1833aa992f5\" class=\"plotly-graph-div\" style=\"height:525px; width:100%;\"></div>            <script type=\"text/javascript\">                require([\"plotly\"], function(Plotly) {                    window.PLOTLYENV=window.PLOTLYENV || {};                                    if (document.getElementById(\"60c2d7af-8234-43cd-bc4d-c1833aa992f5\")) {                    Plotly.newPlot(                        \"60c2d7af-8234-43cd-bc4d-c1833aa992f5\",                        [{\"alignmentgroup\":\"True\",\"bingroup\":\"x\",\"hovertemplate\":\"cp=typical angina\\u003cbr\\u003eage=%{x}\\u003cbr\\u003ecount=%{y}\\u003cextra\\u003e\\u003c\\u002fextra\\u003e\",\"legendgroup\":\"typical angina\",\"marker\":{\"color\":\"#636efa\",\"pattern\":{\"shape\":\"\"}},\"name\":\"typical angina\",\"offsetgroup\":\"typical angina\",\"orientation\":\"v\",\"showlegend\":true,\"x\":[63,64,58,66,69,40,51,34,52,65,59,52,42,59,69,59,38,56,61,60,59,64,45,30,35,43,47,54,57,62,34,43,46,55,32,62,62,67,67,65,49,62,61,68,74,62],\"xaxis\":\"x\",\"yaxis\":\"y\",\"type\":\"histogram\"},{\"alignmentgroup\":\"True\",\"bingroup\":\"x\",\"hovertemplate\":\"cp=asymptomatic\\u003cbr\\u003eage=%{x}\\u003cbr\\u003ecount=%{y}\\u003cextra\\u003e\\u003c\\u002fextra\\u003e\",\"legendgroup\":\"asymptomatic\",\"marker\":{\"color\":\"#EF553B\",\"pattern\":{\"shape\":\"\"}},\"name\":\"asymptomatic\",\"offsetgroup\":\"asymptomatic\",\"orientation\":\"v\",\"showlegend\":true,\"x\":[67,67,62,57,63,53,57,54,60,43,40,60,59,42,43,57,55,65,61,50,65,44,60,54,41,51,58,54,60,59,67,62,65,44,60,58,45,53,53,66,62,52,59,60,48,45,57,59,61,39,61,56,43,35,63,65,48,63,55,56,54,62,51,70,35,57,42,55,64,70,51,58,60,77,58,57,35,53,59,62,64,57,52,56,48,56,60,51,43,62,67,45,50,64,43,45,58,50,62,66,52,46,64,59,53,63,47,54,66,55,54,56,46,49,67,58,47,52,57,58,64,43,67,61,42,52,40,61,66,46,71,58,57,55,61,58,58,44,63,63,59,57,68,57,35,37,37,37,39,39,41,42,44,44,45,45,45,46,46,46,46,47,48,48,48,49,49,50,50,50,51,52,53,53,53,54,55,55,56,57,58,59,61,61,31,33,37,38,38,38,40,41,41,43,46,46,46,47,48,48,48,49,50,51,52,54,54,55,59,60,63,65,32,38,39,40,45,46,46,48,48,48,48,50,52,52,53,54,54,54,54,55,56,57,58,41,43,44,48,49,49,52,52,52,52,53,54,55,56,56,59,59,65,66,41,43,44,47,47,49,49,50,50,52,52,56,65,34,35,36,38,38,38,38,40,41,42,42,43,43,43,46,46,47,47,48,50,50,50,50,51,51,51,51,51,51,51,52,52,52,52,53,53,53,53,54,54,54,55,55,55,56,56,56,56,56,57,57,57,57,57,58,58,58,59,59,59,59,60,60,60,60,60,61,61,61,61,61,61,61,61,62,62,62,62,63,63,63,63,63,64,64,64,65,65,65,65,66,66,68,68,69,69,70,70,63,44,60,55,65,59,62,57,62,63,46,63,60,58,64,69,51,60,56,54,77,63,64,60,60,58,59,40,61,41,57,63,59,51,62,53,68,53,59,51,61,57,58,65,57,54,75,60,64,58,61,67,62,65,63,69,51,62,75,67,58,60,63,43,65,63,64,61,50,59,55,65,72,50,64,55,63,59,56,74,54,57,54,70,48,66,55,75,64,59,55,57,61,41,71,38,55,56,69,64,72,69,56,62,67,57,69,51,48,69,64,53,67,58,61,64,58,60,57,55,56,57,74,51,62,53,62,46,54,55,58],\"xaxis\":\"x\",\"yaxis\":\"y\",\"type\":\"histogram\"},{\"alignmentgroup\":\"True\",\"bingroup\":\"x\",\"hovertemplate\":\"cp=non-anginal\\u003cbr\\u003eage=%{x}\\u003cbr\\u003ecount=%{y}\\u003cextra\\u003e\\u003c\\u002fextra\\u003e\",\"legendgroup\":\"non-anginal\",\"marker\":{\"color\":\"#00cc96\",\"pattern\":{\"shape\":\"\"}},\"name\":\"non-anginal\",\"offsetgroup\":\"non-anginal\",\"orientation\":\"v\",\"showlegend\":true,\"x\":[37,56,52,57,48,58,50,58,64,44,61,59,58,51,65,53,50,54,46,54,60,54,46,65,65,51,39,68,44,47,53,51,62,44,63,71,49,57,62,58,51,54,51,43,51,64,58,47,41,60,67,68,54,48,52,70,43,53,42,69,50,68,57,64,37,41,41,54,39,67,52,49,54,60,51,42,76,44,44,59,42,66,39,47,67,38,33,36,36,36,37,37,38,39,39,39,40,40,40,42,42,42,43,45,46,46,47,48,48,49,49,51,51,51,52,52,53,53,54,54,55,55,56,56,56,58,59,59,60,47,49,49,50,58,54,58,47,51,53,54,38,38,45,47,47,53,53,56,56,56,57,59,60,61,62,72,73,66,66,60,60,63,63,74,52,55,55,52,61,59,42,55,60,56,69,72,51,55,40,35,63,68,48,45,49,62,62,76,48,62,71,53,58,56,58,54,69,37,74,55,61,61,58,68],\"xaxis\":\"x\",\"yaxis\":\"y\",\"type\":\"histogram\"},{\"alignmentgroup\":\"True\",\"bingroup\":\"x\",\"hovertemplate\":\"cp=atypical angina\\u003cbr\\u003eage=%{x}\\u003cbr\\u003ecount=%{y}\\u003cextra\\u003e\\u003c\\u002fextra\\u003e\",\"legendgroup\":\"atypical angina\",\"marker\":{\"color\":\"#ab63fa\",\"pattern\":{\"shape\":\"\"}},\"name\":\"atypical angina\",\"offsetgroup\":\"atypical angina\",\"orientation\":\"v\",\"showlegend\":true,\"x\":[41,56,56,44,48,49,58,71,41,44,48,52,52,54,41,45,44,29,55,62,59,52,45,46,54,45,63,66,54,50,55,46,34,74,49,42,41,41,62,70,57,58,57,35,58,56,56,55,41,57,28,29,29,31,32,32,32,34,34,34,35,35,36,37,37,38,38,39,39,39,39,39,40,40,41,41,41,41,41,41,42,42,42,43,43,43,43,43,43,44,44,45,45,45,46,47,47,48,48,48,48,48,48,49,49,49,49,50,50,50,50,51,51,51,52,52,52,52,52,53,53,53,53,54,54,54,54,54,54,54,54,54,54,54,54,55,55,55,55,55,55,56,57,58,58,59,59,62,35,36,57,44,55,56,58,58,53,53,55,74,60,56,63,56,62,58,63,55,61,61,54,57,63,62],\"xaxis\":\"x\",\"yaxis\":\"y\",\"type\":\"histogram\"}],                        {\"template\":{\"data\":{\"histogram2dcontour\":[{\"type\":\"histogram2dcontour\",\"colorbar\":{\"outlinewidth\":0,\"ticks\":\"\"},\"colorscale\":[[0.0,\"#0d0887\"],[0.1111111111111111,\"#46039f\"],[0.2222222222222222,\"#7201a8\"],[0.3333333333333333,\"#9c179e\"],[0.4444444444444444,\"#bd3786\"],[0.5555555555555556,\"#d8576b\"],[0.6666666666666666,\"#ed7953\"],[0.7777777777777778,\"#fb9f3a\"],[0.8888888888888888,\"#fdca26\"],[1.0,\"#f0f921\"]]}],\"choropleth\":[{\"type\":\"choropleth\",\"colorbar\":{\"outlinewidth\":0,\"ticks\":\"\"}}],\"histogram2d\":[{\"type\":\"histogram2d\",\"colorbar\":{\"outlinewidth\":0,\"ticks\":\"\"},\"colorscale\":[[0.0,\"#0d0887\"],[0.1111111111111111,\"#46039f\"],[0.2222222222222222,\"#7201a8\"],[0.3333333333333333,\"#9c179e\"],[0.4444444444444444,\"#bd3786\"],[0.5555555555555556,\"#d8576b\"],[0.6666666666666666,\"#ed7953\"],[0.7777777777777778,\"#fb9f3a\"],[0.8888888888888888,\"#fdca26\"],[1.0,\"#f0f921\"]]}],\"heatmap\":[{\"type\":\"heatmap\",\"colorbar\":{\"outlinewidth\":0,\"ticks\":\"\"},\"colorscale\":[[0.0,\"#0d0887\"],[0.1111111111111111,\"#46039f\"],[0.2222222222222222,\"#7201a8\"],[0.3333333333333333,\"#9c179e\"],[0.4444444444444444,\"#bd3786\"],[0.5555555555555556,\"#d8576b\"],[0.6666666666666666,\"#ed7953\"],[0.7777777777777778,\"#fb9f3a\"],[0.8888888888888888,\"#fdca26\"],[1.0,\"#f0f921\"]]}],\"heatmapgl\":[{\"type\":\"heatmapgl\",\"colorbar\":{\"outlinewidth\":0,\"ticks\":\"\"},\"colorscale\":[[0.0,\"#0d0887\"],[0.1111111111111111,\"#46039f\"],[0.2222222222222222,\"#7201a8\"],[0.3333333333333333,\"#9c179e\"],[0.4444444444444444,\"#bd3786\"],[0.5555555555555556,\"#d8576b\"],[0.6666666666666666,\"#ed7953\"],[0.7777777777777778,\"#fb9f3a\"],[0.8888888888888888,\"#fdca26\"],[1.0,\"#f0f921\"]]}],\"contourcarpet\":[{\"type\":\"contourcarpet\",\"colorbar\":{\"outlinewidth\":0,\"ticks\":\"\"}}],\"contour\":[{\"type\":\"contour\",\"colorbar\":{\"outlinewidth\":0,\"ticks\":\"\"},\"colorscale\":[[0.0,\"#0d0887\"],[0.1111111111111111,\"#46039f\"],[0.2222222222222222,\"#7201a8\"],[0.3333333333333333,\"#9c179e\"],[0.4444444444444444,\"#bd3786\"],[0.5555555555555556,\"#d8576b\"],[0.6666666666666666,\"#ed7953\"],[0.7777777777777778,\"#fb9f3a\"],[0.8888888888888888,\"#fdca26\"],[1.0,\"#f0f921\"]]}],\"surface\":[{\"type\":\"surface\",\"colorbar\":{\"outlinewidth\":0,\"ticks\":\"\"},\"colorscale\":[[0.0,\"#0d0887\"],[0.1111111111111111,\"#46039f\"],[0.2222222222222222,\"#7201a8\"],[0.3333333333333333,\"#9c179e\"],[0.4444444444444444,\"#bd3786\"],[0.5555555555555556,\"#d8576b\"],[0.6666666666666666,\"#ed7953\"],[0.7777777777777778,\"#fb9f3a\"],[0.8888888888888888,\"#fdca26\"],[1.0,\"#f0f921\"]]}],\"mesh3d\":[{\"type\":\"mesh3d\",\"colorbar\":{\"outlinewidth\":0,\"ticks\":\"\"}}],\"scatter\":[{\"fillpattern\":{\"fillmode\":\"overlay\",\"size\":10,\"solidity\":0.2},\"type\":\"scatter\"}],\"parcoords\":[{\"type\":\"parcoords\",\"line\":{\"colorbar\":{\"outlinewidth\":0,\"ticks\":\"\"}}}],\"scatterpolargl\":[{\"type\":\"scatterpolargl\",\"marker\":{\"colorbar\":{\"outlinewidth\":0,\"ticks\":\"\"}}}],\"bar\":[{\"error_x\":{\"color\":\"#2a3f5f\"},\"error_y\":{\"color\":\"#2a3f5f\"},\"marker\":{\"line\":{\"color\":\"#E5ECF6\",\"width\":0.5},\"pattern\":{\"fillmode\":\"overlay\",\"size\":10,\"solidity\":0.2}},\"type\":\"bar\"}],\"scattergeo\":[{\"type\":\"scattergeo\",\"marker\":{\"colorbar\":{\"outlinewidth\":0,\"ticks\":\"\"}}}],\"scatterpolar\":[{\"type\":\"scatterpolar\",\"marker\":{\"colorbar\":{\"outlinewidth\":0,\"ticks\":\"\"}}}],\"histogram\":[{\"marker\":{\"pattern\":{\"fillmode\":\"overlay\",\"size\":10,\"solidity\":0.2}},\"type\":\"histogram\"}],\"scattergl\":[{\"type\":\"scattergl\",\"marker\":{\"colorbar\":{\"outlinewidth\":0,\"ticks\":\"\"}}}],\"scatter3d\":[{\"type\":\"scatter3d\",\"line\":{\"colorbar\":{\"outlinewidth\":0,\"ticks\":\"\"}},\"marker\":{\"colorbar\":{\"outlinewidth\":0,\"ticks\":\"\"}}}],\"scattermapbox\":[{\"type\":\"scattermapbox\",\"marker\":{\"colorbar\":{\"outlinewidth\":0,\"ticks\":\"\"}}}],\"scatterternary\":[{\"type\":\"scatterternary\",\"marker\":{\"colorbar\":{\"outlinewidth\":0,\"ticks\":\"\"}}}],\"scattercarpet\":[{\"type\":\"scattercarpet\",\"marker\":{\"colorbar\":{\"outlinewidth\":0,\"ticks\":\"\"}}}],\"carpet\":[{\"aaxis\":{\"endlinecolor\":\"#2a3f5f\",\"gridcolor\":\"white\",\"linecolor\":\"white\",\"minorgridcolor\":\"white\",\"startlinecolor\":\"#2a3f5f\"},\"baxis\":{\"endlinecolor\":\"#2a3f5f\",\"gridcolor\":\"white\",\"linecolor\":\"white\",\"minorgridcolor\":\"white\",\"startlinecolor\":\"#2a3f5f\"},\"type\":\"carpet\"}],\"table\":[{\"cells\":{\"fill\":{\"color\":\"#EBF0F8\"},\"line\":{\"color\":\"white\"}},\"header\":{\"fill\":{\"color\":\"#C8D4E3\"},\"line\":{\"color\":\"white\"}},\"type\":\"table\"}],\"barpolar\":[{\"marker\":{\"line\":{\"color\":\"#E5ECF6\",\"width\":0.5},\"pattern\":{\"fillmode\":\"overlay\",\"size\":10,\"solidity\":0.2}},\"type\":\"barpolar\"}],\"pie\":[{\"automargin\":true,\"type\":\"pie\"}]},\"layout\":{\"autotypenumbers\":\"strict\",\"colorway\":[\"#636efa\",\"#EF553B\",\"#00cc96\",\"#ab63fa\",\"#FFA15A\",\"#19d3f3\",\"#FF6692\",\"#B6E880\",\"#FF97FF\",\"#FECB52\"],\"font\":{\"color\":\"#2a3f5f\"},\"hovermode\":\"closest\",\"hoverlabel\":{\"align\":\"left\"},\"paper_bgcolor\":\"white\",\"plot_bgcolor\":\"#E5ECF6\",\"polar\":{\"bgcolor\":\"#E5ECF6\",\"angularaxis\":{\"gridcolor\":\"white\",\"linecolor\":\"white\",\"ticks\":\"\"},\"radialaxis\":{\"gridcolor\":\"white\",\"linecolor\":\"white\",\"ticks\":\"\"}},\"ternary\":{\"bgcolor\":\"#E5ECF6\",\"aaxis\":{\"gridcolor\":\"white\",\"linecolor\":\"white\",\"ticks\":\"\"},\"baxis\":{\"gridcolor\":\"white\",\"linecolor\":\"white\",\"ticks\":\"\"},\"caxis\":{\"gridcolor\":\"white\",\"linecolor\":\"white\",\"ticks\":\"\"}},\"coloraxis\":{\"colorbar\":{\"outlinewidth\":0,\"ticks\":\"\"}},\"colorscale\":{\"sequential\":[[0.0,\"#0d0887\"],[0.1111111111111111,\"#46039f\"],[0.2222222222222222,\"#7201a8\"],[0.3333333333333333,\"#9c179e\"],[0.4444444444444444,\"#bd3786\"],[0.5555555555555556,\"#d8576b\"],[0.6666666666666666,\"#ed7953\"],[0.7777777777777778,\"#fb9f3a\"],[0.8888888888888888,\"#fdca26\"],[1.0,\"#f0f921\"]],\"sequentialminus\":[[0.0,\"#0d0887\"],[0.1111111111111111,\"#46039f\"],[0.2222222222222222,\"#7201a8\"],[0.3333333333333333,\"#9c179e\"],[0.4444444444444444,\"#bd3786\"],[0.5555555555555556,\"#d8576b\"],[0.6666666666666666,\"#ed7953\"],[0.7777777777777778,\"#fb9f3a\"],[0.8888888888888888,\"#fdca26\"],[1.0,\"#f0f921\"]],\"diverging\":[[0,\"#8e0152\"],[0.1,\"#c51b7d\"],[0.2,\"#de77ae\"],[0.3,\"#f1b6da\"],[0.4,\"#fde0ef\"],[0.5,\"#f7f7f7\"],[0.6,\"#e6f5d0\"],[0.7,\"#b8e186\"],[0.8,\"#7fbc41\"],[0.9,\"#4d9221\"],[1,\"#276419\"]]},\"xaxis\":{\"gridcolor\":\"white\",\"linecolor\":\"white\",\"ticks\":\"\",\"title\":{\"standoff\":15},\"zerolinecolor\":\"white\",\"automargin\":true,\"zerolinewidth\":2},\"yaxis\":{\"gridcolor\":\"white\",\"linecolor\":\"white\",\"ticks\":\"\",\"title\":{\"standoff\":15},\"zerolinecolor\":\"white\",\"automargin\":true,\"zerolinewidth\":2},\"scene\":{\"xaxis\":{\"backgroundcolor\":\"#E5ECF6\",\"gridcolor\":\"white\",\"linecolor\":\"white\",\"showbackground\":true,\"ticks\":\"\",\"zerolinecolor\":\"white\",\"gridwidth\":2},\"yaxis\":{\"backgroundcolor\":\"#E5ECF6\",\"gridcolor\":\"white\",\"linecolor\":\"white\",\"showbackground\":true,\"ticks\":\"\",\"zerolinecolor\":\"white\",\"gridwidth\":2},\"zaxis\":{\"backgroundcolor\":\"#E5ECF6\",\"gridcolor\":\"white\",\"linecolor\":\"white\",\"showbackground\":true,\"ticks\":\"\",\"zerolinecolor\":\"white\",\"gridwidth\":2}},\"shapedefaults\":{\"line\":{\"color\":\"#2a3f5f\"}},\"annotationdefaults\":{\"arrowcolor\":\"#2a3f5f\",\"arrowhead\":0,\"arrowwidth\":1},\"geo\":{\"bgcolor\":\"white\",\"landcolor\":\"#E5ECF6\",\"subunitcolor\":\"white\",\"showland\":true,\"showlakes\":true,\"lakecolor\":\"white\"},\"title\":{\"x\":0.05},\"mapbox\":{\"style\":\"light\"}}},\"xaxis\":{\"anchor\":\"y\",\"domain\":[0.0,1.0],\"title\":{\"text\":\"age\"}},\"yaxis\":{\"anchor\":\"x\",\"domain\":[0.0,1.0],\"title\":{\"text\":\"count\"}},\"legend\":{\"title\":{\"text\":\"cp\"},\"tracegroupgap\":0},\"margin\":{\"t\":60},\"barmode\":\"relative\"},                        {\"responsive\": true}                    ).then(function(){\n",
       "                            \n",
       "var gd = document.getElementById('60c2d7af-8234-43cd-bc4d-c1833aa992f5');\n",
       "var x = new MutationObserver(function (mutations, observer) {{\n",
       "        var display = window.getComputedStyle(gd).display;\n",
       "        if (!display || display === 'none') {{\n",
       "            console.log([gd, 'removed!']);\n",
       "            Plotly.purge(gd);\n",
       "            observer.disconnect();\n",
       "        }}\n",
       "}});\n",
       "\n",
       "// Listen for the removal of the full notebook cells\n",
       "var notebookContainer = gd.closest('#notebook-container');\n",
       "if (notebookContainer) {{\n",
       "    x.observe(notebookContainer, {childList: true});\n",
       "}}\n",
       "\n",
       "// Listen for the clearing of the current output cell\n",
       "var outputEl = gd.closest('.output');\n",
       "if (outputEl) {{\n",
       "    x.observe(outputEl, {childList: true});\n",
       "}}\n",
       "\n",
       "                        })                };                });            </script>        </div>"
      ]
     },
     "metadata": {},
     "output_type": "display_data"
    }
   ],
   "source": [
    "#plot\n",
    "fig = px.histogram(data_frame=df, x='age',color='cp')\n",
    "fig.show()"
   ]
  },
  {
   "cell_type": "code",
   "execution_count": 605,
   "metadata": {
    "execution": {
     "iopub.execute_input": "2024-11-22T20:16:02.580549Z",
     "iopub.status.busy": "2024-11-22T20:16:02.580224Z",
     "iopub.status.idle": "2024-11-22T20:16:02.871245Z",
     "shell.execute_reply": "2024-11-22T20:16:02.870033Z",
     "shell.execute_reply.started": "2024-11-22T20:16:02.580516Z"
    },
    "trusted": true
   },
   "outputs": [
    {
     "data": {
      "text/plain": [
       "<Axes: xlabel='cp', ylabel='count'>"
      ]
     },
     "execution_count": 605,
     "metadata": {},
     "output_type": "execute_result"
    },
    {
     "data": {
      "image/png": "[encoded data removed]",
      "text/plain": [
       "<Figure size 640x480 with 1 Axes>"
      ]
     },
     "metadata": {},
     "output_type": "display_data"
    }
   ],
   "source": [
    "#countplot of cp column group by sex variable\n",
    "sns.countplot(df, x='cp', hue='sex')"
   ]
  },
  {
   "cell_type": "markdown",
   "metadata": {},
   "source": [
    "* asymptomatic in males are larger compared to females. now the question is, in which dataset (place), asymptomatic data was maximum found."
   ]
  },
  {
   "cell_type": "code",
   "execution_count": 606,
   "metadata": {
    "execution": {
     "iopub.execute_input": "2024-11-22T20:16:02.872999Z",
     "iopub.status.busy": "2024-11-22T20:16:02.872498Z",
     "iopub.status.idle": "2024-11-22T20:16:03.208819Z",
     "shell.execute_reply": "2024-11-22T20:16:03.207556Z",
     "shell.execute_reply.started": "2024-11-22T20:16:02.872956Z"
    },
    "trusted": true
   },
   "outputs": [
    {
     "data": {
      "text/plain": [
       "<Axes: xlabel='cp', ylabel='count'>"
      ]
     },
     "execution_count": 606,
     "metadata": {},
     "output_type": "execute_result"
    },
    {
     "data": {
      "image/png": "[encoded data removed]",
      "text/plain": [
       "<Figure size 640x480 with 1 Axes>"
      ]
     },
     "metadata": {},
     "output_type": "display_data"
    }
   ],
   "source": [
    "#countplot of cp column group by dataset variable\n",
    "sns.countplot(df, x='cp', hue='dataset')"
   ]
  },
  {
   "cell_type": "markdown",
   "metadata": {},
   "source": [
    "* This graph shows that mostly data of asymptomatic collected from \"Cleveland\""
   ]
  },
  {
   "cell_type": "markdown",
   "metadata": {},
   "source": [
    "### trestbps\n",
    "\n",
    "(The normal resting blood pressure is 90/60 mm Hg & 120/80 mm Hg)\n",
    "\n"
   ]
  },
  {
   "cell_type": "code",
   "execution_count": 607,
   "metadata": {
    "execution": {
     "iopub.execute_input": "2024-11-22T20:16:03.214768Z",
     "iopub.status.busy": "2024-11-22T20:16:03.214351Z",
     "iopub.status.idle": "2024-11-22T20:16:03.224446Z",
     "shell.execute_reply": "2024-11-22T20:16:03.223156Z",
     "shell.execute_reply.started": "2024-11-22T20:16:03.214730Z"
    },
    "trusted": true
   },
   "outputs": [
    {
     "data": {
      "text/plain": [
       "0    145.0\n",
       "1    160.0\n",
       "2    120.0\n",
       "3    130.0\n",
       "4    130.0\n",
       "Name: trestbps, dtype: float64"
      ]
     },
     "execution_count": 607,
     "metadata": {},
     "output_type": "execute_result"
    }
   ],
   "source": [
    "#preview the trestbps\n",
    "df['trestbps'].head()"
   ]
  },
  {
   "cell_type": "code",
   "execution_count": 608,
   "metadata": {
    "execution": {
     "iopub.execute_input": "2024-11-22T20:16:03.226593Z",
     "iopub.status.busy": "2024-11-22T20:16:03.226230Z",
     "iopub.status.idle": "2024-11-22T20:16:03.244288Z",
     "shell.execute_reply": "2024-11-22T20:16:03.242748Z",
     "shell.execute_reply.started": "2024-11-22T20:16:03.226557Z"
    },
    "trusted": true
   },
   "outputs": [
    {
     "data": {
      "text/plain": [
       "count    861.000000\n",
       "mean     132.132404\n",
       "std       19.066070\n",
       "min        0.000000\n",
       "25%      120.000000\n",
       "50%      130.000000\n",
       "75%      140.000000\n",
       "max      200.000000\n",
       "Name: trestbps, dtype: float64"
      ]
     },
     "execution_count": 608,
     "metadata": {},
     "output_type": "execute_result"
    }
   ],
   "source": [
    "#summary statistics of trestbps\n",
    "df['trestbps'].describe()\n"
   ]
  },
  {
   "cell_type": "code",
   "execution_count": 609,
   "metadata": {
    "execution": {
     "iopub.execute_input": "2024-11-22T20:16:03.246132Z",
     "iopub.status.busy": "2024-11-22T20:16:03.245598Z",
     "iopub.status.idle": "2024-11-22T20:16:03.620886Z",
     "shell.execute_reply": "2024-11-22T20:16:03.619753Z",
     "shell.execute_reply.started": "2024-11-22T20:16:03.246065Z"
    },
    "trusted": true
   },
   "outputs": [
    {
     "data": {
      "text/plain": [
       "<Axes: xlabel='trestbps', ylabel='Count'>"
      ]
     },
     "execution_count": 609,
     "metadata": {},
     "output_type": "execute_result"
    },
    {
     "data": {
      "image/png": "[encoded data removed]",
      "text/plain": [
       "<Figure size 640x480 with 1 Axes>"
      ]
     },
     "metadata": {},
     "output_type": "display_data"
    }
   ],
   "source": [
    "#create a histplot of trestbps column\n",
    "sns.histplot(data=df, x='trestbps',kde=True)"
   ]
  },
  {
   "cell_type": "code",
   "execution_count": 610,
   "metadata": {
    "execution": {
     "iopub.execute_input": "2024-11-22T20:16:03.622624Z",
     "iopub.status.busy": "2024-11-22T20:16:03.622313Z",
     "iopub.status.idle": "2024-11-22T20:16:03.630851Z",
     "shell.execute_reply": "2024-11-22T20:16:03.629537Z",
     "shell.execute_reply.started": "2024-11-22T20:16:03.622594Z"
    },
    "trusted": true
   },
   "outputs": [
    {
     "data": {
      "text/plain": [
       "59"
      ]
     },
     "execution_count": 610,
     "metadata": {},
     "output_type": "execute_result"
    }
   ],
   "source": [
    "#missing values check\n",
    "df['trestbps'].isnull().sum()"
   ]
  },
  {
   "cell_type": "markdown",
   "metadata": {},
   "source": [
    "* We have to impute these missing values in the next steps."
   ]
  },
  {
   "cell_type": "code",
   "execution_count": 611,
   "metadata": {
    "execution": {
     "iopub.execute_input": "2024-11-22T20:16:03.632693Z",
     "iopub.status.busy": "2024-11-22T20:16:03.632315Z",
     "iopub.status.idle": "2024-11-22T20:16:03.656505Z",
     "shell.execute_reply": "2024-11-22T20:16:03.655202Z",
     "shell.execute_reply.started": "2024-11-22T20:16:03.632630Z"
    },
    "trusted": true
   },
   "outputs": [
    {
     "data": {
      "text/plain": [
       "sex     trestbps\n",
       "Female  120.0       32\n",
       "        130.0       30\n",
       "        140.0       18\n",
       "        150.0       13\n",
       "        110.0       11\n",
       "                    ..\n",
       "Male    123.0        1\n",
       "        129.0        1\n",
       "        164.0        1\n",
       "        185.0        1\n",
       "        192.0        1\n",
       "Name: count, Length: 98, dtype: int64"
      ]
     },
     "execution_count": 611,
     "metadata": {},
     "output_type": "execute_result"
    }
   ],
   "source": [
    "#check trestbps value based on sex variable\n",
    "(df.groupby('sex')['trestbps']).value_counts()"
   ]
  },
  {
   "cell_type": "markdown",
   "metadata": {},
   "source": [
    "### chol (cholestrol)"
   ]
  },
  {
   "cell_type": "code",
   "execution_count": 612,
   "metadata": {
    "execution": {
     "iopub.execute_input": "2024-11-22T20:16:03.658901Z",
     "iopub.status.busy": "2024-11-22T20:16:03.658404Z",
     "iopub.status.idle": "2024-11-22T20:16:03.670168Z",
     "shell.execute_reply": "2024-11-22T20:16:03.669053Z",
     "shell.execute_reply.started": "2024-11-22T20:16:03.658847Z"
    },
    "trusted": true
   },
   "outputs": [
    {
     "data": {
      "text/plain": [
       "chol\n",
       "0.0      172\n",
       "220.0     10\n",
       "254.0     10\n",
       "223.0      9\n",
       "230.0      9\n",
       "        ... \n",
       "360.0      1\n",
       "412.0      1\n",
       "358.0      1\n",
       "321.0      1\n",
       "385.0      1\n",
       "Name: count, Length: 217, dtype: int64"
      ]
     },
     "execution_count": 612,
     "metadata": {},
     "output_type": "execute_result"
    }
   ],
   "source": [
    "#cholestrol level = 0? is it outlier?\n",
    "df['chol'].value_counts()\n",
    "#Answer: 171 records consist of 0 cholestrol and dataset is collected from 4 different authentic places. So, these are not outliers."
   ]
  },
  {
   "cell_type": "markdown",
   "metadata": {},
   "source": [
    "### fbs (fasting blood sugar)"
   ]
  },
  {
   "cell_type": "code",
   "execution_count": 613,
   "metadata": {
    "execution": {
     "iopub.execute_input": "2024-11-22T20:16:03.672072Z",
     "iopub.status.busy": "2024-11-22T20:16:03.671605Z",
     "iopub.status.idle": "2024-11-22T20:16:03.686355Z",
     "shell.execute_reply": "2024-11-22T20:16:03.685063Z",
     "shell.execute_reply.started": "2024-11-22T20:16:03.672025Z"
    },
    "trusted": true
   },
   "outputs": [
    {
     "data": {
      "text/plain": [
       "0       True\n",
       "1      False\n",
       "2      False\n",
       "3      False\n",
       "4      False\n",
       "       ...  \n",
       "915     True\n",
       "916    False\n",
       "917     True\n",
       "918     True\n",
       "919    False\n",
       "Name: fbs, Length: 920, dtype: object"
      ]
     },
     "execution_count": 613,
     "metadata": {},
     "output_type": "execute_result"
    }
   ],
   "source": [
    "df['fbs']"
   ]
  },
  {
   "cell_type": "code",
   "execution_count": 614,
   "metadata": {
    "execution": {
     "iopub.execute_input": "2024-11-22T20:16:03.687962Z",
     "iopub.status.busy": "2024-11-22T20:16:03.687489Z",
     "iopub.status.idle": "2024-11-22T20:16:03.701105Z",
     "shell.execute_reply": "2024-11-22T20:16:03.700010Z",
     "shell.execute_reply.started": "2024-11-22T20:16:03.687926Z"
    },
    "trusted": true
   },
   "outputs": [
    {
     "data": {
      "text/plain": [
       "restecg\n",
       "normal              551\n",
       "lv hypertrophy      188\n",
       "st-t abnormality    179\n",
       "Name: count, dtype: int64"
      ]
     },
     "execution_count": 614,
     "metadata": {},
     "output_type": "execute_result"
    }
   ],
   "source": [
    "df['restecg'].value_counts()"
   ]
  },
  {
   "cell_type": "code",
   "execution_count": 615,
   "metadata": {
    "execution": {
     "iopub.execute_input": "2024-11-22T20:16:03.702826Z",
     "iopub.status.busy": "2024-11-22T20:16:03.702457Z",
     "iopub.status.idle": "2024-11-22T20:16:03.715844Z",
     "shell.execute_reply": "2024-11-22T20:16:03.714546Z",
     "shell.execute_reply.started": "2024-11-22T20:16:03.702792Z"
    },
    "trusted": true
   },
   "outputs": [
    {
     "data": {
      "text/plain": [
       "2"
      ]
     },
     "execution_count": 615,
     "metadata": {},
     "output_type": "execute_result"
    }
   ],
   "source": [
    "df['restecg'].isnull().sum()"
   ]
  },
  {
   "cell_type": "code",
   "execution_count": 616,
   "metadata": {
    "execution": {
     "iopub.execute_input": "2024-11-22T20:16:03.717992Z",
     "iopub.status.busy": "2024-11-22T20:16:03.717592Z",
     "iopub.status.idle": "2024-11-22T20:16:03.734740Z",
     "shell.execute_reply": "2024-11-22T20:16:03.733368Z",
     "shell.execute_reply.started": "2024-11-22T20:16:03.717956Z"
    },
    "trusted": true
   },
   "outputs": [
    {
     "data": {
      "text/plain": [
       "sex     restecg         \n",
       "Female  normal              119\n",
       "        lv hypertrophy       47\n",
       "        st-t abnormality     28\n",
       "Male    normal              432\n",
       "        st-t abnormality    151\n",
       "        lv hypertrophy      141\n",
       "Name: count, dtype: int64"
      ]
     },
     "execution_count": 616,
     "metadata": {},
     "output_type": "execute_result"
    }
   ],
   "source": [
    "#restecg based on gender\n",
    "df.groupby('sex')['restecg'].value_counts()"
   ]
  },
  {
   "cell_type": "code",
   "execution_count": 617,
   "metadata": {
    "execution": {
     "iopub.execute_input": "2024-11-22T20:16:03.736564Z",
     "iopub.status.busy": "2024-11-22T20:16:03.736164Z",
     "iopub.status.idle": "2024-11-22T20:16:03.947356Z",
     "shell.execute_reply": "2024-11-22T20:16:03.946013Z",
     "shell.execute_reply.started": "2024-11-22T20:16:03.736529Z"
    },
    "trusted": true
   },
   "outputs": [
    {
     "data": {
      "text/plain": [
       "<Axes: xlabel='restecg', ylabel='count'>"
      ]
     },
     "execution_count": 617,
     "metadata": {},
     "output_type": "execute_result"
    },
    {
     "data": {
      "image/png": "[encoded data removed]",
      "text/plain": [
       "<Figure size 640x480 with 1 Axes>"
      ]
     },
     "metadata": {},
     "output_type": "display_data"
    }
   ],
   "source": [
    "sns.countplot(data=df, x='restecg', hue='sex')"
   ]
  },
  {
   "cell_type": "markdown",
   "metadata": {},
   "source": [
    "### thalch"
   ]
  },
  {
   "cell_type": "code",
   "execution_count": 618,
   "metadata": {
    "execution": {
     "iopub.execute_input": "2024-11-22T20:16:03.949184Z",
     "iopub.status.busy": "2024-11-22T20:16:03.948774Z",
     "iopub.status.idle": "2024-11-22T20:16:03.957012Z",
     "shell.execute_reply": "2024-11-22T20:16:03.955721Z",
     "shell.execute_reply.started": "2024-11-22T20:16:03.949145Z"
    },
    "trusted": true
   },
   "outputs": [
    {
     "name": "stdout",
     "output_type": "stream",
     "text": [
      "60.0\n",
      "202.0\n"
     ]
    }
   ],
   "source": [
    "print(df['thalch'].min()) #minimum \n",
    "print(df['thalch'].max()) #maximum"
   ]
  },
  {
   "cell_type": "markdown",
   "metadata": {},
   "source": [
    "### exang"
   ]
  },
  {
   "cell_type": "code",
   "execution_count": 619,
   "metadata": {
    "execution": {
     "iopub.execute_input": "2024-11-22T20:16:03.959023Z",
     "iopub.status.busy": "2024-11-22T20:16:03.958434Z",
     "iopub.status.idle": "2024-11-22T20:16:03.975084Z",
     "shell.execute_reply": "2024-11-22T20:16:03.973701Z",
     "shell.execute_reply.started": "2024-11-22T20:16:03.958946Z"
    },
    "trusted": true
   },
   "outputs": [
    {
     "data": {
      "text/plain": [
       "0      False\n",
       "1       True\n",
       "2       True\n",
       "3      False\n",
       "4      False\n",
       "       ...  \n",
       "915    False\n",
       "916      NaN\n",
       "917    False\n",
       "918      NaN\n",
       "919     True\n",
       "Name: exang, Length: 920, dtype: object"
      ]
     },
     "execution_count": 619,
     "metadata": {},
     "output_type": "execute_result"
    }
   ],
   "source": [
    "df['exang']"
   ]
  },
  {
   "cell_type": "markdown",
   "metadata": {},
   "source": [
    "### oldpeak"
   ]
  },
  {
   "cell_type": "code",
   "execution_count": 620,
   "metadata": {
    "execution": {
     "iopub.execute_input": "2024-11-22T20:16:03.977058Z",
     "iopub.status.busy": "2024-11-22T20:16:03.976678Z",
     "iopub.status.idle": "2024-11-22T20:16:03.989744Z",
     "shell.execute_reply": "2024-11-22T20:16:03.988455Z",
     "shell.execute_reply.started": "2024-11-22T20:16:03.977019Z"
    },
    "trusted": true
   },
   "outputs": [
    {
     "name": "stdout",
     "output_type": "stream",
     "text": [
      "-2.6\n",
      "6.2\n"
     ]
    }
   ],
   "source": [
    "print(df['oldpeak'].min())\n",
    "print(df['oldpeak'].max())"
   ]
  },
  {
   "cell_type": "markdown",
   "metadata": {},
   "source": [
    "### slope"
   ]
  },
  {
   "cell_type": "code",
   "execution_count": 621,
   "metadata": {
    "execution": {
     "iopub.execute_input": "2024-11-22T20:16:03.991327Z",
     "iopub.status.busy": "2024-11-22T20:16:03.991007Z",
     "iopub.status.idle": "2024-11-22T20:16:04.008023Z",
     "shell.execute_reply": "2024-11-22T20:16:04.006936Z",
     "shell.execute_reply.started": "2024-11-22T20:16:03.991297Z"
    },
    "trusted": true
   },
   "outputs": [
    {
     "data": {
      "text/plain": [
       "slope\n",
       "flat           345\n",
       "upsloping      203\n",
       "downsloping     63\n",
       "Name: count, dtype: int64"
      ]
     },
     "execution_count": 621,
     "metadata": {},
     "output_type": "execute_result"
    }
   ],
   "source": [
    "df['slope'].value_counts()"
   ]
  },
  {
   "cell_type": "markdown",
   "metadata": {},
   "source": [
    "* Flat:\n",
    "Indicates no significant change in the ST segment during exercise, often associated with a higher risk of heart disease.\n",
    "\n",
    "* Upsloping:\n",
    "The ST segment rises during exercise, which is generally considered a normal response or less indicative of severe heart issues.\n",
    "\n",
    "* Downsloping:\n",
    "The ST segment drops during exercise, strongly associated with ischemia (insufficient blood flow to the heart) and heart disease risk.\n",
    "\n",
    "The counts indicate how many patients in the dataset have each slope type, with flat slopes being the most common."
   ]
  },
  {
   "cell_type": "markdown",
   "metadata": {},
   "source": [
    "### ca"
   ]
  },
  {
   "cell_type": "markdown",
   "metadata": {},
   "source": [
    "In a heart disease dataset, ca typically refers to the number of major coronary arteries (0-3) that are colored by fluoroscopy. This variable is used to assess the extent of coronary artery disease (CAD).\n",
    "\n",
    "* Meaning of Values:\n",
    "  \n",
    "0: No major vessels are blocked or show significant narrowing.\n",
    "1-3: Number of major coronary arteries (out of 3) that are narrowed or blocked.\n",
    "1: One artery affected.\n",
    "2: Two arteries affected.\n",
    "3: Three arteries affected.\n",
    "\n",
    "* Significance:\n",
    "Higher values of ca indicate more severe coronary artery disease and a higher risk of heart-related complications.\n",
    "\n",
    "\n",
    "\n",
    "\n",
    "\n"
   ]
  },
  {
   "cell_type": "code",
   "execution_count": 622,
   "metadata": {
    "execution": {
     "iopub.execute_input": "2024-11-22T20:16:04.009862Z",
     "iopub.status.busy": "2024-11-22T20:16:04.009434Z",
     "iopub.status.idle": "2024-11-22T20:16:04.023108Z",
     "shell.execute_reply": "2024-11-22T20:16:04.021662Z",
     "shell.execute_reply.started": "2024-11-22T20:16:04.009825Z"
    },
    "trusted": true
   },
   "outputs": [
    {
     "data": {
      "text/plain": [
       "0.0"
      ]
     },
     "execution_count": 622,
     "metadata": {},
     "output_type": "execute_result"
    }
   ],
   "source": [
    "df['ca'].min()"
   ]
  },
  {
   "cell_type": "code",
   "execution_count": 623,
   "metadata": {
    "execution": {
     "iopub.execute_input": "2024-11-22T20:16:04.024971Z",
     "iopub.status.busy": "2024-11-22T20:16:04.024559Z",
     "iopub.status.idle": "2024-11-22T20:16:04.037086Z",
     "shell.execute_reply": "2024-11-22T20:16:04.035909Z",
     "shell.execute_reply.started": "2024-11-22T20:16:04.024934Z"
    },
    "trusted": true
   },
   "outputs": [
    {
     "data": {
      "text/plain": [
       "3.0"
      ]
     },
     "execution_count": 623,
     "metadata": {},
     "output_type": "execute_result"
    }
   ],
   "source": [
    "df['ca'].max()"
   ]
  },
  {
   "cell_type": "code",
   "execution_count": 624,
   "metadata": {
    "execution": {
     "iopub.execute_input": "2024-11-22T20:16:04.039053Z",
     "iopub.status.busy": "2024-11-22T20:16:04.038508Z",
     "iopub.status.idle": "2024-11-22T20:16:04.053434Z",
     "shell.execute_reply": "2024-11-22T20:16:04.051850Z",
     "shell.execute_reply.started": "2024-11-22T20:16:04.039014Z"
    },
    "trusted": true
   },
   "outputs": [
    {
     "data": {
      "text/plain": [
       "ca\n",
       "0.0    181\n",
       "1.0     67\n",
       "2.0     41\n",
       "3.0     20\n",
       "Name: count, dtype: int64"
      ]
     },
     "execution_count": 624,
     "metadata": {},
     "output_type": "execute_result"
    }
   ],
   "source": [
    "df['ca'].value_counts().head(4)"
   ]
  },
  {
   "cell_type": "markdown",
   "metadata": {},
   "source": [
    "### thal"
   ]
  },
  {
   "cell_type": "code",
   "execution_count": 625,
   "metadata": {
    "execution": {
     "iopub.execute_input": "2024-11-22T20:16:04.055280Z",
     "iopub.status.busy": "2024-11-22T20:16:04.054831Z",
     "iopub.status.idle": "2024-11-22T20:16:04.073350Z",
     "shell.execute_reply": "2024-11-22T20:16:04.072004Z",
     "shell.execute_reply.started": "2024-11-22T20:16:04.055230Z"
    },
    "trusted": true
   },
   "outputs": [
    {
     "data": {
      "text/plain": [
       "thal\n",
       "normal               196\n",
       "reversable defect    192\n",
       "fixed defect          46\n",
       "Name: count, dtype: int64"
      ]
     },
     "execution_count": 625,
     "metadata": {},
     "output_type": "execute_result"
    }
   ],
   "source": [
    "df['thal'].value_counts()"
   ]
  },
  {
   "cell_type": "code",
   "execution_count": 626,
   "metadata": {
    "execution": {
     "iopub.execute_input": "2024-11-22T20:16:04.075611Z",
     "iopub.status.busy": "2024-11-22T20:16:04.074748Z",
     "iopub.status.idle": "2024-11-22T20:16:04.092856Z",
     "shell.execute_reply": "2024-11-22T20:16:04.091587Z",
     "shell.execute_reply.started": "2024-11-22T20:16:04.075557Z"
    },
    "trusted": true
   },
   "outputs": [
    {
     "data": {
      "text/plain": [
       "sex     thal             \n",
       "Female  normal                86\n",
       "        reversable defect     21\n",
       "        fixed defect           4\n",
       "Male    reversable defect    171\n",
       "        normal               110\n",
       "        fixed defect          42\n",
       "Name: count, dtype: int64"
      ]
     },
     "execution_count": 626,
     "metadata": {},
     "output_type": "execute_result"
    }
   ],
   "source": [
    "#thal based on gender\n",
    "df.groupby('sex')['thal'].value_counts()"
   ]
  },
  {
   "cell_type": "code",
   "execution_count": 627,
   "metadata": {
    "execution": {
     "iopub.execute_input": "2024-11-22T20:16:04.094661Z",
     "iopub.status.busy": "2024-11-22T20:16:04.094316Z",
     "iopub.status.idle": "2024-11-22T20:16:04.366320Z",
     "shell.execute_reply": "2024-11-22T20:16:04.365101Z",
     "shell.execute_reply.started": "2024-11-22T20:16:04.094610Z"
    },
    "trusted": true
   },
   "outputs": [
    {
     "data": {
      "text/plain": [
       "<Axes: xlabel='thal', ylabel='count'>"
      ]
     },
     "execution_count": 627,
     "metadata": {},
     "output_type": "execute_result"
    },
    {
     "data": {
      "image/png": "[encoded data removed]",
      "text/plain": [
       "<Figure size 640x480 with 1 Axes>"
      ]
     },
     "metadata": {},
     "output_type": "display_data"
    }
   ],
   "source": [
    "#plot\n",
    "sns.countplot(data=df, x='thal', hue= 'sex')"
   ]
  },
  {
   "cell_type": "markdown",
   "metadata": {},
   "source": [
    "### num (target variable)"
   ]
  },
  {
   "cell_type": "markdown",
   "metadata": {},
   "source": [
    "'num' typically refers to the diagnosis of heart disease, often represented as a categorical variable indicating the presence or absence of the condition.\n",
    "\n",
    "* Possible Values:\n",
    "0: No heart disease (healthy).\n",
    "1, 2, 3, 4: Different levels of heart disease severity, where higher values indicate more severe forms of the condition."
   ]
  },
  {
   "cell_type": "code",
   "execution_count": 628,
   "metadata": {
    "execution": {
     "iopub.execute_input": "2024-11-22T20:16:04.368014Z",
     "iopub.status.busy": "2024-11-22T20:16:04.367660Z",
     "iopub.status.idle": "2024-11-22T20:16:04.379726Z",
     "shell.execute_reply": "2024-11-22T20:16:04.378252Z",
     "shell.execute_reply.started": "2024-11-22T20:16:04.367980Z"
    },
    "trusted": true
   },
   "outputs": [
    {
     "data": {
      "text/plain": [
       "count    920.000000\n",
       "mean       0.995652\n",
       "std        1.142693\n",
       "min        0.000000\n",
       "25%        0.000000\n",
       "50%        1.000000\n",
       "75%        2.000000\n",
       "max        4.000000\n",
       "Name: num, dtype: float64"
      ]
     },
     "execution_count": 628,
     "metadata": {},
     "output_type": "execute_result"
    }
   ],
   "source": [
    "df['num'].describe()"
   ]
  },
  {
   "cell_type": "code",
   "execution_count": 629,
   "metadata": {
    "execution": {
     "iopub.execute_input": "2024-11-22T20:16:04.382018Z",
     "iopub.status.busy": "2024-11-22T20:16:04.381512Z",
     "iopub.status.idle": "2024-11-22T20:16:04.392969Z",
     "shell.execute_reply": "2024-11-22T20:16:04.391597Z",
     "shell.execute_reply.started": "2024-11-22T20:16:04.381965Z"
    },
    "trusted": true
   },
   "outputs": [
    {
     "name": "stdout",
     "output_type": "stream",
     "text": [
      "num\n",
      "0    411\n",
      "1    265\n",
      "2    109\n",
      "3    107\n",
      "4     28\n",
      "Name: count, dtype: int64\n"
     ]
    }
   ],
   "source": [
    "# Count of unique values in `num`\n",
    "print(df['num'].value_counts())\n"
   ]
  },
  {
   "cell_type": "code",
   "execution_count": 630,
   "metadata": {
    "execution": {
     "iopub.execute_input": "2024-11-22T20:16:04.395755Z",
     "iopub.status.busy": "2024-11-22T20:16:04.394664Z",
     "iopub.status.idle": "2024-11-22T20:16:04.593397Z",
     "shell.execute_reply": "2024-11-22T20:16:04.592238Z",
     "shell.execute_reply.started": "2024-11-22T20:16:04.395698Z"
    },
    "trusted": true
   },
   "outputs": [
    {
     "data": {
      "image/png": "[encoded data removed]",
      "text/plain": [
       "<Figure size 640x480 with 1 Axes>"
      ]
     },
     "metadata": {},
     "output_type": "display_data"
    }
   ],
   "source": [
    "# Plot the distribution of `num` values\n",
    "sns.countplot(data=df, x='num', palette='viridis')\n",
    "plt.title('Distribution of Heart Disease Severity (num)')\n",
    "plt.xlabel('Heart Disease Severity (num)')\n",
    "plt.ylabel('Count')\n",
    "plt.show()\n"
   ]
  },
  {
   "cell_type": "code",
   "execution_count": 631,
   "metadata": {
    "execution": {
     "iopub.execute_input": "2024-11-22T20:16:04.595528Z",
     "iopub.status.busy": "2024-11-22T20:16:04.595060Z",
     "iopub.status.idle": "2024-11-22T20:16:04.604405Z",
     "shell.execute_reply": "2024-11-22T20:16:04.602999Z",
     "shell.execute_reply.started": "2024-11-22T20:16:04.595476Z"
    },
    "trusted": true
   },
   "outputs": [
    {
     "name": "stdout",
     "output_type": "stream",
     "text": [
      "num\n",
      "0    44.673913\n",
      "1    28.804348\n",
      "2    11.847826\n",
      "3    11.630435\n",
      "4     3.043478\n",
      "Name: proportion, dtype: float64\n"
     ]
    }
   ],
   "source": [
    "# Percentage distribution of `num`\n",
    "percentage_distribution = df['num'].value_counts(normalize=True) * 100\n",
    "print(percentage_distribution)\n"
   ]
  },
  {
   "cell_type": "code",
   "execution_count": 632,
   "metadata": {
    "execution": {
     "iopub.execute_input": "2024-11-22T20:16:04.606411Z",
     "iopub.status.busy": "2024-11-22T20:16:04.605928Z",
     "iopub.status.idle": "2024-11-22T20:16:04.621117Z",
     "shell.execute_reply": "2024-11-22T20:16:04.619888Z",
     "shell.execute_reply.started": "2024-11-22T20:16:04.606362Z"
    },
    "trusted": true
   },
   "outputs": [
    {
     "name": "stdout",
     "output_type": "stream",
     "text": [
      "num\n",
      "0    50.547445\n",
      "1    53.528302\n",
      "2    57.577982\n",
      "3    59.214953\n",
      "4    59.214286\n",
      "Name: age, dtype: float64\n"
     ]
    }
   ],
   "source": [
    "# Average age for each heart disease severity level\n",
    "avg_age_per_num = df.groupby('num')['age'].mean()\n",
    "print(avg_age_per_num)\n"
   ]
  },
  {
   "cell_type": "markdown",
   "metadata": {},
   "source": [
    "## **Missing Values**"
   ]
  },
  {
   "cell_type": "code",
   "execution_count": 633,
   "metadata": {
    "execution": {
     "iopub.execute_input": "2024-11-22T20:16:04.623008Z",
     "iopub.status.busy": "2024-11-22T20:16:04.622618Z",
     "iopub.status.idle": "2024-11-22T20:16:04.638400Z",
     "shell.execute_reply": "2024-11-22T20:16:04.637052Z",
     "shell.execute_reply.started": "2024-11-22T20:16:04.622970Z"
    },
    "trusted": true
   },
   "outputs": [
    {
     "name": "stdout",
     "output_type": "stream",
     "text": [
      "The missing values in trestbps variable are:  59\n"
     ]
    }
   ],
   "source": [
    "#deal with missing values in trestbps column\n",
    "print(f'The missing values in trestbps variable are: ',df['trestbps'].isnull().sum())"
   ]
  },
  {
   "cell_type": "code",
   "execution_count": 634,
   "metadata": {
    "execution": {
     "iopub.execute_input": "2024-11-22T20:16:04.640341Z",
     "iopub.status.busy": "2024-11-22T20:16:04.639918Z",
     "iopub.status.idle": "2024-11-22T20:16:04.651653Z",
     "shell.execute_reply": "2024-11-22T20:16:04.650250Z",
     "shell.execute_reply.started": "2024-11-22T20:16:04.640304Z"
    },
    "trusted": true
   },
   "outputs": [
    {
     "name": "stdout",
     "output_type": "stream",
     "text": [
      "The percentage of missing values in trestbps variable are: 6.41%\n"
     ]
    }
   ],
   "source": [
    "#percentage of missing values\n",
    "print(f\"The percentage of missing values in trestbps variable are: {df['trestbps'].isnull().sum()/len(df)*100:.2f}%\")"
   ]
  },
  {
   "cell_type": "code",
   "execution_count": 635,
   "metadata": {
    "execution": {
     "iopub.execute_input": "2024-11-22T20:16:04.653694Z",
     "iopub.status.busy": "2024-11-22T20:16:04.653270Z",
     "iopub.status.idle": "2024-11-22T20:16:04.674077Z",
     "shell.execute_reply": "2024-11-22T20:16:04.672425Z",
     "shell.execute_reply.started": "2024-11-22T20:16:04.653628Z"
    },
    "trusted": true
   },
   "outputs": [],
   "source": [
    "#impute missing values using iterative imputer\n",
    "imputer = IterativeImputer(max_iter=10,random_state=42)\n",
    "#fit the imputer on trestbps\n",
    "imputer.fit(df[['trestbps']])\n",
    "#transform \n",
    "df['trestbps'] = imputer.transform(df[['trestbps']])\n"
   ]
  },
  {
   "cell_type": "code",
   "execution_count": 636,
   "metadata": {
    "execution": {
     "iopub.execute_input": "2024-11-22T20:16:04.676277Z",
     "iopub.status.busy": "2024-11-22T20:16:04.675817Z",
     "iopub.status.idle": "2024-11-22T20:16:04.697844Z",
     "shell.execute_reply": "2024-11-22T20:16:04.696466Z",
     "shell.execute_reply.started": "2024-11-22T20:16:04.676226Z"
    },
    "trusted": true
   },
   "outputs": [
    {
     "data": {
      "text/plain": [
       "0"
      ]
     },
     "execution_count": 636,
     "metadata": {},
     "output_type": "execute_result"
    }
   ],
   "source": [
    "#verify if the missing values are imputed or not\n",
    "df['trestbps'].isnull().sum()"
   ]
  },
  {
   "cell_type": "code",
   "execution_count": 637,
   "metadata": {
    "execution": {
     "iopub.execute_input": "2024-11-22T20:16:04.699598Z",
     "iopub.status.busy": "2024-11-22T20:16:04.699255Z",
     "iopub.status.idle": "2024-11-22T20:16:04.712204Z",
     "shell.execute_reply": "2024-11-22T20:16:04.711052Z",
     "shell.execute_reply.started": "2024-11-22T20:16:04.699565Z"
    },
    "trusted": true
   },
   "outputs": [
    {
     "data": {
      "text/plain": [
       "['sex', 'dataset', 'cp', 'fbs', 'restecg', 'exang', 'slope', 'thal']"
      ]
     },
     "execution_count": 637,
     "metadata": {},
     "output_type": "execute_result"
    }
   ],
   "source": [
    "#find only categorical columns\n",
    "cat_cols = df.select_dtypes(include='object').columns.tolist()\n",
    "cat_cols"
   ]
  },
  {
   "cell_type": "code",
   "execution_count": 638,
   "metadata": {
    "execution": {
     "iopub.execute_input": "2024-11-22T20:16:04.714041Z",
     "iopub.status.busy": "2024-11-22T20:16:04.713578Z",
     "iopub.status.idle": "2024-11-22T20:16:04.727528Z",
     "shell.execute_reply": "2024-11-22T20:16:04.726238Z",
     "shell.execute_reply.started": "2024-11-22T20:16:04.714003Z"
    },
    "trusted": true
   },
   "outputs": [
    {
     "data": {
      "text/plain": [
       "['id', 'age', 'trestbps', 'chol', 'thalch', 'oldpeak', 'ca', 'num']"
      ]
     },
     "execution_count": 638,
     "metadata": {},
     "output_type": "execute_result"
    }
   ],
   "source": [
    "#find only numeric columns\n",
    "num_cols = df.select_dtypes(exclude='object').columns.tolist()\n",
    "num_cols"
   ]
  },
  {
   "cell_type": "code",
   "execution_count": 639,
   "metadata": {
    "execution": {
     "iopub.execute_input": "2024-11-22T20:16:04.729531Z",
     "iopub.status.busy": "2024-11-22T20:16:04.729142Z",
     "iopub.status.idle": "2024-11-22T20:16:04.741958Z",
     "shell.execute_reply": "2024-11-22T20:16:04.740659Z",
     "shell.execute_reply.started": "2024-11-22T20:16:04.729494Z"
    },
    "trusted": true
   },
   "outputs": [
    {
     "data": {
      "text/plain": [
       "[]"
      ]
     },
     "execution_count": 639,
     "metadata": {},
     "output_type": "execute_result"
    }
   ],
   "source": [
    "#find only boolean columns\n",
    "bool_cols = df.select_dtypes(include='bool').columns.tolist()\n",
    "bool_cols"
   ]
  },
  {
   "cell_type": "code",
   "execution_count": 640,
   "metadata": {
    "execution": {
     "iopub.execute_input": "2024-11-22T20:16:04.743669Z",
     "iopub.status.busy": "2024-11-22T20:16:04.743301Z",
     "iopub.status.idle": "2024-11-22T20:16:04.764371Z",
     "shell.execute_reply": "2024-11-22T20:16:04.763032Z",
     "shell.execute_reply.started": "2024-11-22T20:16:04.743606Z"
    },
    "trusted": true
   },
   "outputs": [
    {
     "data": {
      "text/plain": [
       "ca          66.413043\n",
       "thal        52.826087\n",
       "slope       33.586957\n",
       "fbs          9.782609\n",
       "oldpeak      6.739130\n",
       "thalch       5.978261\n",
       "exang        5.978261\n",
       "chol         3.260870\n",
       "restecg      0.217391\n",
       "id           0.000000\n",
       "age          0.000000\n",
       "sex          0.000000\n",
       "dataset      0.000000\n",
       "cp           0.000000\n",
       "trestbps     0.000000\n",
       "num          0.000000\n",
       "dtype: float64"
      ]
     },
     "execution_count": 640,
     "metadata": {},
     "output_type": "execute_result"
    }
   ],
   "source": [
    "(df.isnull().sum()/len(df) * 100).sort_values(ascending=False)"
   ]
  },
  {
   "cell_type": "markdown",
   "metadata": {},
   "source": [
    "* There are 9 columns which have missing values but first we impute those column that has numerical datatype. "
   ]
  },
  {
   "cell_type": "code",
   "execution_count": 641,
   "metadata": {
    "execution": {
     "iopub.execute_input": "2024-11-22T20:16:04.766726Z",
     "iopub.status.busy": "2024-11-22T20:16:04.766277Z",
     "iopub.status.idle": "2024-11-22T20:16:04.785126Z",
     "shell.execute_reply": "2024-11-22T20:16:04.783839Z",
     "shell.execute_reply.started": "2024-11-22T20:16:04.766659Z"
    },
    "trusted": true
   },
   "outputs": [
    {
     "name": "stdout",
     "output_type": "stream",
     "text": [
      "<class 'pandas.core.frame.DataFrame'>\n",
      "RangeIndex: 920 entries, 0 to 919\n",
      "Data columns (total 16 columns):\n",
      " #   Column    Non-Null Count  Dtype  \n",
      "---  ------    --------------  -----  \n",
      " 0   id        920 non-null    int64  \n",
      " 1   age       920 non-null    int64  \n",
      " 2   sex       920 non-null    object \n",
      " 3   dataset   920 non-null    object \n",
      " 4   cp        920 non-null    object \n",
      " 5   trestbps  920 non-null    float64\n",
      " 6   chol      890 non-null    float64\n",
      " 7   fbs       830 non-null    object \n",
      " 8   restecg   918 non-null    object \n",
      " 9   thalch    865 non-null    float64\n",
      " 10  exang     865 non-null    object \n",
      " 11  oldpeak   858 non-null    float64\n",
      " 12  slope     611 non-null    object \n",
      " 13  ca        309 non-null    float64\n",
      " 14  thal      434 non-null    object \n",
      " 15  num       920 non-null    int64  \n",
      "dtypes: float64(5), int64(3), object(8)\n",
      "memory usage: 115.1+ KB\n"
     ]
    }
   ],
   "source": [
    "df.info()"
   ]
  },
  {
   "cell_type": "code",
   "execution_count": 642,
   "metadata": {
    "execution": {
     "iopub.execute_input": "2024-11-22T20:16:04.786636Z",
     "iopub.status.busy": "2024-11-22T20:16:04.786339Z",
     "iopub.status.idle": "2024-11-22T20:16:04.826155Z",
     "shell.execute_reply": "2024-11-22T20:16:04.825309Z",
     "shell.execute_reply.started": "2024-11-22T20:16:04.786606Z"
    },
    "trusted": true
   },
   "outputs": [],
   "source": [
    "# [ca,oldpeak, thalch, chol]---> These are columns that has numeric dtype\n",
    "#impute missing values by iterative imputer\n",
    "imputer_1 = IterativeImputer(max_iter=10,random_state=42)\n",
    "#fit_transform the imputer\n",
    "df[['ca','oldpeak','thalch','chol']] = imputer_1.fit_transform(df[['ca','oldpeak','thalch','chol']])"
   ]
  },
  {
   "cell_type": "code",
   "execution_count": 643,
   "metadata": {
    "execution": {
     "iopub.execute_input": "2024-11-22T20:16:04.828035Z",
     "iopub.status.busy": "2024-11-22T20:16:04.827677Z",
     "iopub.status.idle": "2024-11-22T20:16:04.841099Z",
     "shell.execute_reply": "2024-11-22T20:16:04.839698Z",
     "shell.execute_reply.started": "2024-11-22T20:16:04.828000Z"
    },
    "trusted": true
   },
   "outputs": [
    {
     "data": {
      "text/plain": [
       "thal        52.826087\n",
       "slope       33.586957\n",
       "fbs          9.782609\n",
       "exang        5.978261\n",
       "restecg      0.217391\n",
       "id           0.000000\n",
       "age          0.000000\n",
       "sex          0.000000\n",
       "dataset      0.000000\n",
       "cp           0.000000\n",
       "trestbps     0.000000\n",
       "chol         0.000000\n",
       "thalch       0.000000\n",
       "oldpeak      0.000000\n",
       "ca           0.000000\n",
       "num          0.000000\n",
       "dtype: float64"
      ]
     },
     "execution_count": 643,
     "metadata": {},
     "output_type": "execute_result"
    }
   ],
   "source": [
    "#check if the missing values are imputed or not\n",
    "(df.isnull().sum()/len(df) * 100).sort_values(ascending=False)"
   ]
  },
  {
   "cell_type": "markdown",
   "metadata": {},
   "source": [
    "* We have only 5 variables with missing values have object dtype."
   ]
  },
  {
   "cell_type": "markdown",
   "metadata": {},
   "source": [
    "### thal\n",
    "(Thalassemia)"
   ]
  },
  {
   "cell_type": "code",
   "execution_count": 644,
   "metadata": {
    "execution": {
     "iopub.execute_input": "2024-11-22T20:16:04.843260Z",
     "iopub.status.busy": "2024-11-22T20:16:04.842820Z",
     "iopub.status.idle": "2024-11-22T20:16:04.852508Z",
     "shell.execute_reply": "2024-11-22T20:16:04.851317Z",
     "shell.execute_reply.started": "2024-11-22T20:16:04.843221Z"
    },
    "trusted": true
   },
   "outputs": [
    {
     "data": {
      "text/plain": [
       "thal\n",
       "normal               196\n",
       "reversable defect    192\n",
       "fixed defect          46\n",
       "Name: count, dtype: int64"
      ]
     },
     "execution_count": 644,
     "metadata": {},
     "output_type": "execute_result"
    }
   ],
   "source": [
    "df['thal'].value_counts()"
   ]
  },
  {
   "cell_type": "code",
   "execution_count": 645,
   "metadata": {
    "execution": {
     "iopub.execute_input": "2024-11-22T20:16:04.854600Z",
     "iopub.status.busy": "2024-11-22T20:16:04.854095Z",
     "iopub.status.idle": "2024-11-22T20:16:05.082119Z",
     "shell.execute_reply": "2024-11-22T20:16:05.080748Z",
     "shell.execute_reply.started": "2024-11-22T20:16:04.854551Z"
    },
    "trusted": true
   },
   "outputs": [
    {
     "data": {
      "text/plain": [
       "<Axes: xlabel='thal', ylabel='count'>"
      ]
     },
     "execution_count": 645,
     "metadata": {},
     "output_type": "execute_result"
    },
    {
     "data": {
      "image/png": "[encoded data removed]",
      "text/plain": [
       "<Figure size 640x480 with 1 Axes>"
      ]
     },
     "metadata": {},
     "output_type": "display_data"
    }
   ],
   "source": [
    "#plot 'thal' by sex variable\n",
    "sns.countplot(data=df, x='thal', hue='sex', palette={'Male': 'blue', 'Female': 'pink'})\n"
   ]
  },
  {
   "cell_type": "code",
   "execution_count": 646,
   "metadata": {
    "execution": {
     "iopub.execute_input": "2024-11-22T20:16:05.083505Z",
     "iopub.status.busy": "2024-11-22T20:16:05.083174Z",
     "iopub.status.idle": "2024-11-22T20:16:05.090342Z",
     "shell.execute_reply": "2024-11-22T20:16:05.089225Z",
     "shell.execute_reply.started": "2024-11-22T20:16:05.083472Z"
    },
    "trusted": true
   },
   "outputs": [
    {
     "name": "stdout",
     "output_type": "stream",
     "text": [
      "The percentage of missing values in this variable is: 52.83%\n"
     ]
    }
   ],
   "source": [
    "#missing value %age in 'thal' varibale\n",
    "print(f\"The percentage of missing values in this variable is: {df['thal'].isnull().sum()/len(df) *100:.2f}%\")"
   ]
  },
  {
   "cell_type": "code",
   "execution_count": 647,
   "metadata": {
    "execution": {
     "iopub.execute_input": "2024-11-22T20:16:05.092429Z",
     "iopub.status.busy": "2024-11-22T20:16:05.091926Z",
     "iopub.status.idle": "2024-11-22T20:16:05.109100Z",
     "shell.execute_reply": "2024-11-22T20:16:05.107729Z",
     "shell.execute_reply.started": "2024-11-22T20:16:05.092389Z"
    },
    "trusted": true
   },
   "outputs": [],
   "source": [
    "#lets impute missing values in thal column by ML models\n",
    "#define the function\n",
    "def impute_missing_values_with_rf(df, column_name):\n",
    "    \"\"\"\n",
    "    Impute missing values in a categorical column using RandomForestClassifier.\n",
    "    \n",
    "    Parameters:\n",
    "        df (pd.DataFrame): The input DataFrame with missing values.\n",
    "        column_name (str): The name of the categorical column to impute.\n",
    "    \n",
    "    Returns:\n",
    "        pd.DataFrame: The DataFrame with missing values imputed.\n",
    "    \"\"\"\n",
    "    \n",
    "    # Step 1: Create a copy of the original DataFrame to avoid modifying it directly\n",
    "    df = df.copy()\n",
    "    \n",
    "    # Step 2: Check if the column has missing values\n",
    "    if df[column_name].isnull().sum() == 0:\n",
    "        print(f\"No missing values in column '{column_name}' to impute.\")\n",
    "        return df\n",
    "    \n",
    "    print(f\"Imputing missing values in column '{column_name}' with RandomForestClassifier...\")\n",
    "    \n",
    "    # Step 3: Label encode the target column\n",
    "    le = LabelEncoder()\n",
    "    df[column_name] = df[column_name].astype(str)\n",
    "    df[column_name] = df[column_name].apply(lambda x: np.nan if x.lower() == 'nan' else x)\n",
    "    \n",
    "    # Encode non-null values\n",
    "    non_null_data = df[df[column_name].notnull()]\n",
    "    null_data = df[df[column_name].isnull()]\n",
    "    \n",
    "    if null_data.empty:\n",
    "        print(f\"No missing values in '{column_name}' after preprocessing.\")\n",
    "        return df\n",
    "    \n",
    "    # Encode the target variable\n",
    "    non_null_data[column_name] = le.fit_transform(non_null_data[column_name].astype(str))\n",
    "\n",
    "    # Step 4: Define features (X) and target (y)\n",
    "    X = non_null_data.drop(columns=[column_name])\n",
    "    y = non_null_data[column_name]\n",
    "\n",
    "    # One-hot encode the features\n",
    "    X_encoded = pd.get_dummies(X, drop_first=True)\n",
    "\n",
    "    # Align features for the null_data set\n",
    "    null_data_encoded = pd.get_dummies(null_data.drop(columns=[column_name]), drop_first=True)\n",
    "    null_data_encoded = null_data_encoded.reindex(columns=X_encoded.columns, fill_value=0)\n",
    "\n",
    "    # Check for any data availability\n",
    "    if null_data_encoded.empty:\n",
    "        print(\"No matching features found between training data and null data for prediction.\")\n",
    "        return df\n",
    "\n",
    "    # Step 5: Train RandomForestClassifier\n",
    "    rf_model = RandomForestClassifier(n_estimators=100, random_state=0)\n",
    "    rf_model.fit(X_encoded, y)\n",
    "    \n",
    "    # Step 6: Predict missing values\n",
    "    predicted_values = rf_model.predict(null_data_encoded)\n",
    "\n",
    "    # Step 7: Decode the predicted values back to the original labels\n",
    "    decoded_values = le.inverse_transform(predicted_values)\n",
    "\n",
    "    # Step 8: Impute missing values in the original DataFrame\n",
    "    df.loc[df[column_name].isnull(), column_name] = decoded_values\n",
    "\n",
    "    print(f\"Missing values in '{column_name}' have been imputed successfully.\")\n",
    "    return df"
   ]
  },
  {
   "cell_type": "code",
   "execution_count": 648,
   "metadata": {
    "execution": {
     "iopub.execute_input": "2024-11-22T20:16:05.111285Z",
     "iopub.status.busy": "2024-11-22T20:16:05.110800Z",
     "iopub.status.idle": "2024-11-22T20:16:05.358067Z",
     "shell.execute_reply": "2024-11-22T20:16:05.356935Z",
     "shell.execute_reply.started": "2024-11-22T20:16:05.111233Z"
    },
    "trusted": true
   },
   "outputs": [
    {
     "name": "stdout",
     "output_type": "stream",
     "text": [
      "Imputing missing values in column 'thal' with RandomForestClassifier...\n",
      "Missing values in 'thal' have been imputed successfully.\n"
     ]
    }
   ],
   "source": [
    "#impute missing values \n",
    "df = impute_missing_values_with_rf(df, 'thal')\n"
   ]
  },
  {
   "cell_type": "markdown",
   "metadata": {},
   "source": [
    "### slope"
   ]
  },
  {
   "cell_type": "code",
   "execution_count": 649,
   "metadata": {
    "execution": {
     "iopub.execute_input": "2024-11-22T20:16:05.366944Z",
     "iopub.status.busy": "2024-11-22T20:16:05.366540Z",
     "iopub.status.idle": "2024-11-22T20:16:05.630219Z",
     "shell.execute_reply": "2024-11-22T20:16:05.628724Z",
     "shell.execute_reply.started": "2024-11-22T20:16:05.366907Z"
    },
    "trusted": true
   },
   "outputs": [
    {
     "name": "stdout",
     "output_type": "stream",
     "text": [
      "Imputing missing values in column 'slope' with RandomForestClassifier...\n",
      "Missing values in 'slope' have been imputed successfully.\n"
     ]
    }
   ],
   "source": [
    "#impute missing values by reusing the function\n",
    "df = impute_missing_values_with_rf(df, 'slope')"
   ]
  },
  {
   "cell_type": "markdown",
   "metadata": {},
   "source": [
    "### exang"
   ]
  },
  {
   "cell_type": "code",
   "execution_count": 650,
   "metadata": {
    "execution": {
     "iopub.execute_input": "2024-11-22T20:16:05.632270Z",
     "iopub.status.busy": "2024-11-22T20:16:05.631796Z",
     "iopub.status.idle": "2024-11-22T20:16:05.918231Z",
     "shell.execute_reply": "2024-11-22T20:16:05.917110Z",
     "shell.execute_reply.started": "2024-11-22T20:16:05.632220Z"
    },
    "trusted": true
   },
   "outputs": [
    {
     "name": "stdout",
     "output_type": "stream",
     "text": [
      "Imputing missing values in column 'exang' with RandomForestClassifier...\n",
      "Missing values in 'exang' have been imputed successfully.\n"
     ]
    }
   ],
   "source": [
    "#impute missing values by reusing the function\n",
    "df = impute_missing_values_with_rf(df, 'exang')"
   ]
  },
  {
   "cell_type": "markdown",
   "metadata": {},
   "source": [
    "### restecg"
   ]
  },
  {
   "cell_type": "code",
   "execution_count": 651,
   "metadata": {
    "execution": {
     "iopub.execute_input": "2024-11-22T20:16:05.920134Z",
     "iopub.status.busy": "2024-11-22T20:16:05.919494Z",
     "iopub.status.idle": "2024-11-22T20:16:06.233313Z",
     "shell.execute_reply": "2024-11-22T20:16:06.232050Z",
     "shell.execute_reply.started": "2024-11-22T20:16:05.920095Z"
    },
    "trusted": true
   },
   "outputs": [
    {
     "name": "stdout",
     "output_type": "stream",
     "text": [
      "Imputing missing values in column 'restecg' with RandomForestClassifier...\n",
      "Missing values in 'restecg' have been imputed successfully.\n"
     ]
    }
   ],
   "source": [
    "#impute missing values by reusing the function\n",
    "df = impute_missing_values_with_rf(df, 'restecg')"
   ]
  },
  {
   "cell_type": "markdown",
   "metadata": {},
   "source": [
    "### fbs"
   ]
  },
  {
   "cell_type": "code",
   "execution_count": 652,
   "metadata": {
    "execution": {
     "iopub.execute_input": "2024-11-22T20:16:06.235144Z",
     "iopub.status.busy": "2024-11-22T20:16:06.234793Z",
     "iopub.status.idle": "2024-11-22T20:16:06.511295Z",
     "shell.execute_reply": "2024-11-22T20:16:06.510046Z",
     "shell.execute_reply.started": "2024-11-22T20:16:06.235111Z"
    },
    "trusted": true
   },
   "outputs": [
    {
     "name": "stdout",
     "output_type": "stream",
     "text": [
      "Imputing missing values in column 'fbs' with RandomForestClassifier...\n",
      "Missing values in 'fbs' have been imputed successfully.\n"
     ]
    }
   ],
   "source": [
    "#impute missing values by reusing the function\n",
    "df = impute_missing_values_with_rf(df, 'fbs')"
   ]
  },
  {
   "cell_type": "code",
   "execution_count": 653,
   "metadata": {
    "execution": {
     "iopub.execute_input": "2024-11-22T20:16:06.513524Z",
     "iopub.status.busy": "2024-11-22T20:16:06.513152Z",
     "iopub.status.idle": "2024-11-22T20:16:06.527284Z",
     "shell.execute_reply": "2024-11-22T20:16:06.525979Z",
     "shell.execute_reply.started": "2024-11-22T20:16:06.513482Z"
    },
    "trusted": true
   },
   "outputs": [
    {
     "name": "stdout",
     "output_type": "stream",
     "text": [
      "<class 'pandas.core.frame.DataFrame'>\n",
      "RangeIndex: 920 entries, 0 to 919\n",
      "Data columns (total 16 columns):\n",
      " #   Column    Non-Null Count  Dtype  \n",
      "---  ------    --------------  -----  \n",
      " 0   id        920 non-null    int64  \n",
      " 1   age       920 non-null    int64  \n",
      " 2   sex       920 non-null    object \n",
      " 3   dataset   920 non-null    object \n",
      " 4   cp        920 non-null    object \n",
      " 5   trestbps  920 non-null    float64\n",
      " 6   chol      920 non-null    float64\n",
      " 7   fbs       920 non-null    object \n",
      " 8   restecg   920 non-null    object \n",
      " 9   thalch    920 non-null    float64\n",
      " 10  exang     920 non-null    object \n",
      " 11  oldpeak   920 non-null    float64\n",
      " 12  slope     920 non-null    object \n",
      " 13  ca        920 non-null    float64\n",
      " 14  thal      920 non-null    object \n",
      " 15  num       920 non-null    int64  \n",
      "dtypes: float64(5), int64(3), object(8)\n",
      "memory usage: 115.1+ KB\n"
     ]
    }
   ],
   "source": [
    "#verify if the dataset has missing values imputed or not\n",
    "df.info()"
   ]
  },
  {
   "cell_type": "markdown",
   "metadata": {},
   "source": [
    "Now all variables have 920 values. It means there is no missing value in any column or variable."
   ]
  },
  {
   "cell_type": "markdown",
   "metadata": {},
   "source": [
    "## **Outliers**"
   ]
  },
  {
   "cell_type": "markdown",
   "metadata": {},
   "source": [
    "### age"
   ]
  },
  {
   "cell_type": "code",
   "execution_count": 654,
   "metadata": {
    "execution": {
     "iopub.execute_input": "2024-11-22T20:16:06.529526Z",
     "iopub.status.busy": "2024-11-22T20:16:06.529019Z",
     "iopub.status.idle": "2024-11-22T20:16:06.717317Z",
     "shell.execute_reply": "2024-11-22T20:16:06.716032Z",
     "shell.execute_reply.started": "2024-11-22T20:16:06.529488Z"
    },
    "trusted": true
   },
   "outputs": [
    {
     "data": {
      "text/plain": [
       "<Axes: >"
      ]
     },
     "execution_count": 654,
     "metadata": {},
     "output_type": "execute_result"
    },
    {
     "data": {
      "image/png": "[encoded data removed]",
      "text/plain": [
       "<Figure size 640x480 with 1 Axes>"
      ]
     },
     "metadata": {},
     "output_type": "display_data"
    }
   ],
   "source": [
    "#boxplot of numeric columns\n",
    "sns.boxplot(df['age'],color='red')"
   ]
  },
  {
   "cell_type": "markdown",
   "metadata": {},
   "source": [
    "### thalch"
   ]
  },
  {
   "cell_type": "code",
   "execution_count": 655,
   "metadata": {
    "execution": {
     "iopub.execute_input": "2024-11-22T20:16:06.719233Z",
     "iopub.status.busy": "2024-11-22T20:16:06.718889Z",
     "iopub.status.idle": "2024-11-22T20:16:06.876675Z",
     "shell.execute_reply": "2024-11-22T20:16:06.875565Z",
     "shell.execute_reply.started": "2024-11-22T20:16:06.719198Z"
    },
    "trusted": true
   },
   "outputs": [
    {
     "data": {
      "text/plain": [
       "<Axes: >"
      ]
     },
     "execution_count": 655,
     "metadata": {},
     "output_type": "execute_result"
    },
    {
     "data": {
      "image/png": "[encoded data removed]",
      "text/plain": [
       "<Figure size 640x480 with 1 Axes>"
      ]
     },
     "metadata": {},
     "output_type": "display_data"
    }
   ],
   "source": [
    "sns.boxplot(df['thalch'],color='yellow')"
   ]
  },
  {
   "cell_type": "markdown",
   "metadata": {},
   "source": [
    "### trestbps"
   ]
  },
  {
   "cell_type": "code",
   "execution_count": 656,
   "metadata": {
    "execution": {
     "iopub.execute_input": "2024-11-22T20:16:06.878034Z",
     "iopub.status.busy": "2024-11-22T20:16:06.877712Z",
     "iopub.status.idle": "2024-11-22T20:16:07.095517Z",
     "shell.execute_reply": "2024-11-22T20:16:07.093951Z",
     "shell.execute_reply.started": "2024-11-22T20:16:06.878003Z"
    },
    "trusted": true
   },
   "outputs": [
    {
     "data": {
      "text/plain": [
       "<Axes: >"
      ]
     },
     "execution_count": 656,
     "metadata": {},
     "output_type": "execute_result"
    },
    {
     "data": {
      "image/png": "[encoded data removed]",
      "text/plain": [
       "<Figure size 640x480 with 1 Axes>"
      ]
     },
     "metadata": {},
     "output_type": "display_data"
    }
   ],
   "source": [
    "sns.boxplot(df['trestbps'],color='purple')"
   ]
  },
  {
   "cell_type": "markdown",
   "metadata": {},
   "source": [
    "### oldpeak"
   ]
  },
  {
   "cell_type": "code",
   "execution_count": 657,
   "metadata": {
    "execution": {
     "iopub.execute_input": "2024-11-22T20:16:07.097389Z",
     "iopub.status.busy": "2024-11-22T20:16:07.097027Z",
     "iopub.status.idle": "2024-11-22T20:16:07.291843Z",
     "shell.execute_reply": "2024-11-22T20:16:07.290489Z",
     "shell.execute_reply.started": "2024-11-22T20:16:07.097353Z"
    },
    "trusted": true
   },
   "outputs": [
    {
     "data": {
      "text/plain": [
       "<Axes: >"
      ]
     },
     "execution_count": 657,
     "metadata": {},
     "output_type": "execute_result"
    },
    {
     "data": {
      "image/png": "[encoded data removed]",
      "text/plain": [
       "<Figure size 640x480 with 1 Axes>"
      ]
     },
     "metadata": {},
     "output_type": "display_data"
    }
   ],
   "source": [
    "sns.boxplot(df['oldpeak'],color='green')"
   ]
  },
  {
   "cell_type": "markdown",
   "metadata": {},
   "source": [
    "### chol"
   ]
  },
  {
   "cell_type": "code",
   "execution_count": 658,
   "metadata": {
    "execution": {
     "iopub.execute_input": "2024-11-22T20:16:07.293611Z",
     "iopub.status.busy": "2024-11-22T20:16:07.293248Z",
     "iopub.status.idle": "2024-11-22T20:16:07.497041Z",
     "shell.execute_reply": "2024-11-22T20:16:07.495584Z",
     "shell.execute_reply.started": "2024-11-22T20:16:07.293570Z"
    },
    "trusted": true
   },
   "outputs": [
    {
     "data": {
      "text/plain": [
       "<Axes: >"
      ]
     },
     "execution_count": 658,
     "metadata": {},
     "output_type": "execute_result"
    },
    {
     "data": {
      "image/png": "[encoded data removed]",
      "text/plain": [
       "<Figure size 640x480 with 1 Axes>"
      ]
     },
     "metadata": {},
     "output_type": "display_data"
    }
   ],
   "source": [
    "sns.boxplot(df['chol'],color='brown')"
   ]
  },
  {
   "cell_type": "markdown",
   "metadata": {},
   "source": [
    "### ca"
   ]
  },
  {
   "cell_type": "code",
   "execution_count": 659,
   "metadata": {
    "execution": {
     "iopub.execute_input": "2024-11-22T20:16:07.499675Z",
     "iopub.status.busy": "2024-11-22T20:16:07.498604Z",
     "iopub.status.idle": "2024-11-22T20:16:07.720474Z",
     "shell.execute_reply": "2024-11-22T20:16:07.719331Z",
     "shell.execute_reply.started": "2024-11-22T20:16:07.499591Z"
    },
    "trusted": true
   },
   "outputs": [
    {
     "data": {
      "text/plain": [
       "<Axes: >"
      ]
     },
     "execution_count": 659,
     "metadata": {},
     "output_type": "execute_result"
    },
    {
     "data": {
      "image/png": "[encoded data removed]",
      "text/plain": [
       "<Figure size 640x480 with 1 Axes>"
      ]
     },
     "metadata": {},
     "output_type": "display_data"
    }
   ],
   "source": [
    "sns.boxplot(df['ca'],color='blue')"
   ]
  },
  {
   "cell_type": "markdown",
   "metadata": {},
   "source": [
    "### num"
   ]
  },
  {
   "cell_type": "code",
   "execution_count": 660,
   "metadata": {
    "execution": {
     "iopub.execute_input": "2024-11-22T20:16:07.722126Z",
     "iopub.status.busy": "2024-11-22T20:16:07.721777Z",
     "iopub.status.idle": "2024-11-22T20:16:07.885801Z",
     "shell.execute_reply": "2024-11-22T20:16:07.884723Z",
     "shell.execute_reply.started": "2024-11-22T20:16:07.722093Z"
    },
    "trusted": true
   },
   "outputs": [
    {
     "data": {
      "text/plain": [
       "<Axes: >"
      ]
     },
     "execution_count": 660,
     "metadata": {},
     "output_type": "execute_result"
    },
    {
     "data": {
      "image/png": "[encoded data removed]",
      "text/plain": [
       "<Figure size 640x480 with 1 Axes>"
      ]
     },
     "metadata": {},
     "output_type": "display_data"
    }
   ],
   "source": [
    "sns.boxplot(df['num'],color='red')"
   ]
  },
  {
   "cell_type": "markdown",
   "metadata": {},
   "source": [
    "These boxplots show outliers/extreme values. Now we have to find out whether these are actually outliers that will ruin our dataset or these are extreme values that will help us in generating new hypotheses. To detect outliers, you must be domain-specific. In this case, the healthcare specialist or medical student can definitely figure out these are outliers or not."
   ]
  },
  {
   "cell_type": "markdown",
   "metadata": {},
   "source": [
    "* In trestbps column, minimum outlier value is 0, let's identify where the value of trestbps in dataset is 0."
   ]
  },
  {
   "cell_type": "code",
   "execution_count": 661,
   "metadata": {
    "execution": {
     "iopub.execute_input": "2024-11-22T20:16:07.887546Z",
     "iopub.status.busy": "2024-11-22T20:16:07.887100Z",
     "iopub.status.idle": "2024-11-22T20:16:07.906575Z",
     "shell.execute_reply": "2024-11-22T20:16:07.905426Z",
     "shell.execute_reply.started": "2024-11-22T20:16:07.887495Z"
    },
    "trusted": true
   },
   "outputs": [
    {
     "data": {
      "text/html": [
       "<div>\n",
       "<style scoped>\n",
       "    .dataframe tbody tr th:only-of-type {\n",
       "        vertical-align: middle;\n",
       "    }\n",
       "\n",
       "    .dataframe tbody tr th {\n",
       "        vertical-align: top;\n",
       "    }\n",
       "\n",
       "    .dataframe thead th {\n",
       "        text-align: right;\n",
       "    }\n",
       "</style>\n",
       "<table border=\"1\" class=\"dataframe\">\n",
       "  <thead>\n",
       "    <tr style=\"text-align: right;\">\n",
       "      <th></th>\n",
       "      <th>id</th>\n",
       "      <th>age</th>\n",
       "      <th>sex</th>\n",
       "      <th>dataset</th>\n",
       "      <th>cp</th>\n",
       "      <th>trestbps</th>\n",
       "      <th>chol</th>\n",
       "      <th>fbs</th>\n",
       "      <th>restecg</th>\n",
       "      <th>thalch</th>\n",
       "      <th>exang</th>\n",
       "      <th>oldpeak</th>\n",
       "      <th>slope</th>\n",
       "      <th>ca</th>\n",
       "      <th>thal</th>\n",
       "      <th>num</th>\n",
       "    </tr>\n",
       "  </thead>\n",
       "  <tbody>\n",
       "    <tr>\n",
       "      <th>753</th>\n",
       "      <td>754</td>\n",
       "      <td>55</td>\n",
       "      <td>Male</td>\n",
       "      <td>VA Long Beach</td>\n",
       "      <td>non-anginal</td>\n",
       "      <td>0.0</td>\n",
       "      <td>0.0</td>\n",
       "      <td>False</td>\n",
       "      <td>normal</td>\n",
       "      <td>155.0</td>\n",
       "      <td>False</td>\n",
       "      <td>1.5</td>\n",
       "      <td>flat</td>\n",
       "      <td>0.438714</td>\n",
       "      <td>reversable defect</td>\n",
       "      <td>3</td>\n",
       "    </tr>\n",
       "  </tbody>\n",
       "</table>\n",
       "</div>"
      ],
      "text/plain": [
       "      id  age   sex        dataset           cp  trestbps  chol    fbs  \\\n",
       "753  754   55  Male  VA Long Beach  non-anginal       0.0   0.0  False   \n",
       "\n",
       "    restecg  thalch  exang  oldpeak slope        ca               thal  num  \n",
       "753  normal   155.0  False      1.5  flat  0.438714  reversable defect    3  "
      ]
     },
     "execution_count": 661,
     "metadata": {},
     "output_type": "execute_result"
    }
   ],
   "source": [
    "df[df['trestbps']==0]"
   ]
  },
  {
   "cell_type": "markdown",
   "metadata": {},
   "source": [
    "* Resting Blood Pressure(Trestbps):\n",
    "Normal human blood pressure ranges from 90/60 mmHg to 120/80 mmHg. A value of 0 is medically impossible, so this is clearly an outlier.\n",
    "* Cholesterol (chol):\n",
    "The value of chol is 0.0, which is also not realistic. Normal cholesterol levels typically range between 125 to 200 mg/dL. A value of 0 indicates missing or incorrectly recorded data. Thus, it is also an outlier."
   ]
  },
  {
   "cell_type": "code",
   "execution_count": 662,
   "metadata": {
    "execution": {
     "iopub.execute_input": "2024-11-22T20:16:07.908343Z",
     "iopub.status.busy": "2024-11-22T20:16:07.907952Z",
     "iopub.status.idle": "2024-11-22T20:16:07.928122Z",
     "shell.execute_reply": "2024-11-22T20:16:07.926933Z",
     "shell.execute_reply.started": "2024-11-22T20:16:07.908304Z"
    },
    "trusted": true
   },
   "outputs": [
    {
     "name": "stdout",
     "output_type": "stream",
     "text": [
      "<class 'pandas.core.frame.DataFrame'>\n",
      "Index: 919 entries, 0 to 919\n",
      "Data columns (total 16 columns):\n",
      " #   Column    Non-Null Count  Dtype  \n",
      "---  ------    --------------  -----  \n",
      " 0   id        919 non-null    int64  \n",
      " 1   age       919 non-null    int64  \n",
      " 2   sex       919 non-null    object \n",
      " 3   dataset   919 non-null    object \n",
      " 4   cp        919 non-null    object \n",
      " 5   trestbps  919 non-null    float64\n",
      " 6   chol      919 non-null    float64\n",
      " 7   fbs       919 non-null    object \n",
      " 8   restecg   919 non-null    object \n",
      " 9   thalch    919 non-null    float64\n",
      " 10  exang     919 non-null    object \n",
      " 11  oldpeak   919 non-null    float64\n",
      " 12  slope     919 non-null    object \n",
      " 13  ca        919 non-null    float64\n",
      " 14  thal      919 non-null    object \n",
      " 15  num       919 non-null    int64  \n",
      "dtypes: float64(5), int64(3), object(8)\n",
      "memory usage: 122.1+ KB\n"
     ]
    }
   ],
   "source": [
    "#remove this row\n",
    "df = df[df['trestbps'] != 0]\n",
    "\n",
    "#check the dataset info\n",
    "df.info()"
   ]
  },
  {
   "cell_type": "code",
   "execution_count": 663,
   "metadata": {
    "execution": {
     "iopub.execute_input": "2024-11-22T20:16:07.929781Z",
     "iopub.status.busy": "2024-11-22T20:16:07.929436Z",
     "iopub.status.idle": "2024-11-22T20:16:07.962413Z",
     "shell.execute_reply": "2024-11-22T20:16:07.961214Z",
     "shell.execute_reply.started": "2024-11-22T20:16:07.929749Z"
    },
    "trusted": true
   },
   "outputs": [
    {
     "data": {
      "text/html": [
       "<div>\n",
       "<style scoped>\n",
       "    .dataframe tbody tr th:only-of-type {\n",
       "        vertical-align: middle;\n",
       "    }\n",
       "\n",
       "    .dataframe tbody tr th {\n",
       "        vertical-align: top;\n",
       "    }\n",
       "\n",
       "    .dataframe thead th {\n",
       "        text-align: right;\n",
       "    }\n",
       "</style>\n",
       "<table border=\"1\" class=\"dataframe\">\n",
       "  <thead>\n",
       "    <tr style=\"text-align: right;\">\n",
       "      <th></th>\n",
       "      <th>id</th>\n",
       "      <th>age</th>\n",
       "      <th>sex</th>\n",
       "      <th>dataset</th>\n",
       "      <th>cp</th>\n",
       "      <th>trestbps</th>\n",
       "      <th>chol</th>\n",
       "      <th>fbs</th>\n",
       "      <th>restecg</th>\n",
       "      <th>thalch</th>\n",
       "      <th>exang</th>\n",
       "      <th>oldpeak</th>\n",
       "      <th>slope</th>\n",
       "      <th>ca</th>\n",
       "      <th>thal</th>\n",
       "      <th>num</th>\n",
       "    </tr>\n",
       "  </thead>\n",
       "  <tbody>\n",
       "    <tr>\n",
       "      <th>83</th>\n",
       "      <td>84</td>\n",
       "      <td>68</td>\n",
       "      <td>Male</td>\n",
       "      <td>Cleveland</td>\n",
       "      <td>non-anginal</td>\n",
       "      <td>180.0</td>\n",
       "      <td>274.000000</td>\n",
       "      <td>True</td>\n",
       "      <td>lv hypertrophy</td>\n",
       "      <td>150.0</td>\n",
       "      <td>True</td>\n",
       "      <td>1.6</td>\n",
       "      <td>flat</td>\n",
       "      <td>0.000000</td>\n",
       "      <td>reversable defect</td>\n",
       "      <td>3</td>\n",
       "    </tr>\n",
       "    <tr>\n",
       "      <th>126</th>\n",
       "      <td>127</td>\n",
       "      <td>56</td>\n",
       "      <td>Female</td>\n",
       "      <td>Cleveland</td>\n",
       "      <td>asymptomatic</td>\n",
       "      <td>200.0</td>\n",
       "      <td>288.000000</td>\n",
       "      <td>True</td>\n",
       "      <td>lv hypertrophy</td>\n",
       "      <td>133.0</td>\n",
       "      <td>True</td>\n",
       "      <td>4.0</td>\n",
       "      <td>downsloping</td>\n",
       "      <td>2.000000</td>\n",
       "      <td>reversable defect</td>\n",
       "      <td>3</td>\n",
       "    </tr>\n",
       "    <tr>\n",
       "      <th>183</th>\n",
       "      <td>184</td>\n",
       "      <td>59</td>\n",
       "      <td>Male</td>\n",
       "      <td>Cleveland</td>\n",
       "      <td>typical angina</td>\n",
       "      <td>178.0</td>\n",
       "      <td>270.000000</td>\n",
       "      <td>False</td>\n",
       "      <td>lv hypertrophy</td>\n",
       "      <td>145.0</td>\n",
       "      <td>False</td>\n",
       "      <td>4.2</td>\n",
       "      <td>downsloping</td>\n",
       "      <td>0.000000</td>\n",
       "      <td>reversable defect</td>\n",
       "      <td>0</td>\n",
       "    </tr>\n",
       "    <tr>\n",
       "      <th>188</th>\n",
       "      <td>189</td>\n",
       "      <td>54</td>\n",
       "      <td>Male</td>\n",
       "      <td>Cleveland</td>\n",
       "      <td>atypical angina</td>\n",
       "      <td>192.0</td>\n",
       "      <td>283.000000</td>\n",
       "      <td>False</td>\n",
       "      <td>lv hypertrophy</td>\n",
       "      <td>195.0</td>\n",
       "      <td>False</td>\n",
       "      <td>0.0</td>\n",
       "      <td>upsloping</td>\n",
       "      <td>1.000000</td>\n",
       "      <td>reversable defect</td>\n",
       "      <td>1</td>\n",
       "    </tr>\n",
       "    <tr>\n",
       "      <th>201</th>\n",
       "      <td>202</td>\n",
       "      <td>64</td>\n",
       "      <td>Female</td>\n",
       "      <td>Cleveland</td>\n",
       "      <td>asymptomatic</td>\n",
       "      <td>180.0</td>\n",
       "      <td>325.000000</td>\n",
       "      <td>False</td>\n",
       "      <td>normal</td>\n",
       "      <td>154.0</td>\n",
       "      <td>True</td>\n",
       "      <td>0.0</td>\n",
       "      <td>upsloping</td>\n",
       "      <td>0.000000</td>\n",
       "      <td>normal</td>\n",
       "      <td>0</td>\n",
       "    </tr>\n",
       "    <tr>\n",
       "      <th>213</th>\n",
       "      <td>214</td>\n",
       "      <td>66</td>\n",
       "      <td>Female</td>\n",
       "      <td>Cleveland</td>\n",
       "      <td>asymptomatic</td>\n",
       "      <td>178.0</td>\n",
       "      <td>228.000000</td>\n",
       "      <td>True</td>\n",
       "      <td>normal</td>\n",
       "      <td>165.0</td>\n",
       "      <td>True</td>\n",
       "      <td>1.0</td>\n",
       "      <td>flat</td>\n",
       "      <td>2.000000</td>\n",
       "      <td>reversable defect</td>\n",
       "      <td>3</td>\n",
       "    </tr>\n",
       "    <tr>\n",
       "      <th>231</th>\n",
       "      <td>232</td>\n",
       "      <td>55</td>\n",
       "      <td>Female</td>\n",
       "      <td>Cleveland</td>\n",
       "      <td>asymptomatic</td>\n",
       "      <td>180.0</td>\n",
       "      <td>327.000000</td>\n",
       "      <td>False</td>\n",
       "      <td>st-t abnormality</td>\n",
       "      <td>117.0</td>\n",
       "      <td>True</td>\n",
       "      <td>3.4</td>\n",
       "      <td>flat</td>\n",
       "      <td>0.000000</td>\n",
       "      <td>normal</td>\n",
       "      <td>2</td>\n",
       "    </tr>\n",
       "    <tr>\n",
       "      <th>338</th>\n",
       "      <td>339</td>\n",
       "      <td>39</td>\n",
       "      <td>Male</td>\n",
       "      <td>Hungary</td>\n",
       "      <td>atypical angina</td>\n",
       "      <td>190.0</td>\n",
       "      <td>241.000000</td>\n",
       "      <td>False</td>\n",
       "      <td>normal</td>\n",
       "      <td>106.0</td>\n",
       "      <td>False</td>\n",
       "      <td>0.0</td>\n",
       "      <td>flat</td>\n",
       "      <td>0.922624</td>\n",
       "      <td>reversable defect</td>\n",
       "      <td>0</td>\n",
       "    </tr>\n",
       "    <tr>\n",
       "      <th>375</th>\n",
       "      <td>376</td>\n",
       "      <td>45</td>\n",
       "      <td>Female</td>\n",
       "      <td>Hungary</td>\n",
       "      <td>atypical angina</td>\n",
       "      <td>180.0</td>\n",
       "      <td>239.178129</td>\n",
       "      <td>False</td>\n",
       "      <td>normal</td>\n",
       "      <td>180.0</td>\n",
       "      <td>False</td>\n",
       "      <td>0.0</td>\n",
       "      <td>upsloping</td>\n",
       "      <td>0.266641</td>\n",
       "      <td>normal</td>\n",
       "      <td>0</td>\n",
       "    </tr>\n",
       "    <tr>\n",
       "      <th>387</th>\n",
       "      <td>388</td>\n",
       "      <td>46</td>\n",
       "      <td>Male</td>\n",
       "      <td>Hungary</td>\n",
       "      <td>asymptomatic</td>\n",
       "      <td>180.0</td>\n",
       "      <td>280.000000</td>\n",
       "      <td>False</td>\n",
       "      <td>st-t abnormality</td>\n",
       "      <td>120.0</td>\n",
       "      <td>False</td>\n",
       "      <td>0.0</td>\n",
       "      <td>flat</td>\n",
       "      <td>0.837687</td>\n",
       "      <td>normal</td>\n",
       "      <td>0</td>\n",
       "    </tr>\n",
       "    <tr>\n",
       "      <th>475</th>\n",
       "      <td>476</td>\n",
       "      <td>57</td>\n",
       "      <td>Female</td>\n",
       "      <td>Hungary</td>\n",
       "      <td>asymptomatic</td>\n",
       "      <td>180.0</td>\n",
       "      <td>347.000000</td>\n",
       "      <td>False</td>\n",
       "      <td>st-t abnormality</td>\n",
       "      <td>126.0</td>\n",
       "      <td>True</td>\n",
       "      <td>0.8</td>\n",
       "      <td>flat</td>\n",
       "      <td>0.952236</td>\n",
       "      <td>normal</td>\n",
       "      <td>0</td>\n",
       "    </tr>\n",
       "    <tr>\n",
       "      <th>484</th>\n",
       "      <td>485</td>\n",
       "      <td>59</td>\n",
       "      <td>Male</td>\n",
       "      <td>Hungary</td>\n",
       "      <td>non-anginal</td>\n",
       "      <td>180.0</td>\n",
       "      <td>213.000000</td>\n",
       "      <td>False</td>\n",
       "      <td>normal</td>\n",
       "      <td>100.0</td>\n",
       "      <td>False</td>\n",
       "      <td>0.0</td>\n",
       "      <td>flat</td>\n",
       "      <td>0.947791</td>\n",
       "      <td>reversable defect</td>\n",
       "      <td>0</td>\n",
       "    </tr>\n",
       "    <tr>\n",
       "      <th>548</th>\n",
       "      <td>549</td>\n",
       "      <td>54</td>\n",
       "      <td>Male</td>\n",
       "      <td>Hungary</td>\n",
       "      <td>asymptomatic</td>\n",
       "      <td>200.0</td>\n",
       "      <td>198.000000</td>\n",
       "      <td>False</td>\n",
       "      <td>normal</td>\n",
       "      <td>142.0</td>\n",
       "      <td>True</td>\n",
       "      <td>2.0</td>\n",
       "      <td>flat</td>\n",
       "      <td>0.813802</td>\n",
       "      <td>reversable defect</td>\n",
       "      <td>1</td>\n",
       "    </tr>\n",
       "    <tr>\n",
       "      <th>569</th>\n",
       "      <td>570</td>\n",
       "      <td>53</td>\n",
       "      <td>Male</td>\n",
       "      <td>Hungary</td>\n",
       "      <td>asymptomatic</td>\n",
       "      <td>180.0</td>\n",
       "      <td>285.000000</td>\n",
       "      <td>False</td>\n",
       "      <td>st-t abnormality</td>\n",
       "      <td>120.0</td>\n",
       "      <td>True</td>\n",
       "      <td>1.5</td>\n",
       "      <td>flat</td>\n",
       "      <td>1.031836</td>\n",
       "      <td>reversable defect</td>\n",
       "      <td>1</td>\n",
       "    </tr>\n",
       "    <tr>\n",
       "      <th>595</th>\n",
       "      <td>596</td>\n",
       "      <td>58</td>\n",
       "      <td>Female</td>\n",
       "      <td>Hungary</td>\n",
       "      <td>atypical angina</td>\n",
       "      <td>180.0</td>\n",
       "      <td>393.000000</td>\n",
       "      <td>False</td>\n",
       "      <td>normal</td>\n",
       "      <td>110.0</td>\n",
       "      <td>True</td>\n",
       "      <td>1.0</td>\n",
       "      <td>flat</td>\n",
       "      <td>1.164694</td>\n",
       "      <td>reversable defect</td>\n",
       "      <td>1</td>\n",
       "    </tr>\n",
       "    <tr>\n",
       "      <th>647</th>\n",
       "      <td>648</td>\n",
       "      <td>54</td>\n",
       "      <td>Male</td>\n",
       "      <td>Switzerland</td>\n",
       "      <td>asymptomatic</td>\n",
       "      <td>180.0</td>\n",
       "      <td>0.000000</td>\n",
       "      <td>False</td>\n",
       "      <td>normal</td>\n",
       "      <td>150.0</td>\n",
       "      <td>False</td>\n",
       "      <td>1.5</td>\n",
       "      <td>flat</td>\n",
       "      <td>0.482915</td>\n",
       "      <td>reversable defect</td>\n",
       "      <td>1</td>\n",
       "    </tr>\n",
       "    <tr>\n",
       "      <th>680</th>\n",
       "      <td>681</td>\n",
       "      <td>61</td>\n",
       "      <td>Male</td>\n",
       "      <td>Switzerland</td>\n",
       "      <td>non-anginal</td>\n",
       "      <td>200.0</td>\n",
       "      <td>0.000000</td>\n",
       "      <td>False</td>\n",
       "      <td>st-t abnormality</td>\n",
       "      <td>70.0</td>\n",
       "      <td>False</td>\n",
       "      <td>0.0</td>\n",
       "      <td>flat</td>\n",
       "      <td>1.000953</td>\n",
       "      <td>normal</td>\n",
       "      <td>3</td>\n",
       "    </tr>\n",
       "    <tr>\n",
       "      <th>700</th>\n",
       "      <td>701</td>\n",
       "      <td>63</td>\n",
       "      <td>Male</td>\n",
       "      <td>Switzerland</td>\n",
       "      <td>asymptomatic</td>\n",
       "      <td>185.0</td>\n",
       "      <td>0.000000</td>\n",
       "      <td>False</td>\n",
       "      <td>normal</td>\n",
       "      <td>98.0</td>\n",
       "      <td>True</td>\n",
       "      <td>0.0</td>\n",
       "      <td>upsloping</td>\n",
       "      <td>0.753430</td>\n",
       "      <td>reversable defect</td>\n",
       "      <td>1</td>\n",
       "    </tr>\n",
       "    <tr>\n",
       "      <th>701</th>\n",
       "      <td>702</td>\n",
       "      <td>64</td>\n",
       "      <td>Female</td>\n",
       "      <td>Switzerland</td>\n",
       "      <td>asymptomatic</td>\n",
       "      <td>200.0</td>\n",
       "      <td>0.000000</td>\n",
       "      <td>False</td>\n",
       "      <td>normal</td>\n",
       "      <td>140.0</td>\n",
       "      <td>True</td>\n",
       "      <td>1.0</td>\n",
       "      <td>flat</td>\n",
       "      <td>0.508259</td>\n",
       "      <td>normal</td>\n",
       "      <td>3</td>\n",
       "    </tr>\n",
       "    <tr>\n",
       "      <th>727</th>\n",
       "      <td>728</td>\n",
       "      <td>60</td>\n",
       "      <td>Male</td>\n",
       "      <td>VA Long Beach</td>\n",
       "      <td>non-anginal</td>\n",
       "      <td>180.0</td>\n",
       "      <td>0.000000</td>\n",
       "      <td>False</td>\n",
       "      <td>st-t abnormality</td>\n",
       "      <td>140.0</td>\n",
       "      <td>True</td>\n",
       "      <td>1.5</td>\n",
       "      <td>flat</td>\n",
       "      <td>0.571316</td>\n",
       "      <td>reversable defect</td>\n",
       "      <td>0</td>\n",
       "    </tr>\n",
       "    <tr>\n",
       "      <th>779</th>\n",
       "      <td>780</td>\n",
       "      <td>59</td>\n",
       "      <td>Male</td>\n",
       "      <td>VA Long Beach</td>\n",
       "      <td>asymptomatic</td>\n",
       "      <td>178.0</td>\n",
       "      <td>0.000000</td>\n",
       "      <td>True</td>\n",
       "      <td>lv hypertrophy</td>\n",
       "      <td>120.0</td>\n",
       "      <td>True</td>\n",
       "      <td>0.0</td>\n",
       "      <td>flat</td>\n",
       "      <td>0.558947</td>\n",
       "      <td>reversable defect</td>\n",
       "      <td>1</td>\n",
       "    </tr>\n",
       "    <tr>\n",
       "      <th>889</th>\n",
       "      <td>890</td>\n",
       "      <td>57</td>\n",
       "      <td>Male</td>\n",
       "      <td>VA Long Beach</td>\n",
       "      <td>atypical angina</td>\n",
       "      <td>180.0</td>\n",
       "      <td>285.000000</td>\n",
       "      <td>True</td>\n",
       "      <td>st-t abnormality</td>\n",
       "      <td>120.0</td>\n",
       "      <td>False</td>\n",
       "      <td>0.8</td>\n",
       "      <td>flat</td>\n",
       "      <td>0.943556</td>\n",
       "      <td>reversable defect</td>\n",
       "      <td>1</td>\n",
       "    </tr>\n",
       "    <tr>\n",
       "      <th>896</th>\n",
       "      <td>897</td>\n",
       "      <td>61</td>\n",
       "      <td>Male</td>\n",
       "      <td>VA Long Beach</td>\n",
       "      <td>asymptomatic</td>\n",
       "      <td>190.0</td>\n",
       "      <td>287.000000</td>\n",
       "      <td>True</td>\n",
       "      <td>lv hypertrophy</td>\n",
       "      <td>150.0</td>\n",
       "      <td>True</td>\n",
       "      <td>2.0</td>\n",
       "      <td>downsloping</td>\n",
       "      <td>0.831681</td>\n",
       "      <td>reversable defect</td>\n",
       "      <td>4</td>\n",
       "    </tr>\n",
       "  </tbody>\n",
       "</table>\n",
       "</div>"
      ],
      "text/plain": [
       "      id  age     sex        dataset               cp  trestbps        chol  \\\n",
       "83    84   68    Male      Cleveland      non-anginal     180.0  274.000000   \n",
       "126  127   56  Female      Cleveland     asymptomatic     200.0  288.000000   \n",
       "183  184   59    Male      Cleveland   typical angina     178.0  270.000000   \n",
       "188  189   54    Male      Cleveland  atypical angina     192.0  283.000000   \n",
       "201  202   64  Female      Cleveland     asymptomatic     180.0  325.000000   \n",
       "213  214   66  Female      Cleveland     asymptomatic     178.0  228.000000   \n",
       "231  232   55  Female      Cleveland     asymptomatic     180.0  327.000000   \n",
       "338  339   39    Male        Hungary  atypical angina     190.0  241.000000   \n",
       "375  376   45  Female        Hungary  atypical angina     180.0  239.178129   \n",
       "387  388   46    Male        Hungary     asymptomatic     180.0  280.000000   \n",
       "475  476   57  Female        Hungary     asymptomatic     180.0  347.000000   \n",
       "484  485   59    Male        Hungary      non-anginal     180.0  213.000000   \n",
       "548  549   54    Male        Hungary     asymptomatic     200.0  198.000000   \n",
       "569  570   53    Male        Hungary     asymptomatic     180.0  285.000000   \n",
       "595  596   58  Female        Hungary  atypical angina     180.0  393.000000   \n",
       "647  648   54    Male    Switzerland     asymptomatic     180.0    0.000000   \n",
       "680  681   61    Male    Switzerland      non-anginal     200.0    0.000000   \n",
       "700  701   63    Male    Switzerland     asymptomatic     185.0    0.000000   \n",
       "701  702   64  Female    Switzerland     asymptomatic     200.0    0.000000   \n",
       "727  728   60    Male  VA Long Beach      non-anginal     180.0    0.000000   \n",
       "779  780   59    Male  VA Long Beach     asymptomatic     178.0    0.000000   \n",
       "889  890   57    Male  VA Long Beach  atypical angina     180.0  285.000000   \n",
       "896  897   61    Male  VA Long Beach     asymptomatic     190.0  287.000000   \n",
       "\n",
       "       fbs           restecg  thalch  exang  oldpeak        slope        ca  \\\n",
       "83    True    lv hypertrophy   150.0   True      1.6         flat  0.000000   \n",
       "126   True    lv hypertrophy   133.0   True      4.0  downsloping  2.000000   \n",
       "183  False    lv hypertrophy   145.0  False      4.2  downsloping  0.000000   \n",
       "188  False    lv hypertrophy   195.0  False      0.0    upsloping  1.000000   \n",
       "201  False            normal   154.0   True      0.0    upsloping  0.000000   \n",
       "213   True            normal   165.0   True      1.0         flat  2.000000   \n",
       "231  False  st-t abnormality   117.0   True      3.4         flat  0.000000   \n",
       "338  False            normal   106.0  False      0.0         flat  0.922624   \n",
       "375  False            normal   180.0  False      0.0    upsloping  0.266641   \n",
       "387  False  st-t abnormality   120.0  False      0.0         flat  0.837687   \n",
       "475  False  st-t abnormality   126.0   True      0.8         flat  0.952236   \n",
       "484  False            normal   100.0  False      0.0         flat  0.947791   \n",
       "548  False            normal   142.0   True      2.0         flat  0.813802   \n",
       "569  False  st-t abnormality   120.0   True      1.5         flat  1.031836   \n",
       "595  False            normal   110.0   True      1.0         flat  1.164694   \n",
       "647  False            normal   150.0  False      1.5         flat  0.482915   \n",
       "680  False  st-t abnormality    70.0  False      0.0         flat  1.000953   \n",
       "700  False            normal    98.0   True      0.0    upsloping  0.753430   \n",
       "701  False            normal   140.0   True      1.0         flat  0.508259   \n",
       "727  False  st-t abnormality   140.0   True      1.5         flat  0.571316   \n",
       "779   True    lv hypertrophy   120.0   True      0.0         flat  0.558947   \n",
       "889   True  st-t abnormality   120.0  False      0.8         flat  0.943556   \n",
       "896   True    lv hypertrophy   150.0   True      2.0  downsloping  0.831681   \n",
       "\n",
       "                  thal  num  \n",
       "83   reversable defect    3  \n",
       "126  reversable defect    3  \n",
       "183  reversable defect    0  \n",
       "188  reversable defect    1  \n",
       "201             normal    0  \n",
       "213  reversable defect    3  \n",
       "231             normal    2  \n",
       "338  reversable defect    0  \n",
       "375             normal    0  \n",
       "387             normal    0  \n",
       "475             normal    0  \n",
       "484  reversable defect    0  \n",
       "548  reversable defect    1  \n",
       "569  reversable defect    1  \n",
       "595  reversable defect    1  \n",
       "647  reversable defect    1  \n",
       "680             normal    3  \n",
       "700  reversable defect    1  \n",
       "701             normal    3  \n",
       "727  reversable defect    0  \n",
       "779  reversable defect    1  \n",
       "889  reversable defect    1  \n",
       "896  reversable defect    4  "
      ]
     },
     "execution_count": 663,
     "metadata": {},
     "output_type": "execute_result"
    }
   ],
   "source": [
    "#trestbps maximum outlier/extreme values\n",
    "df[df['trestbps']>175]"
   ]
  },
  {
   "cell_type": "markdown",
   "metadata": {},
   "source": [
    "According to the statistical analysis, resting blood pressure values greater than 270 would be considered outliers. However, in a medical context, 175 is still high and could be flagged as a potential health risk, even though it's not a statistical outlier."
   ]
  },
  {
   "cell_type": "code",
   "execution_count": 664,
   "metadata": {
    "execution": {
     "iopub.execute_input": "2024-11-22T20:16:07.964775Z",
     "iopub.status.busy": "2024-11-22T20:16:07.964140Z",
     "iopub.status.idle": "2024-11-22T20:16:07.983705Z",
     "shell.execute_reply": "2024-11-22T20:16:07.982414Z",
     "shell.execute_reply.started": "2024-11-22T20:16:07.964703Z"
    },
    "trusted": true
   },
   "outputs": [
    {
     "name": "stdout",
     "output_type": "stream",
     "text": [
      "      id  age   sex        dataset            cp  trestbps   chol    fbs  \\\n",
      "631  632   51  Male    Switzerland  asymptomatic     140.0    0.0  False   \n",
      "677  678   60  Male    Switzerland  asymptomatic     135.0    0.0  False   \n",
      "705  706   65  Male    Switzerland  asymptomatic     145.0    0.0  False   \n",
      "800  801   58  Male  VA Long Beach  asymptomatic     132.0  458.0   True   \n",
      "\n",
      "              restecg  thalch  exang   oldpeak        slope        ca  \\\n",
      "631            normal    60.0  False  0.000000         flat  1.089354   \n",
      "677            normal    63.0   True  0.500000    upsloping  1.125891   \n",
      "705  st-t abnormality    67.0  False  1.213611         flat  1.180527   \n",
      "800            normal    69.0  False  1.000000  downsloping  1.591846   \n",
      "\n",
      "                  thal  num  \n",
      "631             normal    2  \n",
      "677  reversable defect    3  \n",
      "705       fixed defect    3  \n",
      "800  reversable defect    0  \n",
      "---------------------\n",
      "Empty DataFrame\n",
      "Columns: [id, age, sex, dataset, cp, trestbps, chol, fbs, restecg, thalch, exang, oldpeak, slope, ca, thal, num]\n",
      "Index: []\n"
     ]
    }
   ],
   "source": [
    "#thalch variable outliers \n",
    "print(df[df['thalch']<70])\n",
    "print('---------------------')\n",
    "print(df[df['thalch']>235])"
   ]
  },
  {
   "cell_type": "markdown",
   "metadata": {},
   "source": [
    "* For thalch, values below 60 and above 235 can be flagged as outliers based on medical context and statistical analysis. It means there is no outlier in thalch variable."
   ]
  },
  {
   "cell_type": "markdown",
   "metadata": {},
   "source": [
    "### oldpeak"
   ]
  },
  {
   "cell_type": "code",
   "execution_count": 665,
   "metadata": {
    "execution": {
     "iopub.execute_input": "2024-11-22T20:16:07.985426Z",
     "iopub.status.busy": "2024-11-22T20:16:07.985092Z",
     "iopub.status.idle": "2024-11-22T20:16:08.006983Z",
     "shell.execute_reply": "2024-11-22T20:16:08.005453Z",
     "shell.execute_reply.started": "2024-11-22T20:16:07.985394Z"
    },
    "trusted": true
   },
   "outputs": [
    {
     "data": {
      "text/html": [
       "<div>\n",
       "<style scoped>\n",
       "    .dataframe tbody tr th:only-of-type {\n",
       "        vertical-align: middle;\n",
       "    }\n",
       "\n",
       "    .dataframe tbody tr th {\n",
       "        vertical-align: top;\n",
       "    }\n",
       "\n",
       "    .dataframe thead th {\n",
       "        text-align: right;\n",
       "    }\n",
       "</style>\n",
       "<table border=\"1\" class=\"dataframe\">\n",
       "  <thead>\n",
       "    <tr style=\"text-align: right;\">\n",
       "      <th></th>\n",
       "      <th>id</th>\n",
       "      <th>age</th>\n",
       "      <th>sex</th>\n",
       "      <th>dataset</th>\n",
       "      <th>cp</th>\n",
       "      <th>trestbps</th>\n",
       "      <th>chol</th>\n",
       "      <th>fbs</th>\n",
       "      <th>restecg</th>\n",
       "      <th>thalch</th>\n",
       "      <th>exang</th>\n",
       "      <th>oldpeak</th>\n",
       "      <th>slope</th>\n",
       "      <th>ca</th>\n",
       "      <th>thal</th>\n",
       "      <th>num</th>\n",
       "    </tr>\n",
       "  </thead>\n",
       "  <tbody>\n",
       "    <tr>\n",
       "      <th>615</th>\n",
       "      <td>616</td>\n",
       "      <td>46</td>\n",
       "      <td>Male</td>\n",
       "      <td>Switzerland</td>\n",
       "      <td>asymptomatic</td>\n",
       "      <td>100.0</td>\n",
       "      <td>0.0</td>\n",
       "      <td>False</td>\n",
       "      <td>st-t abnormality</td>\n",
       "      <td>133.0</td>\n",
       "      <td>False</td>\n",
       "      <td>-2.6</td>\n",
       "      <td>flat</td>\n",
       "      <td>0.116128</td>\n",
       "      <td>reversable defect</td>\n",
       "      <td>1</td>\n",
       "    </tr>\n",
       "  </tbody>\n",
       "</table>\n",
       "</div>"
      ],
      "text/plain": [
       "      id  age   sex      dataset            cp  trestbps  chol    fbs  \\\n",
       "615  616   46  Male  Switzerland  asymptomatic     100.0   0.0  False   \n",
       "\n",
       "              restecg  thalch  exang  oldpeak slope        ca  \\\n",
       "615  st-t abnormality   133.0  False     -2.6  flat  0.116128   \n",
       "\n",
       "                  thal  num  \n",
       "615  reversable defect    1  "
      ]
     },
     "execution_count": 665,
     "metadata": {},
     "output_type": "execute_result"
    }
   ],
   "source": [
    "df[df['oldpeak']<-2.55]"
   ]
  },
  {
   "cell_type": "code",
   "execution_count": 666,
   "metadata": {
    "execution": {
     "iopub.execute_input": "2024-11-22T20:16:08.009096Z",
     "iopub.status.busy": "2024-11-22T20:16:08.008614Z",
     "iopub.status.idle": "2024-11-22T20:16:08.032122Z",
     "shell.execute_reply": "2024-11-22T20:16:08.030595Z",
     "shell.execute_reply.started": "2024-11-22T20:16:08.009044Z"
    },
    "trusted": true
   },
   "outputs": [
    {
     "data": {
      "text/html": [
       "<div>\n",
       "<style scoped>\n",
       "    .dataframe tbody tr th:only-of-type {\n",
       "        vertical-align: middle;\n",
       "    }\n",
       "\n",
       "    .dataframe tbody tr th {\n",
       "        vertical-align: top;\n",
       "    }\n",
       "\n",
       "    .dataframe thead th {\n",
       "        text-align: right;\n",
       "    }\n",
       "</style>\n",
       "<table border=\"1\" class=\"dataframe\">\n",
       "  <thead>\n",
       "    <tr style=\"text-align: right;\">\n",
       "      <th></th>\n",
       "      <th>id</th>\n",
       "      <th>age</th>\n",
       "      <th>sex</th>\n",
       "      <th>dataset</th>\n",
       "      <th>cp</th>\n",
       "      <th>trestbps</th>\n",
       "      <th>chol</th>\n",
       "      <th>fbs</th>\n",
       "      <th>restecg</th>\n",
       "      <th>thalch</th>\n",
       "      <th>exang</th>\n",
       "      <th>oldpeak</th>\n",
       "      <th>slope</th>\n",
       "      <th>ca</th>\n",
       "      <th>thal</th>\n",
       "      <th>num</th>\n",
       "    </tr>\n",
       "  </thead>\n",
       "  <tbody>\n",
       "    <tr>\n",
       "      <th>91</th>\n",
       "      <td>92</td>\n",
       "      <td>62</td>\n",
       "      <td>Female</td>\n",
       "      <td>Cleveland</td>\n",
       "      <td>asymptomatic</td>\n",
       "      <td>160.0</td>\n",
       "      <td>164.0</td>\n",
       "      <td>False</td>\n",
       "      <td>lv hypertrophy</td>\n",
       "      <td>145.0</td>\n",
       "      <td>False</td>\n",
       "      <td>6.2</td>\n",
       "      <td>downsloping</td>\n",
       "      <td>3.000000</td>\n",
       "      <td>reversable defect</td>\n",
       "      <td>3</td>\n",
       "    </tr>\n",
       "    <tr>\n",
       "      <th>123</th>\n",
       "      <td>124</td>\n",
       "      <td>55</td>\n",
       "      <td>Male</td>\n",
       "      <td>Cleveland</td>\n",
       "      <td>asymptomatic</td>\n",
       "      <td>140.0</td>\n",
       "      <td>217.0</td>\n",
       "      <td>False</td>\n",
       "      <td>normal</td>\n",
       "      <td>111.0</td>\n",
       "      <td>True</td>\n",
       "      <td>5.6</td>\n",
       "      <td>downsloping</td>\n",
       "      <td>0.000000</td>\n",
       "      <td>reversable defect</td>\n",
       "      <td>3</td>\n",
       "    </tr>\n",
       "    <tr>\n",
       "      <th>285</th>\n",
       "      <td>286</td>\n",
       "      <td>58</td>\n",
       "      <td>Male</td>\n",
       "      <td>Cleveland</td>\n",
       "      <td>asymptomatic</td>\n",
       "      <td>114.0</td>\n",
       "      <td>318.0</td>\n",
       "      <td>False</td>\n",
       "      <td>st-t abnormality</td>\n",
       "      <td>140.0</td>\n",
       "      <td>False</td>\n",
       "      <td>4.4</td>\n",
       "      <td>downsloping</td>\n",
       "      <td>3.000000</td>\n",
       "      <td>fixed defect</td>\n",
       "      <td>4</td>\n",
       "    </tr>\n",
       "    <tr>\n",
       "      <th>589</th>\n",
       "      <td>590</td>\n",
       "      <td>50</td>\n",
       "      <td>Male</td>\n",
       "      <td>Hungary</td>\n",
       "      <td>asymptomatic</td>\n",
       "      <td>140.0</td>\n",
       "      <td>231.0</td>\n",
       "      <td>False</td>\n",
       "      <td>st-t abnormality</td>\n",
       "      <td>140.0</td>\n",
       "      <td>True</td>\n",
       "      <td>5.0</td>\n",
       "      <td>flat</td>\n",
       "      <td>1.242677</td>\n",
       "      <td>reversable defect</td>\n",
       "      <td>1</td>\n",
       "    </tr>\n",
       "  </tbody>\n",
       "</table>\n",
       "</div>"
      ],
      "text/plain": [
       "      id  age     sex    dataset            cp  trestbps   chol    fbs  \\\n",
       "91    92   62  Female  Cleveland  asymptomatic     160.0  164.0  False   \n",
       "123  124   55    Male  Cleveland  asymptomatic     140.0  217.0  False   \n",
       "285  286   58    Male  Cleveland  asymptomatic     114.0  318.0  False   \n",
       "589  590   50    Male    Hungary  asymptomatic     140.0  231.0  False   \n",
       "\n",
       "              restecg  thalch  exang  oldpeak        slope        ca  \\\n",
       "91     lv hypertrophy   145.0  False      6.2  downsloping  3.000000   \n",
       "123            normal   111.0   True      5.6  downsloping  0.000000   \n",
       "285  st-t abnormality   140.0  False      4.4  downsloping  3.000000   \n",
       "589  st-t abnormality   140.0   True      5.0         flat  1.242677   \n",
       "\n",
       "                  thal  num  \n",
       "91   reversable defect    3  \n",
       "123  reversable defect    3  \n",
       "285       fixed defect    4  \n",
       "589  reversable defect    1  "
      ]
     },
     "execution_count": 666,
     "metadata": {},
     "output_type": "execute_result"
    }
   ],
   "source": [
    "df[df['oldpeak']>4.25]"
   ]
  },
  {
   "cell_type": "markdown",
   "metadata": {},
   "source": [
    "* Values below -2.55 can be considered outliers for negative depression.\n",
    "* Values above 4.25 can be considered outliers for positive depression.\n",
    "\n",
    "All the oldpeak values above 4.25 are extreme values. They are outside the expected range of values based on the IQR method, and they might indicate exceptional cases, misreported data, or require further examination.\n",
    "\n",
    "You might consider investigating these extreme values further, checking for potential data entry errors or deciding whether they should be treated as outliers (e.g., by removing or capping the values)."
   ]
  },
  {
   "cell_type": "markdown",
   "metadata": {},
   "source": [
    "# **Machine Learning**"
   ]
  },
  {
   "cell_type": "code",
   "execution_count": 667,
   "metadata": {
    "execution": {
     "iopub.execute_input": "2024-11-22T20:16:08.033878Z",
     "iopub.status.busy": "2024-11-22T20:16:08.033517Z",
     "iopub.status.idle": "2024-11-22T20:16:08.049413Z",
     "shell.execute_reply": "2024-11-22T20:16:08.048073Z",
     "shell.execute_reply.started": "2024-11-22T20:16:08.033842Z"
    },
    "trusted": true
   },
   "outputs": [
    {
     "data": {
      "text/plain": [
       "Index(['id', 'age', 'sex', 'dataset', 'cp', 'trestbps', 'chol', 'fbs',\n",
       "       'restecg', 'thalch', 'exang', 'oldpeak', 'slope', 'ca', 'thal', 'num'],\n",
       "      dtype='object')"
      ]
     },
     "execution_count": 667,
     "metadata": {},
     "output_type": "execute_result"
    }
   ],
   "source": [
    "df.columns"
   ]
  },
  {
   "cell_type": "code",
   "execution_count": 668,
   "metadata": {
    "execution": {
     "iopub.execute_input": "2024-11-22T20:16:08.051235Z",
     "iopub.status.busy": "2024-11-22T20:16:08.050800Z",
     "iopub.status.idle": "2024-11-22T20:16:08.072138Z",
     "shell.execute_reply": "2024-11-22T20:16:08.070739Z",
     "shell.execute_reply.started": "2024-11-22T20:16:08.051195Z"
    },
    "trusted": true
   },
   "outputs": [
    {
     "name": "stdout",
     "output_type": "stream",
     "text": [
      "<class 'pandas.core.frame.DataFrame'>\n",
      "Index: 919 entries, 0 to 919\n",
      "Data columns (total 16 columns):\n",
      " #   Column    Non-Null Count  Dtype  \n",
      "---  ------    --------------  -----  \n",
      " 0   id        919 non-null    int64  \n",
      " 1   age       919 non-null    int64  \n",
      " 2   sex       919 non-null    object \n",
      " 3   dataset   919 non-null    object \n",
      " 4   cp        919 non-null    object \n",
      " 5   trestbps  919 non-null    float64\n",
      " 6   chol      919 non-null    float64\n",
      " 7   fbs       919 non-null    object \n",
      " 8   restecg   919 non-null    object \n",
      " 9   thalch    919 non-null    float64\n",
      " 10  exang     919 non-null    object \n",
      " 11  oldpeak   919 non-null    float64\n",
      " 12  slope     919 non-null    object \n",
      " 13  ca        919 non-null    float64\n",
      " 14  thal      919 non-null    object \n",
      " 15  num       919 non-null    int64  \n",
      "dtypes: float64(5), int64(3), object(8)\n",
      "memory usage: 122.1+ KB\n"
     ]
    }
   ],
   "source": [
    "df.info()"
   ]
  },
  {
   "cell_type": "code",
   "execution_count": 672,
   "metadata": {
    "execution": {
     "iopub.execute_input": "2024-11-22T20:16:50.073148Z",
     "iopub.status.busy": "2024-11-22T20:16:50.072760Z",
     "iopub.status.idle": "2024-11-22T20:16:50.089942Z",
     "shell.execute_reply": "2024-11-22T20:16:50.088505Z",
     "shell.execute_reply.started": "2024-11-22T20:16:50.073114Z"
    },
    "trusted": true
   },
   "outputs": [],
   "source": [
    "# Split the data into X and y\n",
    "X = df.drop(columns='id', axis=1)\n",
    "y = df['num']\n",
    "\n",
    "# List of columns to encode\n",
    "columns_to_encode = ['sex', 'dataset', 'cp', 'fbs', 'restecg', 'exang', 'slope', 'thal']\n",
    "\n",
    "# Initialize label encoder and apply encoding\n",
    "le_dict = {}  # Dictionary to store the label encoders\n",
    "for col in columns_to_encode:\n",
    "    le = LabelEncoder()\n",
    "    df[col] = le.fit_transform(df[col])  # Encode the column\n",
    "    le_dict[col] = le  # Save the label encoder for potential inverse transformation later\n",
    "\n",
    "\n",
    "#split the data into train, test and split\n",
    "X_train, X_test, y_train, y_test = train_test_split(X,y,test_size=0.35,random_state=42)"
   ]
  },
  {
   "cell_type": "code",
   "execution_count": 673,
   "metadata": {
    "execution": {
     "iopub.execute_input": "2024-11-22T20:16:54.466091Z",
     "iopub.status.busy": "2024-11-22T20:16:54.465628Z",
     "iopub.status.idle": "2024-11-22T20:16:54.933173Z",
     "shell.execute_reply": "2024-11-22T20:16:54.932000Z",
     "shell.execute_reply.started": "2024-11-22T20:16:54.466054Z"
    },
    "trusted": true
   },
   "outputs": [
    {
     "name": "stdout",
     "output_type": "stream",
     "text": [
      "Training Random Forest...\n",
      "Random Forest Accuracy: 0.9783\n",
      "              precision    recall  f1-score   support\n",
      "\n",
      "           0       1.00      1.00      1.00       141\n",
      "           1       0.99      1.00      1.00       102\n",
      "           2       0.93      1.00      0.96        37\n",
      "           3       0.92      0.92      0.92        37\n",
      "           4       1.00      0.20      0.33         5\n",
      "\n",
      "    accuracy                           0.98       322\n",
      "   macro avg       0.97      0.82      0.84       322\n",
      "weighted avg       0.98      0.98      0.97       322\n",
      "\n",
      "Training SVM...\n",
      "SVM Accuracy: 0.4907\n",
      "              precision    recall  f1-score   support\n",
      "\n",
      "           0       0.51      0.96      0.66       141\n",
      "           1       0.42      0.23      0.29       102\n",
      "           2       0.00      0.00      0.00        37\n",
      "           3       0.00      0.00      0.00        37\n",
      "           4       0.00      0.00      0.00         5\n",
      "\n",
      "    accuracy                           0.49       322\n",
      "   macro avg       0.18      0.24      0.19       322\n",
      "weighted avg       0.35      0.49      0.38       322\n",
      "\n",
      "Training Logistic Regression...\n",
      "Logistic Regression Accuracy: 0.7360\n",
      "              precision    recall  f1-score   support\n",
      "\n",
      "           0       0.83      0.92      0.88       141\n",
      "           1       0.63      0.75      0.68       102\n",
      "           2       0.56      0.14      0.22        37\n",
      "           3       0.72      0.70      0.71        37\n",
      "           4       0.00      0.00      0.00         5\n",
      "\n",
      "    accuracy                           0.74       322\n",
      "   macro avg       0.55      0.50      0.50       322\n",
      "weighted avg       0.71      0.74      0.71       322\n",
      "\n",
      "Training K-Nearest Neighbors...\n",
      "K-Nearest Neighbors Accuracy: 0.5000\n",
      "              precision    recall  f1-score   support\n",
      "\n",
      "           0       0.57      0.84      0.68       141\n",
      "           1       0.44      0.31      0.37       102\n",
      "           2       0.20      0.11      0.14        37\n",
      "           3       0.35      0.16      0.22        37\n",
      "           4       0.00      0.00      0.00         5\n",
      "\n",
      "    accuracy                           0.50       322\n",
      "   macro avg       0.31      0.29      0.28       322\n",
      "weighted avg       0.45      0.50      0.46       322\n",
      "\n",
      "Training Decision Tree...\n",
      "Decision Tree Accuracy: 1.0000\n",
      "              precision    recall  f1-score   support\n",
      "\n",
      "           0       1.00      1.00      1.00       141\n",
      "           1       1.00      1.00      1.00       102\n",
      "           2       1.00      1.00      1.00        37\n",
      "           3       1.00      1.00      1.00        37\n",
      "           4       1.00      1.00      1.00         5\n",
      "\n",
      "    accuracy                           1.00       322\n",
      "   macro avg       1.00      1.00      1.00       322\n",
      "weighted avg       1.00      1.00      1.00       322\n",
      "\n",
      "\n",
      "Best Model:\n",
      "Decision Tree with accuracy: 1.0000\n"
     ]
    }
   ],
   "source": [
    "# Define models to train\n",
    "models = {\n",
    "    'Random Forest': RandomForestClassifier(random_state=42),\n",
    "    'SVM': SVC(probability=True, random_state=42),\n",
    "    'Logistic Regression': LogisticRegression(random_state=42),\n",
    "    'K-Nearest Neighbors': KNeighborsClassifier(),\n",
    "    'Decision Tree': DecisionTreeClassifier(random_state=42),\n",
    "    \n",
    "}\n",
    "\n",
    "# Train models and evaluate\n",
    "results = []\n",
    "for model_name, model in models.items():\n",
    "    print(f\"Training {model_name}...\")\n",
    "    try:\n",
    "        model.fit(X_train, y_train)\n",
    "        y_pred = model.predict(X_test)\n",
    "        acc = accuracy_score(y_test, y_pred)\n",
    "        results.append((model_name, acc))\n",
    "        print(f\"{model_name} Accuracy: {acc:.4f}\")\n",
    "        print(classification_report(y_test, y_pred))\n",
    "    except Exception as e:\n",
    "        print(f\"Error training {model_name}: {e}\")\n",
    "\n",
    "# Select the best model\n",
    "if results:\n",
    "    best_model_name, best_model_score = max(results, key=lambda x: x[1])\n",
    "    print(\"\\nBest Model:\")\n",
    "    print(f\"{best_model_name} with accuracy: {best_model_score:.4f}\")\n",
    "else:\n",
    "    print(\"No valid model could be trained.\")\n"
   ]
  },
  {
   "cell_type": "markdown",
   "metadata": {},
   "source": [
    "# **Hyper Parameter Tuning**"
   ]
  },
  {
   "cell_type": "code",
   "execution_count": 674,
   "metadata": {
    "execution": {
     "iopub.execute_input": "2024-11-22T20:17:16.185280Z",
     "iopub.status.busy": "2024-11-22T20:17:16.184785Z",
     "iopub.status.idle": "2024-11-22T20:18:02.293193Z",
     "shell.execute_reply": "2024-11-22T20:18:02.291171Z",
     "shell.execute_reply.started": "2024-11-22T20:17:16.185241Z"
    },
    "trusted": true
   },
   "outputs": [],
   "source": [
    "from sklearn.ensemble import RandomForestClassifier\n",
    "from sklearn.model_selection import GridSearchCV\n",
    "\n",
    "param_grid_rf = {\n",
    "    'n_estimators': [50, 100, 150],\n",
    "    'max_depth': [None, 10, 20, 30],\n",
    "    'min_samples_split': [2, 5, 10],\n",
    "    'min_samples_leaf': [1, 2, 4]\n",
    "}\n",
    "rf = RandomForestClassifier(random_state=42)\n",
    "grid_rf = GridSearchCV(rf, param_grid_rf, cv=5, n_jobs=-1, scoring='accuracy')\n",
    "grid_rf.fit(X_train, y_train)\n",
    "best_rf = grid_rf.best_estimator_\n",
    "\n"
   ]
  },
  {
   "cell_type": "code",
   "execution_count": 677,
   "metadata": {
    "execution": {
     "iopub.execute_input": "2024-11-22T20:18:26.240684Z",
     "iopub.status.busy": "2024-11-22T20:18:26.240219Z",
     "iopub.status.idle": "2024-11-22T20:18:26.275218Z",
     "shell.execute_reply": "2024-11-22T20:18:26.274067Z",
     "shell.execute_reply.started": "2024-11-22T20:18:26.240611Z"
    },
    "trusted": true
   },
   "outputs": [
    {
     "name": "stdout",
     "output_type": "stream",
     "text": [
      "Test Accuracy: 0.9782608695652174\n",
      "              precision    recall  f1-score   support\n",
      "\n",
      "           0       1.00      1.00      1.00       141\n",
      "           1       0.99      1.00      1.00       102\n",
      "           2       0.93      1.00      0.96        37\n",
      "           3       0.92      0.92      0.92        37\n",
      "           4       1.00      0.20      0.33         5\n",
      "\n",
      "    accuracy                           0.98       322\n",
      "   macro avg       0.97      0.82      0.84       322\n",
      "weighted avg       0.98      0.98      0.97       322\n",
      "\n",
      "[[141   0   0   0   0]\n",
      " [  0 102   0   0   0]\n",
      " [  0   0  37   0   0]\n",
      " [  0   1   2  34   0]\n",
      " [  0   0   1   3   1]]\n"
     ]
    }
   ],
   "source": [
    "\n",
    "\n",
    "# Predict using the best model found after hyperparameter tuning\n",
    "y_pred = best_rf.predict(X_test)\n",
    "\n",
    "# Evaluate the model\n",
    "accuracy = accuracy_score(y_test, y_pred)\n",
    "print(f\"Test Accuracy: {accuracy}\")\n",
    "\n",
    "# For a detailed classification report\n",
    "print(classification_report(y_test, y_pred))\n",
    "\n",
    "# Confusion Matrix (for classification problems)\n",
    "print(confusion_matrix(y_test, y_pred))\n"
   ]
  },
  {
   "cell_type": "code",
   "execution_count": 678,
   "metadata": {
    "execution": {
     "iopub.execute_input": "2024-11-22T20:18:37.662330Z",
     "iopub.status.busy": "2024-11-22T20:18:37.661936Z",
     "iopub.status.idle": "2024-11-22T20:18:38.272363Z",
     "shell.execute_reply": "2024-11-22T20:18:38.271023Z",
     "shell.execute_reply.started": "2024-11-22T20:18:37.662293Z"
    },
    "trusted": true
   },
   "outputs": [],
   "source": [
    "#decision tree hyperparameter tuning\n",
    "from sklearn.tree import DecisionTreeClassifier\n",
    "param_grid_dt = {\n",
    "    'max_depth': [None, 10, 20, 30],\n",
    "    'min_samples_split': [2, 5, 10],\n",
    "    'min_samples_leaf': [1, 2, 4]\n",
    "}\n",
    "dt = DecisionTreeClassifier(random_state=42)\n",
    "grid_dt = GridSearchCV(dt, param_grid_dt, cv=5, n_jobs=-1, scoring='accuracy')\n",
    "grid_dt.fit(X_train, y_train)\n",
    "best_dt = grid_dt.best_estimator_\n"
   ]
  },
  {
   "cell_type": "code",
   "execution_count": 681,
   "metadata": {
    "execution": {
     "iopub.execute_input": "2024-11-22T20:19:38.132427Z",
     "iopub.status.busy": "2024-11-22T20:19:38.131975Z",
     "iopub.status.idle": "2024-11-22T20:19:38.151677Z",
     "shell.execute_reply": "2024-11-22T20:19:38.150403Z",
     "shell.execute_reply.started": "2024-11-22T20:19:38.132389Z"
    },
    "trusted": true
   },
   "outputs": [
    {
     "name": "stdout",
     "output_type": "stream",
     "text": [
      "Test Accuracy: 1.0\n",
      "              precision    recall  f1-score   support\n",
      "\n",
      "           0       1.00      1.00      1.00       141\n",
      "           1       1.00      1.00      1.00       102\n",
      "           2       1.00      1.00      1.00        37\n",
      "           3       1.00      1.00      1.00        37\n",
      "           4       1.00      1.00      1.00         5\n",
      "\n",
      "    accuracy                           1.00       322\n",
      "   macro avg       1.00      1.00      1.00       322\n",
      "weighted avg       1.00      1.00      1.00       322\n",
      "\n"
     ]
    }
   ],
   "source": [
    "# Predict using the best model found after hyperparameter tuning\n",
    "y_pred = best_dt.predict(X_test)\n",
    "\n",
    "# Evaluate the model\n",
    "accuracy = accuracy_score(y_test, y_pred)\n",
    "print(f\"Test Accuracy: {accuracy}\")\n",
    "\n",
    "# For a detailed classification report\n",
    "print(classification_report(y_test, y_pred))\n",
    "\n"
   ]
  },
  {
   "cell_type": "code",
   "execution_count": 680,
   "metadata": {
    "execution": {
     "iopub.execute_input": "2024-11-22T20:18:58.390040Z",
     "iopub.status.busy": "2024-11-22T20:18:58.389604Z",
     "iopub.status.idle": "2024-11-22T20:18:58.622827Z",
     "shell.execute_reply": "2024-11-22T20:18:58.621286Z",
     "shell.execute_reply.started": "2024-11-22T20:18:58.389999Z"
    },
    "trusted": true
   },
   "outputs": [
    {
     "data": {
      "image/png": "[encoded data removed]",
      "text/plain": [
       "<Figure size 800x600 with 1 Axes>"
      ]
     },
     "metadata": {},
     "output_type": "display_data"
    }
   ],
   "source": [
    "\n",
    "# Generate confusion matrix\n",
    "cm = confusion_matrix(y_test, y_pred)\n",
    "\n",
    "# Plot confusion matrix with better formatting\n",
    "plt.figure(figsize=(8, 6))\n",
    "sns.heatmap(cm, annot=True, fmt='d', cmap='Blues', xticklabels=[0, 1, 2, 3, 4], yticklabels=[0, 1, 2, 3, 4], cbar=False)\n",
    "\n",
    "# Add labels, title, and axis ticks\n",
    "plt.xlabel('Predicted Labels')\n",
    "plt.ylabel('True Labels')\n",
    "plt.title('Confusion Matrix')\n",
    "plt.show()\n"
   ]
  }
 ],
 "metadata": {
  "kaggle": {
   "accelerator": "none",
   "dataSources": [
    {
     "datasetId": 888463,
     "sourceId": 1508992,
     "sourceType": "datasetVersion"
    }
   ],
   "dockerImageVersionId": 30786,
   "isGpuEnabled": false,
   "isInternetEnabled": true,
   "language": "python",
   "sourceType": "notebook"
  },
  "kernelspec": {
   "display_name": "Python 3",
   "language": "python",
   "name": "python3"
  },
  "language_info": {
   "codemirror_mode": {
    "name": "ipython",
    "version": 3
   },
   "file_extension": ".py",
   "mimetype": "text/x-python",
   "name": "python",
   "nbconvert_exporter": "python",
   "pygments_lexer": "ipython3",
   "version": "3.10.14"
  }
 },
 "nbformat": 4,
 "nbformat_minor": 4
}
